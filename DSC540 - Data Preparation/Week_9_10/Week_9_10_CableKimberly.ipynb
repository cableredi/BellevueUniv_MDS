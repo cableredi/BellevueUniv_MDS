{
 "cells": [
  {
   "cell_type": "markdown",
   "id": "70cc9114-45d0-434e-873a-327a412eb98b",
   "metadata": {},
   "source": [
    "# DSC 540 \n",
    "\n",
    "### Week 9 - 10:  Exercises\n",
    "\n",
    "**Author: Kimberly Cable<br>\n",
    "Date: 8-13-2022**"
   ]
  },
  {
   "cell_type": "markdown",
   "id": "03668a2b-ace0-40c6-872a-b4651b5f80a9",
   "metadata": {},
   "source": [
    "## Activity 11: Retrieving Data Correctly From Databases"
   ]
  },
  {
   "cell_type": "code",
   "execution_count": 2,
   "id": "82c3ab52-b995-4acb-b04e-0de73e0e8d81",
   "metadata": {},
   "outputs": [],
   "source": [
    "# import libraries\n",
    "import sqlite3\n",
    "import pandas as pd"
   ]
  },
  {
   "cell_type": "markdown",
   "id": "85b0451b-6db5-47bb-96fe-717254746f76",
   "metadata": {},
   "source": [
    "### 1. Connect to petsDB, and check whether the connection has been successful"
   ]
  },
  {
   "cell_type": "code",
   "execution_count": 3,
   "id": "e2913b6b-fe11-4cd4-96dd-cf396af4d2f2",
   "metadata": {},
   "outputs": [
    {
     "name": "stdout",
     "output_type": "stream",
     "text": [
      "True\n"
     ]
    }
   ],
   "source": [
    "def check_conn(conn):\n",
    "     try:\n",
    "        cursor = conn.cursor()\n",
    "        return True\n",
    "     except Exception as ex:\n",
    "        return False\n",
    "\n",
    "conn = sqlite3.connect('petsdb')\n",
    "print(check_conn(conn))"
   ]
  },
  {
   "cell_type": "markdown",
   "id": "9eda0fdc-914c-4228-91bd-d002ca009345",
   "metadata": {},
   "source": [
    "### 2. Find the different age groups in the persons database."
   ]
  },
  {
   "cell_type": "code",
   "execution_count": 5,
   "id": "7fae16c4-f999-449c-a677-080c0dfc33e8",
   "metadata": {},
   "outputs": [
    {
     "name": "stdout",
     "output_type": "stream",
     "text": [
      "There are 2 in age group 5\n",
      "There are 1 in age group 6\n",
      "There are 1 in age group 7\n",
      "There are 3 in age group 8\n",
      "There are 1 in age group 9\n",
      "There are 2 in age group 11\n",
      "There are 3 in age group 12\n",
      "There are 1 in age group 13\n",
      "There are 4 in age group 14\n",
      "There are 2 in age group 16\n",
      "There are 2 in age group 17\n",
      "There are 3 in age group 18\n",
      "There are 1 in age group 19\n",
      "There are 3 in age group 22\n",
      "There are 2 in age group 23\n",
      "There are 3 in age group 24\n",
      "There are 2 in age group 25\n",
      "There are 1 in age group 27\n",
      "There are 1 in age group 30\n",
      "There are 3 in age group 31\n",
      "There are 1 in age group 32\n",
      "There are 1 in age group 33\n",
      "There are 2 in age group 34\n",
      "There are 3 in age group 35\n",
      "There are 3 in age group 36\n",
      "There are 1 in age group 37\n",
      "There are 2 in age group 39\n",
      "There are 1 in age group 40\n",
      "There are 1 in age group 42\n",
      "There are 2 in age group 44\n",
      "There are 2 in age group 48\n",
      "There are 1 in age group 49\n",
      "There are 1 in age group 50\n",
      "There are 2 in age group 51\n",
      "There are 2 in age group 52\n",
      "There are 2 in age group 53\n",
      "There are 2 in age group 54\n",
      "There are 1 in age group 58\n",
      "There are 1 in age group 59\n",
      "There are 1 in age group 60\n",
      "There are 1 in age group 61\n",
      "There are 2 in age group 62\n",
      "There are 1 in age group 63\n",
      "There are 2 in age group 65\n",
      "There are 2 in age group 66\n",
      "There are 1 in age group 67\n",
      "There are 3 in age group 68\n",
      "There are 1 in age group 69\n",
      "There are 1 in age group 70\n",
      "There are 4 in age group 71\n",
      "There are 1 in age group 72\n",
      "There are 5 in age group 73\n",
      "There are 3 in age group 74\n"
     ]
    }
   ],
   "source": [
    "# Create SQL\n",
    "select_age_groups = \"SELECT count(*), age FROM persons GROUP BY age\"\n",
    "\n",
    "# Execute select all\n",
    "select_sql = conn.execute(select_age_groups)\n",
    "\n",
    "# Store select into rows\n",
    "ages_grouped_rows = select_sql.fetchall()\n",
    "\n",
    "# Print rows\n",
    "for counts in ages_grouped_rows:\n",
    "    print(f\"There are {counts[0]} in age group {counts[1]}\")"
   ]
  },
  {
   "cell_type": "markdown",
   "id": "300fcd1e-c231-4a81-a4ee-6c36c193b22d",
   "metadata": {},
   "source": [
    "### 3. Find the age group that has the maximum number of people"
   ]
  },
  {
   "cell_type": "code",
   "execution_count": 9,
   "id": "54924f76-8581-409b-adc4-efd067b111ab",
   "metadata": {},
   "outputs": [
    {
     "name": "stdout",
     "output_type": "stream",
     "text": [
      "The largest age group is 5 from age group 73\n"
     ]
    }
   ],
   "source": [
    "# Create SQL\n",
    "select_max_age_groups = \"\"\"\n",
    "    SELECT COUNT(age), age\n",
    "    FROM persons \n",
    "    GROUP BY age \n",
    "    ORDER BY COUNT(age) DESC LIMIT 1;\n",
    "\"\"\"\n",
    "\n",
    "# Execute select all\n",
    "select_sql = conn.execute(select_max_age_groups)\n",
    "\n",
    "# Store select into rows\n",
    "max_age_row = select_sql.fetchone()\n",
    "\n",
    "# Print rows\n",
    "print(f\"The largest age group is {max_age_row[0]} from age group {max_age_row[1]}\")"
   ]
  },
  {
   "cell_type": "markdown",
   "id": "97874c06-d4d3-4b9a-8c4c-ab7ce55d2ac0",
   "metadata": {},
   "source": [
    "### 4. Find the people who do not have a last name"
   ]
  },
  {
   "cell_type": "code",
   "execution_count": 10,
   "id": "695ee1cc-8a08-4589-973e-0598d263778a",
   "metadata": {},
   "outputs": [
    {
     "name": "stdout",
     "output_type": "stream",
     "text": [
      "There are 60 people without last names\n"
     ]
    }
   ],
   "source": [
    "# Create SQL\n",
    "select_no_last_name = \"\"\"\n",
    "    SELECT COUNT(*)\n",
    "    FROM persons \n",
    "    WHERE last_name IS NULL;\n",
    "\"\"\"\n",
    "\n",
    "# Execute select all\n",
    "select_sql = conn.execute(select_no_last_name)\n",
    "\n",
    "# Store select into rows\n",
    "no_last_row = select_sql.fetchone()\n",
    "\n",
    "# Print rows\n",
    "print(f\"There are {no_last_row[0]} people without last names\")"
   ]
  },
  {
   "cell_type": "markdown",
   "id": "bcbc068e-e6e0-42dc-bd96-7d2a28169e65",
   "metadata": {},
   "source": [
    "### 5. Find out how many people have more than one pet"
   ]
  },
  {
   "cell_type": "code",
   "execution_count": 11,
   "id": "7f46d20f-e54e-4c19-8f9f-9b5061042045",
   "metadata": {},
   "outputs": [
    {
     "name": "stdout",
     "output_type": "stream",
     "text": [
      "There are 43 people with more than one pet\n"
     ]
    }
   ],
   "source": [
    "# Create SQL\n",
    "select_people_pets = \"\"\"\n",
    "    SELECT COUNT(*) FROM \n",
    "    (SELECT count(owner_id) FROM pets \n",
    "    GROUP BY owner_id \n",
    "    HAVING COUNT(owner_id) > 1)\n",
    "\"\"\"\n",
    "\n",
    "# Execute select all\n",
    "select_sql = conn.execute(select_people_pets)\n",
    "\n",
    "# Store select into rows\n",
    "people_pets_row = select_sql.fetchone()\n",
    "\n",
    "# Print rows\n",
    "print(f\"There are {people_pets_row[0]} people with more than one pet\")"
   ]
  },
  {
   "cell_type": "markdown",
   "id": "fd8557da-81f6-4180-a9c6-5f151ada0abb",
   "metadata": {},
   "source": [
    "### 6. Find out how many pets have received treatment"
   ]
  },
  {
   "cell_type": "code",
   "execution_count": 14,
   "id": "e7a843dd-aab8-41d0-9f7f-2bcb5d035ff8",
   "metadata": {},
   "outputs": [
    {
     "name": "stdout",
     "output_type": "stream",
     "text": [
      "There are 36 pets that have had treatment\n"
     ]
    }
   ],
   "source": [
    "# Create SQL\n",
    "select_pets_treatment = \"\"\"\n",
    "    SELECT COUNT(*) \n",
    "    FROM pets \n",
    "    WHERE treatment_done = 1;\n",
    "\"\"\"\n",
    "\n",
    "# Execute select all\n",
    "select_sql = conn.execute(select_pets_treatment)\n",
    "\n",
    "# Store select into rows\n",
    "pets_treatment_row = select_sql.fetchone()\n",
    "\n",
    "# Print rows\n",
    "print(f\"There are {pets_treatment_row[0]} pets that have had treatment\")"
   ]
  },
  {
   "cell_type": "markdown",
   "id": "06627258-5a60-4c69-ab5d-0d7f83e1820e",
   "metadata": {},
   "source": [
    "### 7. Find out how many pets have received treatment and the type of pet if known"
   ]
  },
  {
   "cell_type": "code",
   "execution_count": 15,
   "id": "4f1eb862-090a-49a6-852a-88c170b3c5a0",
   "metadata": {},
   "outputs": [
    {
     "name": "stdout",
     "output_type": "stream",
     "text": [
      "There are 16 pets that have had treatment and known type\n"
     ]
    }
   ],
   "source": [
    "# Create SQL\n",
    "select_pets_treatment_known = \"\"\"\n",
    "    SELECT COUNT(*) \n",
    "    FROM pets \n",
    "    WHERE treatment_done = 1\n",
    "    AND pet_type IS NOT NULL;\n",
    "\"\"\"\n",
    "\n",
    "# Execute select all\n",
    "select_sql = conn.execute(select_pets_treatment_known)\n",
    "\n",
    "# Store select into rows\n",
    "pets_treatment_known_row = select_sql.fetchone()\n",
    "\n",
    "# Print rows\n",
    "print(f\"There are {pets_treatment_known_row[0]} pets that have had treatment and known type\")"
   ]
  },
  {
   "cell_type": "markdown",
   "id": "952cefa8-1c7f-4eb0-b91c-218f4b28c45d",
   "metadata": {},
   "source": [
    "### 8. Find out how many pets are from the city called east port"
   ]
  },
  {
   "cell_type": "code",
   "execution_count": 18,
   "id": "21a4e723-c2cd-41f6-b147-54b21c641954",
   "metadata": {},
   "outputs": [
    {
     "name": "stdout",
     "output_type": "stream",
     "text": [
      "There are 49 pets that are from east port\n"
     ]
    }
   ],
   "source": [
    "# Create SQL\n",
    "select_pets_eastport = \"\"\"\n",
    "    SELECT COUNT(*) \n",
    "    FROM pets \n",
    "    JOIN persons ON pets.owner_id = persons.id \n",
    "    WHERE persons.city = 'east port';\n",
    "\"\"\"\n",
    "\n",
    "# Execute select all\n",
    "select_sql = conn.execute(select_pets_eastport)\n",
    "\n",
    "# Store select into rows\n",
    "pets_eastport_row = select_sql.fetchone()\n",
    "\n",
    "# Print rows\n",
    "print(f\"There are {pets_eastport_row[0]} pets that are from east port\")"
   ]
  },
  {
   "cell_type": "markdown",
   "id": "bc6d3e63-0de1-4637-9d01-e99e2bbf21ef",
   "metadata": {},
   "source": [
    "### 9. Find out how many pets are from the city called east port and who received a treatment"
   ]
  },
  {
   "cell_type": "code",
   "execution_count": 19,
   "id": "90cd1383-355a-4944-85d0-e385c1e24fe2",
   "metadata": {},
   "outputs": [
    {
     "name": "stdout",
     "output_type": "stream",
     "text": [
      "There are 11 pets that are from east port and have had treatment\n"
     ]
    }
   ],
   "source": [
    "# Create SQL\n",
    "select_pets_eastport_treatment = \"\"\"\n",
    "    SELECT COUNT(*) \n",
    "    FROM pets \n",
    "    JOIN persons ON pets.owner_id = persons.id \n",
    "    WHERE persons.city = 'east port'\n",
    "    AND pets.treatment_done = 1;\n",
    "\"\"\"\n",
    "\n",
    "# Execute select all\n",
    "select_sql = conn.execute(select_pets_eastport_treatment)\n",
    "\n",
    "# Store select into rows\n",
    "pets_eastport_treatment_row = select_sql.fetchone()\n",
    "\n",
    "# Print rows\n",
    "print(f\"There are {pets_eastport_treatment_row[0]} pets that are from east port and have had treatment\")"
   ]
  },
  {
   "cell_type": "code",
   "execution_count": null,
   "id": "40110a15-a586-4454-b25f-4385a48bc5c9",
   "metadata": {},
   "outputs": [],
   "source": []
  }
 ],
 "metadata": {
  "kernelspec": {
   "display_name": "Python 3 (ipykernel)",
   "language": "python",
   "name": "python3"
  },
  "language_info": {
   "codemirror_mode": {
    "name": "ipython",
    "version": 3
   },
   "file_extension": ".py",
   "mimetype": "text/x-python",
   "name": "python",
   "nbconvert_exporter": "python",
   "pygments_lexer": "ipython3",
   "version": "3.8.8"
  }
 },
 "nbformat": 4,
 "nbformat_minor": 5
}
