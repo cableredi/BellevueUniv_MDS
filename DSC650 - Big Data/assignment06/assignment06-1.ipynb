{
 "cells": [
  {
   "cell_type": "markdown",
   "metadata": {
    "id": "Gt-_4e_-_dh-"
   },
   "source": [
    "# 6.1 ConvNet: MNIST image classifier (digits)"
   ]
  },
  {
   "cell_type": "code",
   "execution_count": 27,
   "metadata": {
    "colab": {
     "base_uri": "https://localhost:8080/"
    },
    "executionInfo": {
     "elapsed": 1758,
     "status": "ok",
     "timestamp": 1672674336142,
     "user": {
      "displayName": "Kim Cable",
      "userId": "00861743573147538310"
     },
     "user_tz": 420
    },
    "id": "yZy7cRwzFT58",
    "outputId": "b5526c75-8e20-4e82-dae9-cfe3984631d8"
   },
   "outputs": [
    {
     "name": "stdout",
     "output_type": "stream",
     "text": [
      "Mounted at /content/drive\n",
      "/content/drive/My Drive/DSC650/assignment06\n"
     ]
    }
   ],
   "source": [
    "import os\n",
    "from google.colab import drive\n",
    "drive.mount('/content/drive', force_remount = True)\n",
    "os.chdir('/content/drive/My Drive/DSC650/assignment06')\n",
    "!pwd"
   ]
  },
  {
   "cell_type": "code",
   "execution_count": 28,
   "metadata": {
    "executionInfo": {
     "elapsed": 71,
     "status": "ok",
     "timestamp": 1672674337972,
     "user": {
      "displayName": "Kim Cable",
      "userId": "00861743573147538310"
     },
     "user_tz": 420
    },
    "id": "ABSeStY42kE9"
   },
   "outputs": [],
   "source": [
    "import numpy as np\n",
    "import pandas as pd\n",
    "import matplotlib.pyplot as plt\n",
    "import pickle\n",
    "\n",
    "from keras import layers, models\n",
    "from keras.datasets import mnist\n",
    "from keras.models import Sequential\n",
    "from keras.layers import Dense, Dropout, Activation\n",
    "from keras.utils import np_utils, to_categorical"
   ]
  },
  {
   "cell_type": "markdown",
   "metadata": {
    "id": "L7T3PKsx37yD"
   },
   "source": [
    "Load the Data"
   ]
  },
  {
   "cell_type": "code",
   "execution_count": 29,
   "metadata": {
    "executionInfo": {
     "elapsed": 461,
     "status": "ok",
     "timestamp": 1672674340097,
     "user": {
      "displayName": "Kim Cable",
      "userId": "00861743573147538310"
     },
     "user_tz": 420
    },
    "id": "_W0QAMDJ2qQe"
   },
   "outputs": [],
   "source": [
    "(train_images, train_labels), (test_images, test_labels) = mnist.load_data()"
   ]
  },
  {
   "cell_type": "code",
   "execution_count": 30,
   "metadata": {
    "colab": {
     "base_uri": "https://localhost:8080/"
    },
    "executionInfo": {
     "elapsed": 101,
     "status": "ok",
     "timestamp": 1672674343836,
     "user": {
      "displayName": "Kim Cable",
      "userId": "00861743573147538310"
     },
     "user_tz": 420
    },
    "id": "gNXUvM2-EECj",
    "outputId": "c49d0841-73c4-4699-8c51-10f13ddd9902"
   },
   "outputs": [
    {
     "name": "stdout",
     "output_type": "stream",
     "text": [
      "train_images: (60000, 28, 28)\n",
      "test_images: (10000, 28, 28)\n",
      "train_labels: (60000,)\n",
      "test_labels: (10000,)\n"
     ]
    }
   ],
   "source": [
    "# get the size of the data sets\n",
    "print(f'train_images: {train_images.shape}')\n",
    "print(f'test_images: {test_images.shape}')\n",
    "print(f'train_labels: {train_labels.shape}')\n",
    "print(f'test_labels: {test_labels.shape}')"
   ]
  },
  {
   "cell_type": "code",
   "execution_count": 31,
   "metadata": {
    "colab": {
     "base_uri": "https://localhost:8080/",
     "height": 298
    },
    "executionInfo": {
     "elapsed": 284,
     "status": "ok",
     "timestamp": 1672674345791,
     "user": {
      "displayName": "Kim Cable",
      "userId": "00861743573147538310"
     },
     "user_tz": 420
    },
    "id": "C_IIJIp721gW",
    "outputId": "c6dda7a2-cc19-45f4-c1d0-25158318ad50"
   },
   "outputs": [
    {
     "data": {
      "text/plain": [
       "Text(0.5, 1.0, '5')"
      ]
     },
     "execution_count": 31,
     "metadata": {},
     "output_type": "execute_result"
    },
    {
     "data": {
      "image/png": "[encoded data removed]",
      "text/plain": [
       "<Figure size 432x288 with 1 Axes>"
      ]
     },
     "metadata": {
      "needs_background": "light"
     },
     "output_type": "display_data"
    }
   ],
   "source": [
    "plt.imshow(train_images[0], cmap = 'gray')\n",
    "plt.title(train_labels[0])"
   ]
  },
  {
   "cell_type": "code",
   "execution_count": 32,
   "metadata": {
    "executionInfo": {
     "elapsed": 75,
     "status": "ok",
     "timestamp": 1672674347976,
     "user": {
      "displayName": "Kim Cable",
      "userId": "00861743573147538310"
     },
     "user_tz": 420
    },
    "id": "gyYpPlgS3Eh7"
   },
   "outputs": [],
   "source": [
    "# reshape datasets\n",
    "train_images = train_images.reshape((60000, 28, 28, 1))\n",
    "test_images = test_images.reshape((10000, 28, 28, 1))"
   ]
  },
  {
   "cell_type": "code",
   "execution_count": 33,
   "metadata": {
    "executionInfo": {
     "elapsed": 190,
     "status": "ok",
     "timestamp": 1672674349205,
     "user": {
      "displayName": "Kim Cable",
      "userId": "00861743573147538310"
     },
     "user_tz": 420
    },
    "id": "aEj8b2f93pi3"
   },
   "outputs": [],
   "source": [
    "# normalize datasets\n",
    "train_images = train_images.astype('float32') / 255\n",
    "test_images = test_images.astype('float32') / 255"
   ]
  },
  {
   "cell_type": "code",
   "execution_count": 34,
   "metadata": {
    "executionInfo": {
     "elapsed": 85,
     "status": "ok",
     "timestamp": 1672674350132,
     "user": {
      "displayName": "Kim Cable",
      "userId": "00861743573147538310"
     },
     "user_tz": 420
    },
    "id": "8_XG7gZZ4daY"
   },
   "outputs": [],
   "source": [
    "# convert labels to numeric\n",
    "train_labels = to_categorical(train_labels, 10)\n",
    "test_labels = to_categorical(test_labels, 10)"
   ]
  },
  {
   "cell_type": "markdown",
   "metadata": {
    "id": "9jtQKI9g4zrQ"
   },
   "source": [
    "Split training into training and validatation datasets"
   ]
  },
  {
   "cell_type": "code",
   "execution_count": 35,
   "metadata": {
    "executionInfo": {
     "elapsed": 91,
     "status": "ok",
     "timestamp": 1672674351841,
     "user": {
      "displayName": "Kim Cable",
      "userId": "00861743573147538310"
     },
     "user_tz": 420
    },
    "id": "Uju2Ytpk43Mc"
   },
   "outputs": [],
   "source": [
    "x_val = train_images[:10000]\n",
    "partial_x_train = train_images[10000:]\n",
    "\n",
    "y_val = train_labels[:10000]\n",
    "partial_y_train = train_labels[10000:]"
   ]
  },
  {
   "cell_type": "markdown",
   "metadata": {
    "id": "MBJ8b-LU356w"
   },
   "source": [
    "Build the Model"
   ]
  },
  {
   "cell_type": "code",
   "execution_count": 36,
   "metadata": {
    "executionInfo": {
     "elapsed": 101,
     "status": "ok",
     "timestamp": 1672674353694,
     "user": {
      "displayName": "Kim Cable",
      "userId": "00861743573147538310"
     },
     "user_tz": 420
    },
    "id": "O3M4KnK34AyS"
   },
   "outputs": [],
   "source": [
    "# Instantiate a convnet\n",
    "model = models.Sequential()\n",
    "model.add(layers.Conv2D(32, (3, 3), activation = 'relu', input_shape = (28, 28, 1)))\n",
    "model.add(layers.MaxPooling2D((2,2)))\n",
    "model.add(layers.Conv2D(64, (3, 3), activation = 'relu'))\n",
    "model.add(layers.MaxPooling2D((2,2)))\n",
    "model.add(layers.Conv2D(64, (3, 3), activation = 'relu'))"
   ]
  },
  {
   "cell_type": "code",
   "execution_count": 37,
   "metadata": {
    "executionInfo": {
     "elapsed": 72,
     "status": "ok",
     "timestamp": 1672674354859,
     "user": {
      "displayName": "Kim Cable",
      "userId": "00861743573147538310"
     },
     "user_tz": 420
    },
    "id": "N7ZStEXL6VU-"
   },
   "outputs": [],
   "source": [
    "# Add a classifier on top of the convnet\n",
    "model.add(layers.Flatten())\n",
    "model.add(layers.Dense(64, activation = 'relu'))\n",
    "model.add(layers.Dense(10, activation = 'softmax'))"
   ]
  },
  {
   "cell_type": "markdown",
   "metadata": {
    "id": "q5hookK-JVKa"
   },
   "source": [
    "Compile the Model"
   ]
  },
  {
   "cell_type": "code",
   "execution_count": 38,
   "metadata": {
    "executionInfo": {
     "elapsed": 78,
     "status": "ok",
     "timestamp": 1672674356383,
     "user": {
      "displayName": "Kim Cable",
      "userId": "00861743573147538310"
     },
     "user_tz": 420
    },
    "id": "8_a_dZXL6jhm"
   },
   "outputs": [],
   "source": [
    "model.compile(optimizer = 'rmsprop', loss = 'categorical_crossentropy', metrics = ['accuracy'])"
   ]
  },
  {
   "cell_type": "markdown",
   "metadata": {
    "id": "28kLovXm6zuo"
   },
   "source": [
    "Train the model"
   ]
  },
  {
   "cell_type": "code",
   "execution_count": 39,
   "metadata": {
    "colab": {
     "base_uri": "https://localhost:8080/"
    },
    "executionInfo": {
     "elapsed": 278958,
     "status": "ok",
     "timestamp": 1672674637255,
     "user": {
      "displayName": "Kim Cable",
      "userId": "00861743573147538310"
     },
     "user_tz": 420
    },
    "id": "STimxhlK649b",
    "outputId": "36c38fb5-3677-4a92-d263-ca9621cc8278"
   },
   "outputs": [
    {
     "name": "stdout",
     "output_type": "stream",
     "text": [
      "Epoch 1/5\n",
      "782/782 [==============================] - 58s 73ms/step - loss: 0.2125 - accuracy: 0.9321 - val_loss: 0.0892 - val_accuracy: 0.9743\n",
      "Epoch 2/5\n",
      "782/782 [==============================] - 54s 69ms/step - loss: 0.0546 - accuracy: 0.9828 - val_loss: 0.0559 - val_accuracy: 0.9830\n",
      "Epoch 3/5\n",
      "782/782 [==============================] - 57s 73ms/step - loss: 0.0376 - accuracy: 0.9882 - val_loss: 0.0425 - val_accuracy: 0.9885\n",
      "Epoch 4/5\n",
      "782/782 [==============================] - 55s 71ms/step - loss: 0.0274 - accuracy: 0.9910 - val_loss: 0.0412 - val_accuracy: 0.9887\n",
      "Epoch 5/5\n",
      "782/782 [==============================] - 55s 70ms/step - loss: 0.0220 - accuracy: 0.9930 - val_loss: 0.0422 - val_accuracy: 0.9866\n"
     ]
    }
   ],
   "source": [
    "history = model.fit(partial_x_train, partial_y_train,\n",
    "                    epochs = 5, batch_size = 64,\n",
    "                    validation_data = (x_val, y_val))"
   ]
  },
  {
   "cell_type": "markdown",
   "metadata": {
    "id": "wuti7Mog8ub0"
   },
   "source": [
    "Train History"
   ]
  },
  {
   "cell_type": "code",
   "execution_count": 40,
   "metadata": {
    "colab": {
     "base_uri": "https://localhost:8080/"
    },
    "executionInfo": {
     "elapsed": 75,
     "status": "ok",
     "timestamp": 1672674640629,
     "user": {
      "displayName": "Kim Cable",
      "userId": "00861743573147538310"
     },
     "user_tz": 420
    },
    "id": "E0r6Xk0e8w_e",
    "outputId": "a4f55f1a-f749-4232-fc0f-9fe0190a599f"
   },
   "outputs": [
    {
     "data": {
      "text/plain": [
       "dict_keys(['loss', 'accuracy', 'val_loss', 'val_accuracy'])"
      ]
     },
     "execution_count": 40,
     "metadata": {},
     "output_type": "execute_result"
    }
   ],
   "source": [
    "history_dict = history.history\n",
    "history_dict.keys()"
   ]
  },
  {
   "cell_type": "markdown",
   "metadata": {
    "id": "aHnc_UwV83fe"
   },
   "source": [
    "Plot Training and Validation Loss"
   ]
  },
  {
   "cell_type": "code",
   "execution_count": 41,
   "metadata": {
    "colab": {
     "base_uri": "https://localhost:8080/",
     "height": 404
    },
    "executionInfo": {
     "elapsed": 522,
     "status": "ok",
     "timestamp": 1672674642612,
     "user": {
      "displayName": "Kim Cable",
      "userId": "00861743573147538310"
     },
     "user_tz": 420
    },
    "id": "Y2WFGeYX85V8",
    "outputId": "b834ddaa-ddaa-4b06-b978-e2a84ca745e5"
   },
   "outputs": [
    {
     "data": {
      "image/png": "[encoded data removed]",
      "text/plain": [
       "<Figure size 720x432 with 1 Axes>"
      ]
     },
     "metadata": {
      "needs_background": "light"
     },
     "output_type": "display_data"
    }
   ],
   "source": [
    "plt.figure(figsize = (10, 6))\n",
    "\n",
    "loss_values = history_dict['loss']\n",
    "val_loss_values = history_dict['val_loss']\n",
    "\n",
    "epochs = range(1, len(loss_values) + 1)\n",
    "\n",
    "plt.plot(epochs, loss_values, 'r', label = 'Training loss')\n",
    "plt.plot(epochs, val_loss_values, 'b', label = 'Validation loss')\n",
    "\n",
    "plt.title('Training and Validation Loss')\n",
    "plt.xlabel('Epochs')\n",
    "plt.ylabel('Loss')\n",
    "\n",
    "plt.legend()\n",
    "\n",
    "fig = plt.gcf()\n",
    "fig.savefig('results/mnist/train_val_loss.png')\n",
    "\n",
    "plt.show()"
   ]
  },
  {
   "cell_type": "markdown",
   "metadata": {
    "id": "dUNGZzDP-rUr"
   },
   "source": [
    "Plot Validation and Training Accuracy"
   ]
  },
  {
   "cell_type": "code",
   "execution_count": 42,
   "metadata": {
    "colab": {
     "base_uri": "https://localhost:8080/",
     "height": 421
    },
    "executionInfo": {
     "elapsed": 413,
     "status": "ok",
     "timestamp": 1672674647482,
     "user": {
      "displayName": "Kim Cable",
      "userId": "00861743573147538310"
     },
     "user_tz": 420
    },
    "id": "b-2lcqac-uGC",
    "outputId": "8d6eeffe-059d-4e1d-e98d-e06c8cb2ca26"
   },
   "outputs": [
    {
     "data": {
      "text/plain": [
       "<Figure size 432x288 with 0 Axes>"
      ]
     },
     "metadata": {},
     "output_type": "display_data"
    },
    {
     "data": {
      "image/png": "[encoded data removed]",
      "text/plain": [
       "<Figure size 720x432 with 1 Axes>"
      ]
     },
     "metadata": {
      "needs_background": "light"
     },
     "output_type": "display_data"
    }
   ],
   "source": [
    "plt.clf()\n",
    "\n",
    "plt.figure(figsize = (10, 6))\n",
    "\n",
    "acc_values = history_dict['accuracy']\n",
    "val_acc_values = history_dict['val_accuracy']\n",
    "\n",
    "epochs = range(1, len(loss_values) + 1)\n",
    "\n",
    "plt.plot(epochs, acc_values, 'r', label = 'Training accuracy')\n",
    "plt.plot(epochs, val_acc_values, 'b', label = 'Validation accuracy')\n",
    "\n",
    "plt.title('Training and Validation Accuracy')\n",
    "plt.xlabel('Epochs')\n",
    "plt.ylabel('Accuracy')\n",
    "\n",
    "plt.legend()\n",
    "\n",
    "fig = plt.gcf()\n",
    "fig.savefig('results/mnist/train_val_accuracy.png')\n",
    "\n",
    "plt.show()"
   ]
  },
  {
   "cell_type": "markdown",
   "metadata": {
    "id": "hC1CbihD_FSv"
   },
   "source": [
    "Evaluate the model"
   ]
  },
  {
   "cell_type": "code",
   "execution_count": 43,
   "metadata": {
    "colab": {
     "base_uri": "https://localhost:8080/"
    },
    "executionInfo": {
     "elapsed": 4302,
     "status": "ok",
     "timestamp": 1672674655463,
     "user": {
      "displayName": "Kim Cable",
      "userId": "00861743573147538310"
     },
     "user_tz": 420
    },
    "id": "1gvYOoz8DkZ3",
    "outputId": "80dfd4b3-d2fa-483e-b55a-8b32a43fede5"
   },
   "outputs": [
    {
     "name": "stdout",
     "output_type": "stream",
     "text": [
      "313/313 [==============================] - 4s 13ms/step - loss: 0.0308 - accuracy: 0.9909\n"
     ]
    }
   ],
   "source": [
    "test_loss, test_acc = model.evaluate(test_images, test_labels)"
   ]
  },
  {
   "cell_type": "code",
   "execution_count": 44,
   "metadata": {
    "colab": {
     "base_uri": "https://localhost:8080/"
    },
    "executionInfo": {
     "elapsed": 84,
     "status": "ok",
     "timestamp": 1672674657269,
     "user": {
      "displayName": "Kim Cable",
      "userId": "00861743573147538310"
     },
     "user_tz": 420
    },
    "id": "ajuH-tIhDmnO",
    "outputId": "1f9a56b5-56bb-4bae-e4f3-59ea6a4ac03a"
   },
   "outputs": [
    {
     "name": "stdout",
     "output_type": "stream",
     "text": [
      "Test accurancy: 99.1%\n",
      "Test loss: 0.031\n"
     ]
    }
   ],
   "source": [
    "print(f'Test accurancy: {test_acc * 100:.1f}%')\n",
    "print(f'Test loss: {test_loss:.3f}')"
   ]
  },
  {
   "cell_type": "markdown",
   "metadata": {
    "id": "TKbtvCJsFA1t"
   },
   "source": [
    "Save Model and results"
   ]
  },
  {
   "cell_type": "code",
   "execution_count": 45,
   "metadata": {
    "executionInfo": {
     "elapsed": 89,
     "status": "ok",
     "timestamp": 1672674660367,
     "user": {
      "displayName": "Kim Cable",
      "userId": "00861743573147538310"
     },
     "user_tz": 420
    },
    "id": "hC0BUFwyFCjk"
   },
   "outputs": [],
   "source": [
    "model.save('results/mnist/mnist.h5', history)"
   ]
  },
  {
   "cell_type": "code",
   "execution_count": 46,
   "metadata": {
    "executionInfo": {
     "elapsed": 97,
     "status": "ok",
     "timestamp": 1672674661784,
     "user": {
      "displayName": "Kim Cable",
      "userId": "00861743573147538310"
     },
     "user_tz": 420
    },
    "id": "pKIx0N6lG-Ic"
   },
   "outputs": [],
   "source": [
    "pickle.dump({'test_accuracy': test_acc, \n",
    "            'test_loss': test_loss, \n",
    "            'history_dict': history_dict},\n",
    "            open(\"results/mnist/training_metrics\", \"wb\"))"
   ]
  }
 ],
 "metadata": {
  "colab": {
   "authorship_tag": "ABX9TyM2NLcU0Tlmpv5di7AjIqNE",
   "provenance": []
  },
  "kernelspec": {
   "display_name": "Python 3 (ipykernel)",
   "language": "python",
   "name": "python3"
  },
  "language_info": {
   "codemirror_mode": {
    "name": "ipython",
    "version": 3
   },
   "file_extension": ".py",
   "mimetype": "text/x-python",
   "name": "python",
   "nbconvert_exporter": "python",
   "pygments_lexer": "ipython3",
   "version": "3.9.13"
  }
 },
 "nbformat": 4,
 "nbformat_minor": 4
}
