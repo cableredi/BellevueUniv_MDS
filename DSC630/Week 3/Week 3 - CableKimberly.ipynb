{
 "cells": [
  {
   "cell_type": "markdown",
   "id": "854be9c5-41eb-4b8c-b15d-0a506d669f3d",
   "metadata": {},
   "source": [
    "## DSC 630\n",
    "### Week 3: Assignment 3.2\n",
    "**Author:** Kimberly Cable<br>\n",
    "**Date:** "
   ]
  },
  {
   "cell_type": "markdown",
   "id": "a2f4dffd-0c69-4920-abb3-37f252fe3388",
   "metadata": {},
   "source": [
    "### 3.2 Assignment: Using Data to impove MLB Attendance"
   ]
  },
  {
   "cell_type": "markdown",
   "id": "1af929cb-ee98-4e46-b71f-fa91160322d5",
   "metadata": {},
   "source": [
    "In this assignment, you will be using data on the Los Angeles Dodgers Major League Baseball (MLB) team located here: dodgers.csv. Use this data to make a recommendation to management on how to improve attendance. Tell a story with your analysis and clearly explain the steps you take to arrive at your conclusion. This is an open-ended question, and there is no one right answer. You are welcome to do additional research and/or use domain knowledge to assist your analysis, but clearly state any assumptions you make."
   ]
  },
  {
   "cell_type": "markdown",
   "id": "06808a3d-aa0f-438a-a9b2-3390d5b19011",
   "metadata": {},
   "source": [
    "Questions:\n",
    "* Does attendance go up if its a night game versus a day game?\n",
    "* Does attendance go up if the temperature is in the 80s?\n",
    "* Does the day of the week affect the attendance at a game?\n",
    "* Is attendance affected by a promotion? and which promotion?"
   ]
  },
  {
   "cell_type": "code",
   "execution_count": 1,
   "id": "5fcfa33d-d9ad-41cd-9aa4-de1373e5f441",
   "metadata": {},
   "outputs": [
    {
     "name": "stderr",
     "output_type": "stream",
     "text": [
      "C:\\Users\\Osgiliath\\anaconda3\\lib\\site-packages\\statsmodels\\tsa\\base\\tsa_model.py:7: FutureWarning: pandas.Int64Index is deprecated and will be removed from pandas in a future version. Use pandas.Index with the appropriate dtype instead.\n",
      "  from pandas import (to_datetime, Int64Index, DatetimeIndex, Period,\n",
      "C:\\Users\\Osgiliath\\anaconda3\\lib\\site-packages\\statsmodels\\tsa\\base\\tsa_model.py:7: FutureWarning: pandas.Float64Index is deprecated and will be removed from pandas in a future version. Use pandas.Index with the appropriate dtype instead.\n",
      "  from pandas import (to_datetime, Int64Index, DatetimeIndex, Period,\n"
     ]
    }
   ],
   "source": [
    "# Load libraries\n",
    "import pandas as pd\n",
    "import matplotlib.pyplot as plt\n",
    "from matplotlib.colors import ListedColormap\n",
    "import numpy as np\n",
    "import seaborn as sns\n",
    "import statsmodels.api as sm\n",
    "from sklearn.model_selection import train_test_split\n",
    "\n",
    "%matplotlib inline"
   ]
  },
  {
   "cell_type": "code",
   "execution_count": 2,
   "id": "6eb888e8-42fe-4fa1-b0ae-ac6f0b670e63",
   "metadata": {},
   "outputs": [
    {
     "data": {
      "text/html": [
       "<div>\n",
       "<style scoped>\n",
       "    .dataframe tbody tr th:only-of-type {\n",
       "        vertical-align: middle;\n",
       "    }\n",
       "\n",
       "    .dataframe tbody tr th {\n",
       "        vertical-align: top;\n",
       "    }\n",
       "\n",
       "    .dataframe thead th {\n",
       "        text-align: right;\n",
       "    }\n",
       "</style>\n",
       "<table border=\"1\" class=\"dataframe\">\n",
       "  <thead>\n",
       "    <tr style=\"text-align: right;\">\n",
       "      <th></th>\n",
       "      <th>month</th>\n",
       "      <th>day</th>\n",
       "      <th>attend</th>\n",
       "      <th>day_of_week</th>\n",
       "      <th>opponent</th>\n",
       "      <th>temp</th>\n",
       "      <th>skies</th>\n",
       "      <th>day_night</th>\n",
       "      <th>cap</th>\n",
       "      <th>shirt</th>\n",
       "      <th>fireworks</th>\n",
       "      <th>bobblehead</th>\n",
       "    </tr>\n",
       "  </thead>\n",
       "  <tbody>\n",
       "    <tr>\n",
       "      <th>0</th>\n",
       "      <td>APR</td>\n",
       "      <td>10</td>\n",
       "      <td>56000</td>\n",
       "      <td>Tuesday</td>\n",
       "      <td>Pirates</td>\n",
       "      <td>67</td>\n",
       "      <td>Clear</td>\n",
       "      <td>Day</td>\n",
       "      <td>NO</td>\n",
       "      <td>NO</td>\n",
       "      <td>NO</td>\n",
       "      <td>NO</td>\n",
       "    </tr>\n",
       "    <tr>\n",
       "      <th>1</th>\n",
       "      <td>APR</td>\n",
       "      <td>11</td>\n",
       "      <td>29729</td>\n",
       "      <td>Wednesday</td>\n",
       "      <td>Pirates</td>\n",
       "      <td>58</td>\n",
       "      <td>Cloudy</td>\n",
       "      <td>Night</td>\n",
       "      <td>NO</td>\n",
       "      <td>NO</td>\n",
       "      <td>NO</td>\n",
       "      <td>NO</td>\n",
       "    </tr>\n",
       "    <tr>\n",
       "      <th>2</th>\n",
       "      <td>APR</td>\n",
       "      <td>12</td>\n",
       "      <td>28328</td>\n",
       "      <td>Thursday</td>\n",
       "      <td>Pirates</td>\n",
       "      <td>57</td>\n",
       "      <td>Cloudy</td>\n",
       "      <td>Night</td>\n",
       "      <td>NO</td>\n",
       "      <td>NO</td>\n",
       "      <td>NO</td>\n",
       "      <td>NO</td>\n",
       "    </tr>\n",
       "    <tr>\n",
       "      <th>3</th>\n",
       "      <td>APR</td>\n",
       "      <td>13</td>\n",
       "      <td>31601</td>\n",
       "      <td>Friday</td>\n",
       "      <td>Padres</td>\n",
       "      <td>54</td>\n",
       "      <td>Cloudy</td>\n",
       "      <td>Night</td>\n",
       "      <td>NO</td>\n",
       "      <td>NO</td>\n",
       "      <td>YES</td>\n",
       "      <td>NO</td>\n",
       "    </tr>\n",
       "    <tr>\n",
       "      <th>4</th>\n",
       "      <td>APR</td>\n",
       "      <td>14</td>\n",
       "      <td>46549</td>\n",
       "      <td>Saturday</td>\n",
       "      <td>Padres</td>\n",
       "      <td>57</td>\n",
       "      <td>Cloudy</td>\n",
       "      <td>Night</td>\n",
       "      <td>NO</td>\n",
       "      <td>NO</td>\n",
       "      <td>NO</td>\n",
       "      <td>NO</td>\n",
       "    </tr>\n",
       "  </tbody>\n",
       "</table>\n",
       "</div>"
      ],
      "text/plain": [
       "  month  day  attend day_of_week opponent  temp   skies day_night cap shirt  \\\n",
       "0   APR   10   56000     Tuesday  Pirates    67  Clear        Day  NO    NO   \n",
       "1   APR   11   29729   Wednesday  Pirates    58  Cloudy     Night  NO    NO   \n",
       "2   APR   12   28328    Thursday  Pirates    57  Cloudy     Night  NO    NO   \n",
       "3   APR   13   31601      Friday   Padres    54  Cloudy     Night  NO    NO   \n",
       "4   APR   14   46549    Saturday   Padres    57  Cloudy     Night  NO    NO   \n",
       "\n",
       "  fireworks bobblehead  \n",
       "0        NO         NO  \n",
       "1        NO         NO  \n",
       "2        NO         NO  \n",
       "3       YES         NO  \n",
       "4        NO         NO  "
      ]
     },
     "execution_count": 2,
     "metadata": {},
     "output_type": "execute_result"
    }
   ],
   "source": [
    "# Read data file\n",
    "try:\n",
    "    dodgers_df = pd.read_csv(\"data/dodgers-2022.csv\")\n",
    "except Exception:\n",
    "    print(\"There was an error reading the Dodgers file\")\n",
    "    \n",
    "dodgers_df.head()"
   ]
  },
  {
   "cell_type": "markdown",
   "id": "33e6882c-4711-46cc-ac63-f2dae8fd9483",
   "metadata": {},
   "source": [
    "#### Descriptive Statistics"
   ]
  },
  {
   "cell_type": "code",
   "execution_count": 3,
   "id": "9ec6c598-1856-4e42-acb2-faf694b63762",
   "metadata": {},
   "outputs": [
    {
     "name": "stdout",
     "output_type": "stream",
     "text": [
      "<class 'pandas.core.frame.DataFrame'>\n",
      "RangeIndex: 81 entries, 0 to 80\n",
      "Data columns (total 12 columns):\n",
      " #   Column       Non-Null Count  Dtype \n",
      "---  ------       --------------  ----- \n",
      " 0   month        81 non-null     object\n",
      " 1   day          81 non-null     int64 \n",
      " 2   attend       81 non-null     int64 \n",
      " 3   day_of_week  81 non-null     object\n",
      " 4   opponent     81 non-null     object\n",
      " 5   temp         81 non-null     int64 \n",
      " 6   skies        81 non-null     object\n",
      " 7   day_night    81 non-null     object\n",
      " 8   cap          81 non-null     object\n",
      " 9   shirt        81 non-null     object\n",
      " 10  fireworks    81 non-null     object\n",
      " 11  bobblehead   81 non-null     object\n",
      "dtypes: int64(3), object(9)\n",
      "memory usage: 7.7+ KB\n"
     ]
    }
   ],
   "source": [
    "dodgers_df.info()"
   ]
  },
  {
   "cell_type": "code",
   "execution_count": 4,
   "id": "6f7852ff-fdff-4af0-b338-1e5d44ddb9a1",
   "metadata": {},
   "outputs": [
    {
     "data": {
      "text/html": [
       "<div>\n",
       "<style scoped>\n",
       "    .dataframe tbody tr th:only-of-type {\n",
       "        vertical-align: middle;\n",
       "    }\n",
       "\n",
       "    .dataframe tbody tr th {\n",
       "        vertical-align: top;\n",
       "    }\n",
       "\n",
       "    .dataframe thead th {\n",
       "        text-align: right;\n",
       "    }\n",
       "</style>\n",
       "<table border=\"1\" class=\"dataframe\">\n",
       "  <thead>\n",
       "    <tr style=\"text-align: right;\">\n",
       "      <th></th>\n",
       "      <th>day</th>\n",
       "      <th>attend</th>\n",
       "      <th>temp</th>\n",
       "    </tr>\n",
       "  </thead>\n",
       "  <tbody>\n",
       "    <tr>\n",
       "      <th>count</th>\n",
       "      <td>81.000000</td>\n",
       "      <td>81.000000</td>\n",
       "      <td>81.000000</td>\n",
       "    </tr>\n",
       "    <tr>\n",
       "      <th>mean</th>\n",
       "      <td>16.135802</td>\n",
       "      <td>41040.074074</td>\n",
       "      <td>73.148148</td>\n",
       "    </tr>\n",
       "    <tr>\n",
       "      <th>std</th>\n",
       "      <td>9.605666</td>\n",
       "      <td>8297.539460</td>\n",
       "      <td>8.317318</td>\n",
       "    </tr>\n",
       "    <tr>\n",
       "      <th>min</th>\n",
       "      <td>1.000000</td>\n",
       "      <td>24312.000000</td>\n",
       "      <td>54.000000</td>\n",
       "    </tr>\n",
       "    <tr>\n",
       "      <th>25%</th>\n",
       "      <td>8.000000</td>\n",
       "      <td>34493.000000</td>\n",
       "      <td>67.000000</td>\n",
       "    </tr>\n",
       "    <tr>\n",
       "      <th>50%</th>\n",
       "      <td>15.000000</td>\n",
       "      <td>40284.000000</td>\n",
       "      <td>73.000000</td>\n",
       "    </tr>\n",
       "    <tr>\n",
       "      <th>75%</th>\n",
       "      <td>25.000000</td>\n",
       "      <td>46588.000000</td>\n",
       "      <td>79.000000</td>\n",
       "    </tr>\n",
       "    <tr>\n",
       "      <th>max</th>\n",
       "      <td>31.000000</td>\n",
       "      <td>56000.000000</td>\n",
       "      <td>95.000000</td>\n",
       "    </tr>\n",
       "  </tbody>\n",
       "</table>\n",
       "</div>"
      ],
      "text/plain": [
       "             day        attend       temp\n",
       "count  81.000000     81.000000  81.000000\n",
       "mean   16.135802  41040.074074  73.148148\n",
       "std     9.605666   8297.539460   8.317318\n",
       "min     1.000000  24312.000000  54.000000\n",
       "25%     8.000000  34493.000000  67.000000\n",
       "50%    15.000000  40284.000000  73.000000\n",
       "75%    25.000000  46588.000000  79.000000\n",
       "max    31.000000  56000.000000  95.000000"
      ]
     },
     "execution_count": 4,
     "metadata": {},
     "output_type": "execute_result"
    }
   ],
   "source": [
    "dodgers_df.describe()"
   ]
  },
  {
   "cell_type": "code",
   "execution_count": 5,
   "id": "e93cb881-69db-43da-aea5-951205433799",
   "metadata": {},
   "outputs": [
    {
     "data": {
      "text/html": [
       "<div>\n",
       "<style scoped>\n",
       "    .dataframe tbody tr th:only-of-type {\n",
       "        vertical-align: middle;\n",
       "    }\n",
       "\n",
       "    .dataframe tbody tr th {\n",
       "        vertical-align: top;\n",
       "    }\n",
       "\n",
       "    .dataframe thead th {\n",
       "        text-align: right;\n",
       "    }\n",
       "</style>\n",
       "<table border=\"1\" class=\"dataframe\">\n",
       "  <thead>\n",
       "    <tr style=\"text-align: right;\">\n",
       "      <th></th>\n",
       "      <th>month</th>\n",
       "      <th>day_of_week</th>\n",
       "      <th>opponent</th>\n",
       "      <th>skies</th>\n",
       "      <th>day_night</th>\n",
       "      <th>cap</th>\n",
       "      <th>shirt</th>\n",
       "      <th>fireworks</th>\n",
       "      <th>bobblehead</th>\n",
       "    </tr>\n",
       "  </thead>\n",
       "  <tbody>\n",
       "    <tr>\n",
       "      <th>count</th>\n",
       "      <td>81</td>\n",
       "      <td>81</td>\n",
       "      <td>81</td>\n",
       "      <td>81</td>\n",
       "      <td>81</td>\n",
       "      <td>81</td>\n",
       "      <td>81</td>\n",
       "      <td>81</td>\n",
       "      <td>81</td>\n",
       "    </tr>\n",
       "    <tr>\n",
       "      <th>unique</th>\n",
       "      <td>7</td>\n",
       "      <td>7</td>\n",
       "      <td>17</td>\n",
       "      <td>2</td>\n",
       "      <td>2</td>\n",
       "      <td>2</td>\n",
       "      <td>2</td>\n",
       "      <td>2</td>\n",
       "      <td>2</td>\n",
       "    </tr>\n",
       "    <tr>\n",
       "      <th>top</th>\n",
       "      <td>MAY</td>\n",
       "      <td>Tuesday</td>\n",
       "      <td>Giants</td>\n",
       "      <td>Clear</td>\n",
       "      <td>Night</td>\n",
       "      <td>NO</td>\n",
       "      <td>NO</td>\n",
       "      <td>NO</td>\n",
       "      <td>NO</td>\n",
       "    </tr>\n",
       "    <tr>\n",
       "      <th>freq</th>\n",
       "      <td>18</td>\n",
       "      <td>13</td>\n",
       "      <td>9</td>\n",
       "      <td>62</td>\n",
       "      <td>66</td>\n",
       "      <td>79</td>\n",
       "      <td>78</td>\n",
       "      <td>67</td>\n",
       "      <td>70</td>\n",
       "    </tr>\n",
       "  </tbody>\n",
       "</table>\n",
       "</div>"
      ],
      "text/plain": [
       "       month day_of_week opponent   skies day_night cap shirt fireworks  \\\n",
       "count     81          81       81      81        81  81    81        81   \n",
       "unique     7           7       17       2         2   2     2         2   \n",
       "top      MAY     Tuesday   Giants  Clear      Night  NO    NO        NO   \n",
       "freq      18          13        9      62        66  79    78        67   \n",
       "\n",
       "       bobblehead  \n",
       "count          81  \n",
       "unique          2  \n",
       "top            NO  \n",
       "freq           70  "
      ]
     },
     "execution_count": 5,
     "metadata": {},
     "output_type": "execute_result"
    }
   ],
   "source": [
    "dodgers_df.describe(include = ['O'])"
   ]
  },
  {
   "cell_type": "markdown",
   "id": "f8b816c0-7d6f-4de6-8b90-54431486fe21",
   "metadata": {},
   "source": [
    "Preliminary, looking at the descriptive analysis we can see that there were\n",
    "* 7 months that games were played with May being the top month\n",
    "* Tuesday seems to be the top day of the week to play baseball\n",
    "* The Dodgers played 16 different opponents\n",
    "* Games were mostly at night when it was clear\n",
    "* The average temperature was 73 degrees\n",
    "* The average attendance was 41,040 with a maximum attendance of 56,000 (the stadiums capacity)"
   ]
  },
  {
   "cell_type": "markdown",
   "id": "60adaa4c-d93d-43d6-89e5-60e4926eb820",
   "metadata": {},
   "source": [
    "#### Find out how many games each promotion was held"
   ]
  },
  {
   "cell_type": "code",
   "execution_count": 6,
   "id": "1d039bcc-9277-446a-bc2d-6bbec1feea55",
   "metadata": {},
   "outputs": [
    {
     "data": {
      "text/plain": [
       "NO     79\n",
       "YES     2\n",
       "Name: cap, dtype: int64"
      ]
     },
     "execution_count": 6,
     "metadata": {},
     "output_type": "execute_result"
    }
   ],
   "source": [
    "# Get the number of games the Cap promotion was held\n",
    "dodgers_df['cap'].value_counts()"
   ]
  },
  {
   "cell_type": "code",
   "execution_count": 7,
   "id": "5eda2a90-91a5-4634-b7d1-acd86b85bd6a",
   "metadata": {},
   "outputs": [
    {
     "data": {
      "text/plain": [
       "NO     78\n",
       "YES     3\n",
       "Name: shirt, dtype: int64"
      ]
     },
     "execution_count": 7,
     "metadata": {},
     "output_type": "execute_result"
    }
   ],
   "source": [
    "# Get the number of games the shirt promotion was held\n",
    "dodgers_df['shirt'].value_counts()"
   ]
  },
  {
   "cell_type": "code",
   "execution_count": 8,
   "id": "dba4c9ae-80da-4223-9277-9e83fde8f70c",
   "metadata": {},
   "outputs": [
    {
     "data": {
      "text/plain": [
       "NO     67\n",
       "YES    14\n",
       "Name: fireworks, dtype: int64"
      ]
     },
     "execution_count": 8,
     "metadata": {},
     "output_type": "execute_result"
    }
   ],
   "source": [
    "# Get the number of games fireworks were displayed\n",
    "dodgers_df['fireworks'].value_counts()"
   ]
  },
  {
   "cell_type": "code",
   "execution_count": 9,
   "id": "05d61810-d034-425c-aa67-ad038d0b9b86",
   "metadata": {},
   "outputs": [
    {
     "data": {
      "text/plain": [
       "NO     70\n",
       "YES    11\n",
       "Name: bobblehead, dtype: int64"
      ]
     },
     "execution_count": 9,
     "metadata": {},
     "output_type": "execute_result"
    }
   ],
   "source": [
    "# Get the number of games the Bobblehead promotion was held\n",
    "dodgers_df['bobblehead'].value_counts()"
   ]
  },
  {
   "cell_type": "markdown",
   "id": "a59800aa-350c-4996-bfe2-3650da49e2d9",
   "metadata": {},
   "source": [
    "The was only 2 games (2%) the Cap promotion was held and only 3 games (3.7%) the Shirt promotion was held\n",
    "The Fireworks were held on 14 games (17%) and the Bobblehead promotion was 11 games (13.5%)."
   ]
  },
  {
   "cell_type": "markdown",
   "id": "e7610e50-0462-4141-8892-629030ded6f3",
   "metadata": {},
   "source": [
    "#### Check for Null Values"
   ]
  },
  {
   "cell_type": "code",
   "execution_count": 10,
   "id": "5978a50c-9ef2-4c3b-ae1e-320f0c28b310",
   "metadata": {},
   "outputs": [
    {
     "data": {
      "text/plain": [
       "month          0\n",
       "day            0\n",
       "attend         0\n",
       "day_of_week    0\n",
       "opponent       0\n",
       "temp           0\n",
       "skies          0\n",
       "day_night      0\n",
       "cap            0\n",
       "shirt          0\n",
       "fireworks      0\n",
       "bobblehead     0\n",
       "dtype: int64"
      ]
     },
     "execution_count": 10,
     "metadata": {},
     "output_type": "execute_result"
    }
   ],
   "source": [
    "dodgers_df.isnull().sum()"
   ]
  },
  {
   "cell_type": "markdown",
   "id": "529e60e8-4fe0-43db-83c3-37b888baa711",
   "metadata": {},
   "source": [
    "#### Add new feature for if there was a promotion or not"
   ]
  },
  {
   "cell_type": "code",
   "execution_count": 11,
   "id": "07e3d8ff-0c80-4d37-a05e-0ab43f530536",
   "metadata": {},
   "outputs": [],
   "source": [
    "def promotion(row):\n",
    "    if (row['cap'] == 'YES') or (row['shirt'] == 'YES') or (row['fireworks'] == 'YES') or (row['bobblehead'] == 'YES'):\n",
    "        return 1\n",
    "    else:\n",
    "        return 0"
   ]
  },
  {
   "cell_type": "code",
   "execution_count": 12,
   "id": "b6575a15-8c39-4428-a60b-8d9be19cf54c",
   "metadata": {},
   "outputs": [
    {
     "data": {
      "text/html": [
       "<div>\n",
       "<style scoped>\n",
       "    .dataframe tbody tr th:only-of-type {\n",
       "        vertical-align: middle;\n",
       "    }\n",
       "\n",
       "    .dataframe tbody tr th {\n",
       "        vertical-align: top;\n",
       "    }\n",
       "\n",
       "    .dataframe thead th {\n",
       "        text-align: right;\n",
       "    }\n",
       "</style>\n",
       "<table border=\"1\" class=\"dataframe\">\n",
       "  <thead>\n",
       "    <tr style=\"text-align: right;\">\n",
       "      <th></th>\n",
       "      <th>month</th>\n",
       "      <th>day</th>\n",
       "      <th>attend</th>\n",
       "      <th>day_of_week</th>\n",
       "      <th>opponent</th>\n",
       "      <th>temp</th>\n",
       "      <th>skies</th>\n",
       "      <th>day_night</th>\n",
       "      <th>cap</th>\n",
       "      <th>shirt</th>\n",
       "      <th>fireworks</th>\n",
       "      <th>bobblehead</th>\n",
       "      <th>promotion</th>\n",
       "    </tr>\n",
       "  </thead>\n",
       "  <tbody>\n",
       "    <tr>\n",
       "      <th>0</th>\n",
       "      <td>APR</td>\n",
       "      <td>10</td>\n",
       "      <td>56000</td>\n",
       "      <td>Tuesday</td>\n",
       "      <td>Pirates</td>\n",
       "      <td>67</td>\n",
       "      <td>Clear</td>\n",
       "      <td>Day</td>\n",
       "      <td>NO</td>\n",
       "      <td>NO</td>\n",
       "      <td>NO</td>\n",
       "      <td>NO</td>\n",
       "      <td>0</td>\n",
       "    </tr>\n",
       "    <tr>\n",
       "      <th>1</th>\n",
       "      <td>APR</td>\n",
       "      <td>11</td>\n",
       "      <td>29729</td>\n",
       "      <td>Wednesday</td>\n",
       "      <td>Pirates</td>\n",
       "      <td>58</td>\n",
       "      <td>Cloudy</td>\n",
       "      <td>Night</td>\n",
       "      <td>NO</td>\n",
       "      <td>NO</td>\n",
       "      <td>NO</td>\n",
       "      <td>NO</td>\n",
       "      <td>0</td>\n",
       "    </tr>\n",
       "    <tr>\n",
       "      <th>2</th>\n",
       "      <td>APR</td>\n",
       "      <td>12</td>\n",
       "      <td>28328</td>\n",
       "      <td>Thursday</td>\n",
       "      <td>Pirates</td>\n",
       "      <td>57</td>\n",
       "      <td>Cloudy</td>\n",
       "      <td>Night</td>\n",
       "      <td>NO</td>\n",
       "      <td>NO</td>\n",
       "      <td>NO</td>\n",
       "      <td>NO</td>\n",
       "      <td>0</td>\n",
       "    </tr>\n",
       "    <tr>\n",
       "      <th>3</th>\n",
       "      <td>APR</td>\n",
       "      <td>13</td>\n",
       "      <td>31601</td>\n",
       "      <td>Friday</td>\n",
       "      <td>Padres</td>\n",
       "      <td>54</td>\n",
       "      <td>Cloudy</td>\n",
       "      <td>Night</td>\n",
       "      <td>NO</td>\n",
       "      <td>NO</td>\n",
       "      <td>YES</td>\n",
       "      <td>NO</td>\n",
       "      <td>1</td>\n",
       "    </tr>\n",
       "    <tr>\n",
       "      <th>4</th>\n",
       "      <td>APR</td>\n",
       "      <td>14</td>\n",
       "      <td>46549</td>\n",
       "      <td>Saturday</td>\n",
       "      <td>Padres</td>\n",
       "      <td>57</td>\n",
       "      <td>Cloudy</td>\n",
       "      <td>Night</td>\n",
       "      <td>NO</td>\n",
       "      <td>NO</td>\n",
       "      <td>NO</td>\n",
       "      <td>NO</td>\n",
       "      <td>0</td>\n",
       "    </tr>\n",
       "  </tbody>\n",
       "</table>\n",
       "</div>"
      ],
      "text/plain": [
       "  month  day  attend day_of_week opponent  temp   skies day_night cap shirt  \\\n",
       "0   APR   10   56000     Tuesday  Pirates    67  Clear        Day  NO    NO   \n",
       "1   APR   11   29729   Wednesday  Pirates    58  Cloudy     Night  NO    NO   \n",
       "2   APR   12   28328    Thursday  Pirates    57  Cloudy     Night  NO    NO   \n",
       "3   APR   13   31601      Friday   Padres    54  Cloudy     Night  NO    NO   \n",
       "4   APR   14   46549    Saturday   Padres    57  Cloudy     Night  NO    NO   \n",
       "\n",
       "  fireworks bobblehead  promotion  \n",
       "0        NO         NO          0  \n",
       "1        NO         NO          0  \n",
       "2        NO         NO          0  \n",
       "3       YES         NO          1  \n",
       "4        NO         NO          0  "
      ]
     },
     "execution_count": 12,
     "metadata": {},
     "output_type": "execute_result"
    }
   ],
   "source": [
    "dodgers_df['promotion'] = dodgers_df.apply(promotion, axis = 1)\n",
    "dodgers_df.head()"
   ]
  },
  {
   "cell_type": "markdown",
   "id": "62d2f4e7-8c03-4650-bec4-a3c0c8555823",
   "metadata": {},
   "source": [
    "#### Histogram of Attendance"
   ]
  },
  {
   "cell_type": "code",
   "execution_count": 13,
   "id": "03a86aa8-20e9-4ae3-b27a-3522c6dc7ef0",
   "metadata": {},
   "outputs": [
    {
     "name": "stderr",
     "output_type": "stream",
     "text": [
      "C:\\Users\\Osgiliath\\anaconda3\\lib\\site-packages\\seaborn\\distributions.py:2619: FutureWarning: `distplot` is a deprecated function and will be removed in a future version. Please adapt your code to use either `displot` (a figure-level function with similar flexibility) or `histplot` (an axes-level function for histograms).\n",
      "  warnings.warn(msg, FutureWarning)\n"
     ]
    },
    {
     "data": {
      "image/png": "[encoded data removed]",
      "text/plain": [
       "<Figure size 432x288 with 1 Axes>"
      ]
     },
     "metadata": {
      "needs_background": "light"
     },
     "output_type": "display_data"
    }
   ],
   "source": [
    "X = dodgers_df['attend']\n",
    "\n",
    "sns.distplot(X, kde=True, bins=20, hist=True)\n",
    "plt.show()"
   ]
  },
  {
   "cell_type": "markdown",
   "id": "888b0bf4-b0cf-4b9f-8da8-b67bf742eaee",
   "metadata": {},
   "source": [
    "Attendance looks like a normal distribution"
   ]
  },
  {
   "cell_type": "markdown",
   "id": "07bb1ed8-1000-4019-b555-77457779fd73",
   "metadata": {},
   "source": [
    "#### Visualizations: Look at attendance against the different features"
   ]
  },
  {
   "cell_type": "markdown",
   "id": "a3f00f77-2680-45e3-b702-69bb94f07564",
   "metadata": {},
   "source": [
    "*Attendance by Month*"
   ]
  },
  {
   "cell_type": "code",
   "execution_count": 14,
   "id": "efc2f54c-3d76-4808-9212-793acfee3543",
   "metadata": {},
   "outputs": [
    {
     "name": "stdout",
     "output_type": "stream",
     "text": [
      "promotion         0         1\n",
      "month                        \n",
      "APR        295700.0  179403.0\n",
      "AUG        312169.0  329104.0\n",
      "JUL        233079.0  293532.0\n",
      "JUN        186425.0  245039.0\n",
      "MAY        461229.0  210994.0\n",
      "OCT        110111.0       0.0\n",
      "SEP        349542.0  117919.0\n"
     ]
    }
   ],
   "source": [
    "# Group Attendance by Month and Day or Night Game\n",
    "month_games = dodgers_df.groupby(['month', 'promotion'])['attend'].sum().unstack().fillna(0)\n",
    "print(month_games)"
   ]
  },
  {
   "cell_type": "code",
   "execution_count": 15,
   "id": "935b5f05-3427-4b94-a6d0-ec39bf676485",
   "metadata": {},
   "outputs": [
    {
     "data": {
      "text/plain": [
       "Text(0.5, 1.0, 'Attendance by Month')"
      ]
     },
     "execution_count": 15,
     "metadata": {},
     "output_type": "execute_result"
    },
    {
     "data": {
      "image/png": "[encoded data removed]",
      "text/plain": [
       "<Figure size 720x576 with 1 Axes>"
      ]
     },
     "metadata": {
      "needs_background": "light"
     },
     "output_type": "display_data"
    }
   ],
   "source": [
    "# Plot figure\n",
    "ax = month_games.plot(kind='bar', stacked=True, figsize=(10, 8), rot=0, xlabel='', ylabel='Attendance', width = 0.8)\n",
    "\n",
    "for c in ax.containers:\n",
    "    labels = [v.get_height() if v.get_height() > 0 else '' for v in c]\n",
    "    ax.bar_label(c, labels = labels, label_type='center')\n",
    "    \n",
    "ax.legend(labels = ['No', 'Yes'], title = 'Promotion?')\n",
    "ax.set_title('Attendance by Month', fontsize = 14)"
   ]
  },
  {
   "cell_type": "markdown",
   "id": "7857344d-b8cc-40d9-9d1a-e6a3e3bf92a0",
   "metadata": {},
   "source": [
    "May had the highest attendance but there were less promotions in May. August saw almost equal between the number of promotions and not having promotions and was second in total monthly attendance."
   ]
  },
  {
   "cell_type": "markdown",
   "id": "86cb7828-d0ef-4522-b3fc-b3855cd2a6df",
   "metadata": {},
   "source": [
    "#### Attendance by Day of the Week"
   ]
  },
  {
   "cell_type": "code",
   "execution_count": 16,
   "id": "60fb578f-076e-4337-a483-2d2cfb497d9b",
   "metadata": {},
   "outputs": [
    {
     "name": "stdout",
     "output_type": "stream",
     "text": [
      "promotion           0         1\n",
      "day_of_week                    \n",
      "Friday            0.0  521520.0\n",
      "Monday       369029.0   50559.0\n",
      "Saturday     451692.0  108256.0\n",
      "Sunday       402888.0  146607.0\n",
      "Thursday      98410.0  103627.0\n",
      "Tuesday      228784.0  391852.0\n",
      "Wednesday    397452.0   53570.0\n"
     ]
    }
   ],
   "source": [
    "# Group Attendance by Day of the Week and if there was a promotion\n",
    "day_of_week_games = dodgers_df.groupby(['day_of_week', 'promotion'])['attend'].sum().unstack().fillna(0)\n",
    "print(day_of_week_games)"
   ]
  },
  {
   "cell_type": "code",
   "execution_count": 17,
   "id": "547cdaf6-b1be-4a4a-9334-c3c59c4d7865",
   "metadata": {},
   "outputs": [
    {
     "data": {
      "text/plain": [
       "Text(0.5, 1.0, 'Attendance by Day of the Week')"
      ]
     },
     "execution_count": 17,
     "metadata": {},
     "output_type": "execute_result"
    },
    {
     "data": {
      "image/png": "[encoded data removed]",
      "text/plain": [
       "<Figure size 720x576 with 1 Axes>"
      ]
     },
     "metadata": {
      "needs_background": "light"
     },
     "output_type": "display_data"
    }
   ],
   "source": [
    "# Plot figure\n",
    "ax = day_of_week_games.plot(kind='bar', stacked=True, figsize=(10, 8), rot=0, xlabel='', ylabel='Attendance', width = 0.8)\n",
    "\n",
    "for c in ax.containers:\n",
    "    labels = [v.get_height() if v.get_height() > 0 else '' for v in c]\n",
    "    ax.bar_label(c, labels = labels, label_type='center')\n",
    "    \n",
    "ax.legend(labels = ['No', 'Yes'], title = 'Promotion?')\n",
    "ax.set_title('Attendance by Day of the Week', fontsize = 14)"
   ]
  },
  {
   "cell_type": "markdown",
   "id": "c1717720-5afd-46d5-b2b9-36ee711e6aee",
   "metadata": {},
   "source": [
    "Tuesdays had the highest attendance and more games with a promotion.  Fridays were all promotion games and had a good attendance record."
   ]
  },
  {
   "cell_type": "markdown",
   "id": "4e5c252c-790f-403b-b5e9-44b3c1b711a8",
   "metadata": {},
   "source": [
    "#### Attendance by Temperature"
   ]
  },
  {
   "cell_type": "code",
   "execution_count": 18,
   "id": "21992571-a064-4dd0-bc69-a50633078c73",
   "metadata": {},
   "outputs": [
    {
     "data": {
      "text/plain": [
       "Text(0.5, 1.0, 'Attendance by Temperature')"
      ]
     },
     "execution_count": 18,
     "metadata": {},
     "output_type": "execute_result"
    },
    {
     "data": {
      "image/png": "[encoded data removed]",
      "text/plain": [
       "<Figure size 720x432 with 1 Axes>"
      ]
     },
     "metadata": {
      "needs_background": "light"
     },
     "output_type": "display_data"
    }
   ],
   "source": [
    "# Plot attendance by day of the week\n",
    "fig, ax = plt.subplots(figsize=(10, 6))\n",
    "\n",
    "scatter = ax.scatter(x = dodgers_df['temp'], y = dodgers_df['attend'],\n",
    "                    c = dodgers_df.promotion.astype('category').cat.codes)\n",
    "\n",
    "plt.xlabel(\"Temperature (F)\")\n",
    "plt.ylabel(\"Attendance\")\n",
    "plt.legend(handles=scatter.legend_elements()[0],\n",
    "           labels=['No', 'Yes'],\n",
    "           title=\"Promotion?\")\n",
    "\n",
    "ax.set_title('Attendance by Temperature', fontsize = 14)"
   ]
  },
  {
   "cell_type": "markdown",
   "id": "c06d0d4c-c867-4d9e-8f1e-8cede32d6d69",
   "metadata": {},
   "source": [
    "The ideal temperature for high attendance games are within the 67 to 80 range. Many high attendance games with good weather had promotions."
   ]
  },
  {
   "cell_type": "markdown",
   "id": "ee84e92c-d039-4e3e-bd24-5be840e55a3e",
   "metadata": {},
   "source": [
    "#### Attendance by Opponent"
   ]
  },
  {
   "cell_type": "code",
   "execution_count": 19,
   "id": "bcb0be77-9bf5-4eaa-a77f-66be237a7f4f",
   "metadata": {},
   "outputs": [
    {
     "name": "stdout",
     "output_type": "stream",
     "text": [
      "promotion         0         1\n",
      "opponent                     \n",
      "Angels      43494.0  105838.0\n",
      "Astros      69867.0   36283.0\n",
      "Braves      96735.0       NaN\n",
      "Brewers     90298.0   51137.0\n",
      "Cardinals  204900.0   81073.0\n",
      "Cubs        46588.0   86032.0\n",
      "Giants     297667.0   56000.0\n",
      "Marlins     82191.0   39805.0\n",
      "Mets        44217.0  154128.0\n",
      "Nationals       NaN  147802.0\n",
      "Padres     208723.0  170107.0\n",
      "Phillies   125691.0       NaN\n",
      "Pirates    114057.0       NaN\n",
      "Reds        34493.0   87454.0\n",
      "Rockies    228933.0  127748.0\n",
      "Snakes     161687.0  192152.0\n",
      "White Sox   98714.0   40432.0\n"
     ]
    }
   ],
   "source": [
    "# Group Attendance by Opponent\n",
    "opponent_games = dodgers_df.groupby(['opponent', 'promotion'])['attend'].sum().unstack()\n",
    "print(opponent_games)"
   ]
  },
  {
   "cell_type": "code",
   "execution_count": 20,
   "id": "69302b67-fa56-482b-bc18-aa7988ebb435",
   "metadata": {},
   "outputs": [
    {
     "data": {
      "text/plain": [
       "Text(0.5, 1.0, 'Attendance by Opponent')"
      ]
     },
     "execution_count": 20,
     "metadata": {},
     "output_type": "execute_result"
    },
    {
     "data": {
      "image/png": "[encoded data removed]",
      "text/plain": [
       "<Figure size 1296x720 with 1 Axes>"
      ]
     },
     "metadata": {
      "needs_background": "light"
     },
     "output_type": "display_data"
    }
   ],
   "source": [
    "# Plot figure\n",
    "ax = opponent_games.plot(kind='bar', stacked=True, figsize=(18, 10), rot=0, xlabel='', ylabel='Attendance', width = 0.8)\n",
    "\n",
    "for c in ax.containers:\n",
    "    labels = [v.get_height() if v.get_height() > 0 else '' for v in c]\n",
    "    ax.bar_label(c, labels = labels, label_type='center')\n",
    "    \n",
    "ax.legend(labels = ['No', 'Yes'], title = 'Promotion?')\n",
    "ax.set_title('Attendance by Opponent', fontsize = 14)"
   ]
  },
  {
   "cell_type": "markdown",
   "id": "e7119f36-fefc-4f3e-91de-3182cfef161e",
   "metadata": {},
   "source": [
    "The Padres, Rockies, Snakes and Giants all had high attendance records. The Padres were about even for promotions vs no promotions. The others were mostly no promotions except for the Snakes which had slightly better attendance with a promotion."
   ]
  },
  {
   "cell_type": "markdown",
   "id": "da6b5f45-1211-4fce-99f8-1beb2e0c670e",
   "metadata": {},
   "source": [
    "#### Analysis"
   ]
  },
  {
   "cell_type": "markdown",
   "id": "c4b8c937-d1ad-4934-b95e-a12e434bd7c5",
   "metadata": {},
   "source": [
    "I would like to see which promotions along with the month and day of the week have an influence on attendance. I will use the Ordinary Least Squares (OLS) method of linear regression to determine this."
   ]
  },
  {
   "cell_type": "code",
   "execution_count": 21,
   "id": "d4cef945-b32f-40ed-ac55-77850dfe9092",
   "metadata": {},
   "outputs": [
    {
     "data": {
      "text/html": [
       "<div>\n",
       "<style scoped>\n",
       "    .dataframe tbody tr th:only-of-type {\n",
       "        vertical-align: middle;\n",
       "    }\n",
       "\n",
       "    .dataframe tbody tr th {\n",
       "        vertical-align: top;\n",
       "    }\n",
       "\n",
       "    .dataframe thead th {\n",
       "        text-align: right;\n",
       "    }\n",
       "</style>\n",
       "<table border=\"1\" class=\"dataframe\">\n",
       "  <thead>\n",
       "    <tr style=\"text-align: right;\">\n",
       "      <th></th>\n",
       "      <th>month</th>\n",
       "      <th>attend</th>\n",
       "      <th>day_of_week</th>\n",
       "      <th>cap</th>\n",
       "      <th>shirt</th>\n",
       "      <th>fireworks</th>\n",
       "      <th>bobblehead</th>\n",
       "    </tr>\n",
       "  </thead>\n",
       "  <tbody>\n",
       "    <tr>\n",
       "      <th>0</th>\n",
       "      <td>APR</td>\n",
       "      <td>56000</td>\n",
       "      <td>Tuesday</td>\n",
       "      <td>NO</td>\n",
       "      <td>NO</td>\n",
       "      <td>NO</td>\n",
       "      <td>NO</td>\n",
       "    </tr>\n",
       "    <tr>\n",
       "      <th>1</th>\n",
       "      <td>APR</td>\n",
       "      <td>29729</td>\n",
       "      <td>Wednesday</td>\n",
       "      <td>NO</td>\n",
       "      <td>NO</td>\n",
       "      <td>NO</td>\n",
       "      <td>NO</td>\n",
       "    </tr>\n",
       "    <tr>\n",
       "      <th>2</th>\n",
       "      <td>APR</td>\n",
       "      <td>28328</td>\n",
       "      <td>Thursday</td>\n",
       "      <td>NO</td>\n",
       "      <td>NO</td>\n",
       "      <td>NO</td>\n",
       "      <td>NO</td>\n",
       "    </tr>\n",
       "    <tr>\n",
       "      <th>3</th>\n",
       "      <td>APR</td>\n",
       "      <td>31601</td>\n",
       "      <td>Friday</td>\n",
       "      <td>NO</td>\n",
       "      <td>NO</td>\n",
       "      <td>YES</td>\n",
       "      <td>NO</td>\n",
       "    </tr>\n",
       "    <tr>\n",
       "      <th>4</th>\n",
       "      <td>APR</td>\n",
       "      <td>46549</td>\n",
       "      <td>Saturday</td>\n",
       "      <td>NO</td>\n",
       "      <td>NO</td>\n",
       "      <td>NO</td>\n",
       "      <td>NO</td>\n",
       "    </tr>\n",
       "  </tbody>\n",
       "</table>\n",
       "</div>"
      ],
      "text/plain": [
       "  month  attend day_of_week cap shirt fireworks bobblehead\n",
       "0   APR   56000     Tuesday  NO    NO        NO         NO\n",
       "1   APR   29729   Wednesday  NO    NO        NO         NO\n",
       "2   APR   28328    Thursday  NO    NO        NO         NO\n",
       "3   APR   31601      Friday  NO    NO       YES         NO\n",
       "4   APR   46549    Saturday  NO    NO        NO         NO"
      ]
     },
     "execution_count": 21,
     "metadata": {},
     "output_type": "execute_result"
    }
   ],
   "source": [
    "# Drop unneeded columns\n",
    "model_df = dodgers_df.drop(['day', 'opponent', 'skies', 'day_night', 'temp', 'promotion'], axis = 1)\n",
    "model_df.head()"
   ]
  },
  {
   "cell_type": "code",
   "execution_count": 22,
   "id": "963bb217-7b51-41d5-a20d-f5e43057ddc2",
   "metadata": {},
   "outputs": [
    {
     "data": {
      "text/plain": [
       "Index(['month', 'day_of_week', 'cap', 'shirt', 'fireworks', 'bobblehead'], dtype='object')"
      ]
     },
     "execution_count": 22,
     "metadata": {},
     "output_type": "execute_result"
    }
   ],
   "source": [
    "# Change categorical data to dummy variables\n",
    "categorical_columns = model_df.select_dtypes('object').columns\n",
    "categorical_columns"
   ]
  },
  {
   "cell_type": "code",
   "execution_count": 23,
   "id": "34cb05b4-08ff-49a5-9401-2695139e7bf5",
   "metadata": {},
   "outputs": [
    {
     "name": "stdout",
     "output_type": "stream",
     "text": [
      "(81, 17)\n",
      "Index(['attend', 'month_AUG', 'month_JUL', 'month_JUN', 'month_MAY',\n",
      "       'month_OCT', 'month_SEP', 'day_of_week_Monday', 'day_of_week_Saturday',\n",
      "       'day_of_week_Sunday', 'day_of_week_Thursday', 'day_of_week_Tuesday',\n",
      "       'day_of_week_Wednesday', 'cap_YES', 'shirt_YES', 'fireworks_YES',\n",
      "       'bobblehead_YES'],\n",
      "      dtype='object')\n"
     ]
    }
   ],
   "source": [
    "model_dummy_df = pd.get_dummies(model_df, columns = categorical_columns, drop_first = True)\n",
    "print(model_dummy_df.shape)\n",
    "print(model_dummy_df.columns)"
   ]
  },
  {
   "cell_type": "code",
   "execution_count": 24,
   "id": "71ece52f-5e78-461d-9ed3-c40681eb278d",
   "metadata": {},
   "outputs": [],
   "source": [
    "# Create target and features variables\n",
    "X = model_dummy_df.drop('attend', axis = 1)\n",
    "y = model_dummy_df.attend"
   ]
  },
  {
   "cell_type": "code",
   "execution_count": 25,
   "id": "5b7d9a48-36f7-474c-a303-16623248fd08",
   "metadata": {},
   "outputs": [
    {
     "name": "stdout",
     "output_type": "stream",
     "text": [
      "                            OLS Regression Results                            \n",
      "==============================================================================\n",
      "Dep. Variable:                 attend   R-squared:                       0.616\n",
      "Model:                            OLS   Adj. R-squared:                  0.521\n",
      "Method:                 Least Squares   F-statistic:                     6.429\n",
      "Date:                Tue, 13 Sep 2022   Prob (F-statistic):           2.87e-08\n",
      "Time:                        16:55:31   Log-Likelihood:                -806.54\n",
      "No. Observations:                  81   AIC:                             1647.\n",
      "Df Residuals:                      64   BIC:                             1688.\n",
      "Df Model:                          16                                         \n",
      "Covariance Type:            nonrobust                                         \n",
      "=========================================================================================\n",
      "                            coef    std err          t      P>|t|      [0.025      0.975]\n",
      "-----------------------------------------------------------------------------------------\n",
      "const                  2.223e+04   6583.340      3.377      0.001    9081.050    3.54e+04\n",
      "month_AUG              3341.0703   2304.295      1.450      0.152   -1262.289    7944.429\n",
      "month_JUL              2564.2583   2555.919      1.003      0.320   -2541.778    7670.294\n",
      "month_JUN              6933.3521   2573.781      2.694      0.009    1791.634    1.21e+04\n",
      "month_MAY             -1924.7543   2175.756     -0.885      0.380   -6271.327    2421.818\n",
      "month_OCT               221.8223   3825.941      0.058      0.954   -7421.373    7865.018\n",
      "month_SEP              -102.9399   2367.346     -0.043      0.965   -4832.257    4626.377\n",
      "day_of_week_Monday     1.093e+04   6802.780      1.607      0.113   -2658.684    2.45e+04\n",
      "day_of_week_Saturday   1.788e+04   6658.360      2.686      0.009    4582.357    3.12e+04\n",
      "day_of_week_Sunday     1.823e+04   6712.865      2.715      0.009    4814.723    3.16e+04\n",
      "day_of_week_Thursday   1.225e+04   6947.409      1.763      0.083   -1633.833    2.61e+04\n",
      "day_of_week_Tuesday    1.935e+04   6811.893      2.841      0.006    5743.686     3.3e+04\n",
      "day_of_week_Wednesday  1.246e+04   6241.486      1.997      0.050      -5.058    2.49e+04\n",
      "cap_YES               -5784.5577   4467.996     -1.295      0.200   -1.47e+04    3141.290\n",
      "shirt_YES              5964.5286   3633.482      1.642      0.106   -1294.186    1.32e+04\n",
      "fireworks_YES          1.631e+04   6268.591      2.602      0.012    3786.264    2.88e+04\n",
      "bobblehead_YES          1.07e+04   2346.479      4.560      0.000    6012.514    1.54e+04\n",
      "==============================================================================\n",
      "Omnibus:                       10.401   Durbin-Watson:                   2.178\n",
      "Prob(Omnibus):                  0.006   Jarque-Bera (JB):               10.356\n",
      "Skew:                           0.807   Prob(JB):                      0.00564\n",
      "Kurtosis:                       3.681   Cond. No.                         32.7\n",
      "==============================================================================\n",
      "\n",
      "Notes:\n",
      "[1] Standard Errors assume that the covariance matrix of the errors is correctly specified.\n"
     ]
    },
    {
     "name": "stderr",
     "output_type": "stream",
     "text": [
      "C:\\Users\\Osgiliath\\anaconda3\\lib\\site-packages\\statsmodels\\tsa\\tsatools.py:142: FutureWarning: In a future version of pandas all arguments of concat except for the argument 'objs' will be keyword-only.\n",
      "  x = pd.concat(x[::order], 1)\n"
     ]
    }
   ],
   "source": [
    "# Add constant term\n",
    "X = sm.add_constant(X)\n",
    "\n",
    "# performing the regression and fitting the model\n",
    "result = sm.OLS(y, X).fit()\n",
    " \n",
    "# printing the summary table\n",
    "print(result.summary())"
   ]
  },
  {
   "cell_type": "markdown",
   "id": "d64bf2f6-2f78-4e65-a162-664cefdb6841",
   "metadata": {},
   "source": [
    "**Recommendation:**\n",
    "\n",
    "Looking at the promotions, Fireworks and Bobbleheads both increase attendance. Playing on Sat, Sun, Tues or Weds all are good and also increase attendance.  June is your best month.  For the best attendance record, play a game on a Tuesday in June with Fireworks."
   ]
  },
  {
   "cell_type": "code",
   "execution_count": null,
   "id": "a66c7bc6-9006-4029-bf1e-b0cd7f8e13b2",
   "metadata": {},
   "outputs": [],
   "source": []
  }
 ],
 "metadata": {
  "kernelspec": {
   "display_name": "Python 3 (ipykernel)",
   "language": "python",
   "name": "python3"
  },
  "language_info": {
   "codemirror_mode": {
    "name": "ipython",
    "version": 3
   },
   "file_extension": ".py",
   "mimetype": "text/x-python",
   "name": "python",
   "nbconvert_exporter": "python",
   "pygments_lexer": "ipython3",
   "version": "3.8.8"
  }
 },
 "nbformat": 4,
 "nbformat_minor": 5
}
