{
 "cells": [
  {
   "cell_type": "markdown",
   "metadata": {},
   "source": [
    "# Assignment 3"
   ]
  },
  {
   "cell_type": "markdown",
   "metadata": {},
   "source": [
    "Import libraries and define common helper functions"
   ]
  },
  {
   "cell_type": "code",
   "execution_count": 24,
   "metadata": {
    "scrolled": true
   },
   "outputs": [],
   "source": [
    "import os\n",
    "import sys\n",
    "import gzip\n",
    "import json\n",
    "from pathlib import Path\n",
    "import csv\n",
    "\n",
    "import pandas as pd\n",
    "import s3fs\n",
    "import pyarrow as pa\n",
    "from pyarrow.json import read_json\n",
    "import pyarrow.parquet as pq\n",
    "import fastavro\n",
    "from fastavro import parse_schema\n",
    "from fastavro import writer\n",
    "import pygeohash\n",
    "import snappy\n",
    "import jsonschema\n",
    "from jsonschema.exceptions import ValidationError\n",
    "\n",
    "\n",
    "endpoint_url='https://storage.budsc.midwest-datascience.com'\n",
    "\n",
    "current_dir = Path(os.getcwd()).absolute()\n",
    "schema_dir = current_dir.joinpath('schemas')\n",
    "results_dir = current_dir.joinpath('results')\n",
    "results_dir.mkdir(parents=True, exist_ok=True)\n",
    "\n",
    "\n",
    "def read_jsonl_data():\n",
    "    s3 = s3fs.S3FileSystem(\n",
    "        anon=True,\n",
    "        client_kwargs={\n",
    "            'endpoint_url': endpoint_url\n",
    "        }\n",
    "    )\n",
    "    src_data_path = '../../../data/processed/openflights/routes.jsonl.gz'\n",
    "    #with s3.open(src_data_path, 'rb') as f_gz:\n",
    "    with gzip.open(src_data_path, 'rb') as f:\n",
    "        records = [json.loads(line) for line in f.readlines()]\n",
    "        \n",
    "\n",
    "    return records"
   ]
  },
  {
   "cell_type": "code",
   "execution_count": 25,
   "metadata": {},
   "outputs": [
    {
     "data": {
      "text/plain": [
       "'/home/jovyan/dsc650/dsc650/assignments/assignment03'"
      ]
     },
     "execution_count": 25,
     "metadata": {},
     "output_type": "execute_result"
    }
   ],
   "source": [
    "os.getcwd()"
   ]
  },
  {
   "cell_type": "markdown",
   "metadata": {},
   "source": [
    "Load the records from https://storage.budsc.midwest-datascience.com/data/processed/openflights/routes.jsonl.gz "
   ]
  },
  {
   "cell_type": "code",
   "execution_count": 26,
   "metadata": {},
   "outputs": [],
   "source": [
    "records = read_jsonl_data()"
   ]
  },
  {
   "cell_type": "code",
   "execution_count": 27,
   "metadata": {},
   "outputs": [
    {
     "data": {
      "text/plain": [
       "[{'airline': {'airline_id': 410,\n",
       "   'name': 'Aerocondor',\n",
       "   'alias': 'ANA All Nippon Airways',\n",
       "   'iata': '2B',\n",
       "   'icao': 'ARD',\n",
       "   'callsign': 'AEROCONDOR',\n",
       "   'country': 'Portugal',\n",
       "   'active': True},\n",
       "  'src_airport': {'airport_id': 2965,\n",
       "   'name': 'Sochi International Airport',\n",
       "   'city': 'Sochi',\n",
       "   'country': 'Russia',\n",
       "   'iata': 'AER',\n",
       "   'icao': 'URSS',\n",
       "   'latitude': 43.449902,\n",
       "   'longitude': 39.9566,\n",
       "   'altitude': 89,\n",
       "   'timezone': 3.0,\n",
       "   'dst': 'N',\n",
       "   'tz_id': 'Europe/Moscow',\n",
       "   'type': 'airport',\n",
       "   'source': 'OurAirports'},\n",
       "  'dst_airport': {'airport_id': 2990,\n",
       "   'name': 'Kazan International Airport',\n",
       "   'city': 'Kazan',\n",
       "   'country': 'Russia',\n",
       "   'iata': 'KZN',\n",
       "   'icao': 'UWKD',\n",
       "   'latitude': 55.606201171875,\n",
       "   'longitude': 49.278701782227,\n",
       "   'altitude': 411,\n",
       "   'timezone': 3.0,\n",
       "   'dst': 'N',\n",
       "   'tz_id': 'Europe/Moscow',\n",
       "   'type': 'airport',\n",
       "   'source': 'OurAirports'},\n",
       "  'codeshare': False,\n",
       "  'equipment': ['CR2']}]"
      ]
     },
     "execution_count": 27,
     "metadata": {},
     "output_type": "execute_result"
    }
   ],
   "source": [
    "records[0:1]"
   ]
  },
  {
   "cell_type": "markdown",
   "metadata": {},
   "source": [
    "## 3.1"
   ]
  },
  {
   "cell_type": "markdown",
   "metadata": {},
   "source": [
    "### 3.1.a JSON Schema"
   ]
  },
  {
   "cell_type": "code",
   "execution_count": 15,
   "metadata": {},
   "outputs": [
    {
     "name": "stdout",
     "output_type": "stream",
     "text": [
      "Collecting genson\n",
      "  Using cached genson-1.2.2-py2.py3-none-any.whl\n",
      "Installing collected packages: genson\n",
      "Successfully installed genson-1.2.2\n",
      "Note: you may need to restart the kernel to use updated packages.\n"
     ]
    }
   ],
   "source": [
    "pip install genson"
   ]
  },
  {
   "cell_type": "code",
   "execution_count": 16,
   "metadata": {},
   "outputs": [
    {
     "name": "stdout",
     "output_type": "stream",
     "text": [
      "{\n",
      "  \"$schema\": \"http://json-schema.org/schema#\",\n",
      "  \"anyOf\": [\n",
      "    {\n",
      "      \"type\": \"object\"\n",
      "    },\n",
      "    {\n",
      "      \"type\": \"array\",\n",
      "      \"items\": {\n",
      "        \"type\": \"object\",\n",
      "        \"properties\": {\n",
      "          \"airline\": {\n",
      "            \"type\": \"object\",\n",
      "            \"properties\": {\n",
      "              \"airline_id\": {\n",
      "                \"type\": \"integer\"\n",
      "              },\n",
      "              \"name\": {\n",
      "                \"type\": \"string\"\n",
      "              },\n",
      "              \"alias\": {\n",
      "                \"type\": \"string\"\n",
      "              },\n",
      "              \"iata\": {\n",
      "                \"type\": \"string\"\n",
      "              },\n",
      "              \"icao\": {\n",
      "                \"type\": \"string\"\n",
      "              },\n",
      "              \"callsign\": {\n",
      "                \"type\": \"string\"\n",
      "              },\n",
      "              \"country\": {\n",
      "                \"type\": \"string\"\n",
      "              },\n",
      "              \"active\": {\n",
      "                \"type\": \"boolean\"\n",
      "              }\n",
      "            },\n",
      "            \"required\": [\n",
      "              \"active\",\n",
      "              \"airline_id\",\n",
      "              \"alias\",\n",
      "              \"callsign\",\n",
      "              \"country\",\n",
      "              \"iata\",\n",
      "              \"icao\",\n",
      "              \"name\"\n",
      "            ]\n",
      "          },\n",
      "          \"src_airport\": {\n",
      "            \"anyOf\": [\n",
      "              {\n",
      "                \"type\": \"null\"\n",
      "              },\n",
      "              {\n",
      "                \"type\": \"object\",\n",
      "                \"properties\": {\n",
      "                  \"airport_id\": {\n",
      "                    \"type\": \"integer\"\n",
      "                  },\n",
      "                  \"name\": {\n",
      "                    \"type\": \"string\"\n",
      "                  },\n",
      "                  \"city\": {\n",
      "                    \"type\": \"string\"\n",
      "                  },\n",
      "                  \"country\": {\n",
      "                    \"type\": \"string\"\n",
      "                  },\n",
      "                  \"iata\": {\n",
      "                    \"type\": \"string\"\n",
      "                  },\n",
      "                  \"icao\": {\n",
      "                    \"type\": \"string\"\n",
      "                  },\n",
      "                  \"latitude\": {\n",
      "                    \"type\": \"number\"\n",
      "                  },\n",
      "                  \"longitude\": {\n",
      "                    \"type\": \"number\"\n",
      "                  },\n",
      "                  \"altitude\": {\n",
      "                    \"type\": \"integer\"\n",
      "                  },\n",
      "                  \"timezone\": {\n",
      "                    \"type\": \"number\"\n",
      "                  },\n",
      "                  \"dst\": {\n",
      "                    \"type\": \"string\"\n",
      "                  },\n",
      "                  \"tz_id\": {\n",
      "                    \"type\": \"string\"\n",
      "                  },\n",
      "                  \"type\": {\n",
      "                    \"type\": \"string\"\n",
      "                  },\n",
      "                  \"source\": {\n",
      "                    \"type\": \"string\"\n",
      "                  }\n",
      "                },\n",
      "                \"required\": [\n",
      "                  \"airport_id\",\n",
      "                  \"altitude\",\n",
      "                  \"city\",\n",
      "                  \"country\",\n",
      "                  \"dst\",\n",
      "                  \"iata\",\n",
      "                  \"icao\",\n",
      "                  \"latitude\",\n",
      "                  \"longitude\",\n",
      "                  \"name\",\n",
      "                  \"source\",\n",
      "                  \"timezone\",\n",
      "                  \"type\",\n",
      "                  \"tz_id\"\n",
      "                ]\n",
      "              }\n",
      "            ]\n",
      "          },\n",
      "          \"dst_airport\": {\n",
      "            \"anyOf\": [\n",
      "              {\n",
      "                \"type\": \"null\"\n",
      "              },\n",
      "              {\n",
      "                \"type\": \"object\",\n",
      "                \"properties\": {\n",
      "                  \"airport_id\": {\n",
      "                    \"type\": \"integer\"\n",
      "                  },\n",
      "                  \"name\": {\n",
      "                    \"type\": \"string\"\n",
      "                  },\n",
      "                  \"city\": {\n",
      "                    \"type\": \"string\"\n",
      "                  },\n",
      "                  \"country\": {\n",
      "                    \"type\": \"string\"\n",
      "                  },\n",
      "                  \"iata\": {\n",
      "                    \"type\": \"string\"\n",
      "                  },\n",
      "                  \"icao\": {\n",
      "                    \"type\": \"string\"\n",
      "                  },\n",
      "                  \"latitude\": {\n",
      "                    \"type\": \"number\"\n",
      "                  },\n",
      "                  \"longitude\": {\n",
      "                    \"type\": \"number\"\n",
      "                  },\n",
      "                  \"altitude\": {\n",
      "                    \"type\": \"integer\"\n",
      "                  },\n",
      "                  \"timezone\": {\n",
      "                    \"type\": \"number\"\n",
      "                  },\n",
      "                  \"dst\": {\n",
      "                    \"type\": \"string\"\n",
      "                  },\n",
      "                  \"tz_id\": {\n",
      "                    \"type\": \"string\"\n",
      "                  },\n",
      "                  \"type\": {\n",
      "                    \"type\": \"string\"\n",
      "                  },\n",
      "                  \"source\": {\n",
      "                    \"type\": \"string\"\n",
      "                  }\n",
      "                },\n",
      "                \"required\": [\n",
      "                  \"airport_id\",\n",
      "                  \"altitude\",\n",
      "                  \"city\",\n",
      "                  \"country\",\n",
      "                  \"dst\",\n",
      "                  \"iata\",\n",
      "                  \"icao\",\n",
      "                  \"latitude\",\n",
      "                  \"longitude\",\n",
      "                  \"name\",\n",
      "                  \"source\",\n",
      "                  \"timezone\",\n",
      "                  \"type\",\n",
      "                  \"tz_id\"\n",
      "                ]\n",
      "              }\n",
      "            ]\n",
      "          },\n",
      "          \"codeshare\": {\n",
      "            \"type\": \"boolean\"\n",
      "          },\n",
      "          \"equipment\": {\n",
      "            \"type\": \"array\",\n",
      "            \"items\": {\n",
      "              \"type\": \"string\"\n",
      "            }\n",
      "          }\n",
      "        },\n",
      "        \"required\": [\n",
      "          \"airline\",\n",
      "          \"codeshare\",\n",
      "          \"dst_airport\",\n",
      "          \"equipment\",\n",
      "          \"src_airport\"\n",
      "        ]\n",
      "      }\n",
      "    }\n",
      "  ]\n",
      "}\n"
     ]
    }
   ],
   "source": [
    "# Create the routes schema from the json file\n",
    "from genson import SchemaBuilder\n",
    "\n",
    "schema_path = schema_dir.joinpath('routes-schema.json')\n",
    "builder = SchemaBuilder()\n",
    "builder.add_schema({\"type\": \"object\", \"properties\": {}})\n",
    "builder.add_object(records)\n",
    "builder.to_schema()\n",
    "\n",
    "print(builder.to_json(indent=2))"
   ]
  },
  {
   "cell_type": "code",
   "execution_count": 18,
   "metadata": {
    "scrolled": true
   },
   "outputs": [],
   "source": [
    "def validate_jsonl_data(records):\n",
    "    schema_path = schema_dir.joinpath('routes-schema.json')\n",
    "    with open(schema_path) as f:\n",
    "        schema = json.load(f)\n",
    "        \n",
    "    validation_csv_path = results_dir.joinpath('validation-results.csv')\n",
    "        \n",
    "    with open(validation_csv_path, 'w', newline = '') as f:    \n",
    "        for i, record in enumerate(records):\n",
    "            writer = csv.writer(f)\n",
    "            \n",
    "            try:\n",
    "                ## TODO: Validate record \n",
    "                jsonschema.validate(record, schema)\n",
    "            except ValidationError as e:\n",
    "                ## Print message if invalid record\n",
    "                f.write(f\"Error: {e.message}; failed validating {e.validator} in schema {e.schema_path}\\r\\n\")\n",
    "                print(e)\n",
    "            \n",
    "\n",
    "validate_jsonl_data(records)"
   ]
  },
  {
   "cell_type": "markdown",
   "metadata": {},
   "source": [
    "### 3.1.b Avro"
   ]
  },
  {
   "cell_type": "code",
   "execution_count": 19,
   "metadata": {},
   "outputs": [],
   "source": [
    "def create_avro_dataset(records):\n",
    "    schema_path = schema_dir.joinpath('routes.avsc')\n",
    "    data_path = results_dir.joinpath('routes.avro')\n",
    "    ## TODO: Use fastavro to create Avro dataset\n",
    "    \n",
    "    # load schema .avro file\n",
    "    with open(schema_path, 'r') as f:\n",
    "        schema = json.load(f)\n",
    "\n",
    "    # parse schema\n",
    "    parsed_schema = parse_schema(schema)\n",
    "\n",
    "    # write record according to schema\n",
    "    with open(data_path, 'wb') as out:\n",
    "        writer(out, parsed_schema, records)\n",
    "    \n",
    "        \n",
    "create_avro_dataset(records)"
   ]
  },
  {
   "cell_type": "markdown",
   "metadata": {},
   "source": [
    "### 3.1.c Parquet"
   ]
  },
  {
   "cell_type": "code",
   "execution_count": 21,
   "metadata": {},
   "outputs": [],
   "source": [
    "def create_parquet_dataset():\n",
    "    src_data_path = '../../../data/processed/openflights/routes.jsonl.gz'\n",
    "    parquet_output_path = results_dir.joinpath('routes.parquet')\n",
    "    s3 = s3fs.S3FileSystem(\n",
    "        anon=True,\n",
    "        client_kwargs={\n",
    "            'endpoint_url': endpoint_url\n",
    "        }\n",
    "    )\n",
    "    \n",
    "    #with s3.open(src_data_path, 'rb') as f_gz:\n",
    "    with gzip.open(src_data_path, 'rb') as f:\n",
    "        ## TODO: Use Apache Arrow to create Parquet table and save the dataset\n",
    "        \n",
    "        # Use Apache Arrow to create Parquet table and save the dataset\n",
    "        table = read_json(f)\n",
    "\n",
    "    # write parquet table to '.parquet' file\n",
    "    pq.write_table(table, parquet_output_path)\n",
    "\n",
    "create_parquet_dataset()"
   ]
  },
  {
   "cell_type": "markdown",
   "metadata": {},
   "source": [
    "### 3.1.d Protocol Buffers"
   ]
  },
  {
   "cell_type": "code",
   "execution_count": 22,
   "metadata": {},
   "outputs": [],
   "source": [
    "sys.path.insert(0, os.path.abspath('routes_pb2'))\n",
    "\n",
    "import routes_pb2\n",
    "\n",
    "def _airport_to_proto_obj(airport):\n",
    "    obj = routes_pb2.Airport()\n",
    "    if airport is None:\n",
    "        return None\n",
    "    if airport.get('airport_id') is None:\n",
    "        return None\n",
    "\n",
    "    obj.airport_id = airport.get('airport_id')\n",
    "    if airport.get('name'):\n",
    "        obj.name = airport.get('name')\n",
    "    if airport.get('city'):\n",
    "        obj.city = airport.get('city')\n",
    "    if airport.get('iata'):\n",
    "        obj.iata = airport.get('iata')\n",
    "    if airport.get('icao'):\n",
    "        obj.icao = airport.get('icao')\n",
    "    if airport.get('altitude'):\n",
    "        obj.altitude = airport.get('altitude')\n",
    "    if airport.get('timezone'):\n",
    "        obj.timezone = airport.get('timezone')\n",
    "    if airport.get('dst'):\n",
    "        obj.dst = airport.get('dst')\n",
    "    if airport.get('tz_id'):\n",
    "        obj.tz_id = airport.get('tz_id')\n",
    "    if airport.get('type'):\n",
    "        obj.type = airport.get('type')\n",
    "    if airport.get('source'):\n",
    "        obj.source = airport.get('source')\n",
    "\n",
    "    obj.latitude = airport.get('latitude')\n",
    "    obj.longitude = airport.get('longitude')\n",
    "\n",
    "    return obj\n",
    "\n",
    "\n",
    "def _airline_to_proto_obj(airline):\n",
    "    obj = routes_pb2.Airline()\n",
    "    ## TODO: Create an Airline obj using Protocol Buffers API\n",
    "    # check if name and airline_id are there\n",
    "    if airline is None:\n",
    "        return None\n",
    "    if airline.get('airline_id') is None:\n",
    "        return None\n",
    "\n",
    "    # get airline info\n",
    "    obj.airline_id = airline.get('airline_id')\n",
    "\n",
    "    if airline.get('name'):\n",
    "        obj.name = airline.get('name')\n",
    "    if airline.get('alias'):\n",
    "        obj.name = airline.get('alias')\n",
    "    if airline.get('iata'):\n",
    "        obj.name = airline.get('iata')\n",
    "    if airline.get('icao'):\n",
    "        obj.name = airline.get('icao')\n",
    "    if airline.get('callsign'):\n",
    "        obj.name = airline.get('callsign')\n",
    "    if airline.get('country'):\n",
    "        obj.name = airline.get('country')\n",
    "    \n",
    "    obj.active = airline.get('active') # boolean\n",
    "    \n",
    "    return obj\n",
    "\n",
    "\n",
    "def create_protobuf_dataset(records):\n",
    "    routes = routes_pb2.Routes()\n",
    "    for record in records:\n",
    "        route = routes_pb2.Route()\n",
    "        ## TODO: Implement the code to create the Protocol Buffers Dataset\n",
    "        \n",
    "        # copy 'airline' data\n",
    "        airline = _airline_to_proto_obj(record.get('airline'))\n",
    "        if airline:\n",
    "            route.airline.CopyFrom(airline)\n",
    "\n",
    "        # copy 'src_airport' data\n",
    "        src_airport = _airport_to_proto_obj(record.get('src_airport'))\n",
    "        if src_airport:\n",
    "            route.src_airport.CopyFrom(src_airport)\n",
    "\n",
    "        # copy 'dst_airport' data\n",
    "        dst_airport = _airport_to_proto_obj(record.get('dst_airport'))\n",
    "        if dst_airport:\n",
    "            route.dst_airport.CopyFrom(dst_airport)\n",
    "\n",
    "        # get 'codeshare' data\n",
    "        route.codeshare = record.get('codeshare')\n",
    "\n",
    "        # get 'equipment' and iterate through for multiple\n",
    "        equipment = record.get('equipment')\n",
    "        for equip in equipment:\n",
    "              route.equipment.append(equip)\n",
    "\n",
    "        # add generated route to route db\n",
    "        routes.route.append(route)\n",
    "\n",
    "    data_path = results_dir.joinpath('routes.pb')\n",
    "\n",
    "    with open(data_path, 'wb') as f:\n",
    "        f.write(routes.SerializeToString())\n",
    "        \n",
    "    compressed_path = results_dir.joinpath('routes.pb.snappy')\n",
    "    \n",
    "    with open(compressed_path, 'wb') as f:\n",
    "        f.write(snappy.compress(routes.SerializeToString()))\n",
    "        \n",
    "create_protobuf_dataset(records)"
   ]
  },
  {
   "cell_type": "markdown",
   "metadata": {},
   "source": [
    "## 3.2"
   ]
  },
  {
   "cell_type": "markdown",
   "metadata": {},
   "source": [
    "### 3.2.a Simple Geohash Index"
   ]
  },
  {
   "cell_type": "code",
   "execution_count": null,
   "metadata": {},
   "outputs": [],
   "source": [
    "def create_hash_dirs(records):\n",
    "    geoindex_dir = results_dir.joinpath('geoindex')\n",
    "    geoindex_dir.mkdir(exist_ok=True, parents=True)\n",
    "    hashes = []\n",
    "    ## TODO: Create hash index\n",
    "    # Create hash index\n",
    "    # iterate over records\n",
    "    for record in records:\n",
    "        # get source airport info\n",
    "        src_airport = record.get('src_airport', {})\n",
    "\n",
    "        # if airport_data there\n",
    "        if src_airport:\n",
    "            lat = src_airport.get('latitude')\n",
    "            lon = src_airport.get('longitude')\n",
    "            if lat and lon:\n",
    "              hashes.append(pygeohash.encode(lat, lon))\n",
    "\n",
    "        hashes.sort()  \n",
    "\n",
    "        three_char = sorted(list(set([entry[:3] for entry in hashes])))\n",
    "        \n",
    "        hash_index = {value: [] for value in three_char}\n",
    "\n",
    "        # iterate through records and add to appropriate hash index\n",
    "        for record in records:\n",
    "            geohash = record.get('geohash')\n",
    "            if geohash:\n",
    "              hash_index[geohash[:3]].append(record)\n",
    "\n",
    "        # for index items create folder/subfolder directories by short hash key\n",
    "        for key, values in hash_index.items():\n",
    "            output_dir = geoindex_dir.joinpath(str(key[:1])).joinpath(str(key[:2]))\n",
    "            output_dir.mkdir(exist_ok = True, parents = True)\n",
    "            output_path = output_dir.joinpath(f\"{key}.jsonl.gz\")\n",
    "\n",
    "            # save record to appropriate subfolder/file\n",
    "            with gzip.open(output_path, 'w') as f:\n",
    "                json_output = '\\n'.join([json.dumps(value) for value in values])\n",
    "                f.write(json_output.encode('utf-8'))\n",
    "            \n",
    "create_hash_dirs(records)"
   ]
  },
  {
   "cell_type": "markdown",
   "metadata": {},
   "source": [
    "### 3.2.b Simple Search Feature"
   ]
  },
  {
   "cell_type": "code",
   "execution_count": 28,
   "metadata": {},
   "outputs": [
    {
     "name": "stdout",
     "output_type": "stream",
     "text": [
      "Closest airport is Eppley Airfield\n"
     ]
    }
   ],
   "source": [
    "def airport_search(latitude, longitude):\n",
    "    ## TODO: Create simple search to return nearest airport\n",
    "    # get input lat and lon\n",
    "    input_hash = pygeohash.encode(latitude, longitude)\n",
    "\n",
    "    # initialize variables\n",
    "    distance = 0\n",
    "    name = ''\n",
    "\n",
    "    # Iterate through records\n",
    "    for idx, record in enumerate(records):\n",
    "        # get 'src_airport' info\n",
    "        src_airport = record.get('src_airport', {})\n",
    "\n",
    "        # if src_airport not empty\n",
    "        if src_airport:\n",
    "            # get latitude, longitude, and airport name\n",
    "            lat = src_airport.get('latitude')\n",
    "            lon = src_airport.get('longitude')\n",
    "            airport_name = src_airport.get('name')\n",
    "\n",
    "            # if lat and lon not empty\n",
    "            if lat and lon:\n",
    "                # encode lat and lon\n",
    "                airport_hash = pygeohash.encode(lat, lon)\n",
    "\n",
    "                # get distance between input hash and airport hash\n",
    "                dist_n = pygeohash.geohash_approximate_distance(input_hash, airport_hash)\n",
    "                \n",
    "                # If its the first record save distance to dist\n",
    "                # else check if calc distance > distance and save smaller\n",
    "                if idx == 0:\n",
    "                    distance = dist_n\n",
    "                else:\n",
    "                    if distance > dist_n:\n",
    "                        distance = dist_n\n",
    "                        name = airport_name\n",
    "                        \n",
    "    print(f\"Closest airport is {name}\")\n",
    "    \n",
    "airport_search(41.1499988, -95.91779)"
   ]
  },
  {
   "cell_type": "code",
   "execution_count": 29,
   "metadata": {},
   "outputs": [
    {
     "name": "stdout",
     "output_type": "stream",
     "text": [
      "Avro uncompressed: 19185.77 KB\n"
     ]
    }
   ],
   "source": [
    "routes_avro_size = os.path.getsize(\"results/routes.avro\")\n",
    "print (f\"Avro uncompressed: {round(routes_avro_size/1024, 2)} KB\")"
   ]
  },
  {
   "cell_type": "code",
   "execution_count": 30,
   "metadata": {},
   "outputs": [
    {
     "name": "stdout",
     "output_type": "stream",
     "text": [
      "Parquet uncompressed: 1929.17 KB\n"
     ]
    }
   ],
   "source": [
    "routes_parquet_size = os.path.getsize(\"results/routes.parquet\")\n",
    "print (f\"Parquet uncompressed: {round(routes_parquet_size/1024, 2)} KB\")"
   ]
  },
  {
   "cell_type": "code",
   "execution_count": 31,
   "metadata": {},
   "outputs": [
    {
     "name": "stdout",
     "output_type": "stream",
     "text": [
      "PB Snappy uncompressed: 3395.79 KB\n"
     ]
    }
   ],
   "source": [
    "routes_snappy_size = os.path.getsize(\"results/routes.pb.snappy\")\n",
    "print (f\"PB Snappy uncompressed: {round(routes_snappy_size/1024, 2)} KB\")"
   ]
  },
  {
   "cell_type": "code",
   "execution_count": 32,
   "metadata": {},
   "outputs": [
    {
     "name": "stdout",
     "output_type": "stream",
     "text": [
      "PB uncompressed: 18765.11 KB\n"
     ]
    }
   ],
   "source": [
    "routes_pb_size = os.path.getsize(\"results/routes.pb\")\n",
    "print (f\"PB uncompressed: {round(routes_pb_size/1024, 2)} KB\")"
   ]
  },
  {
   "cell_type": "code",
   "execution_count": 33,
   "metadata": {},
   "outputs": [
    {
     "name": "stdout",
     "output_type": "stream",
     "text": [
      "JSON Schema: 0.0 KB\n"
     ]
    }
   ],
   "source": [
    "routes_JSONSCHEMA_size = os.path.getsize(\"schemas/routes-schema.json\")\n",
    "print (f\"JSON Schema: {round(routes_JSONSCHEMA_size/1024, 2)} KB\")"
   ]
  },
  {
   "cell_type": "code",
   "execution_count": 36,
   "metadata": {},
   "outputs": [
    {
     "name": "stdout",
     "output_type": "stream",
     "text": [
      "JSON Schema Zipped: 3249.17 KB\n"
     ]
    }
   ],
   "source": [
    "routes_JSONSCHEMA_gzsize = os.path.getsize(\"../../../data/processed/openflights/routes.jsonl.gz\")\n",
    "print (f\"JSON Schema Zipped: {round(routes_JSONSCHEMA_gzsize/1024, 2)} KB\")"
   ]
  },
  {
   "cell_type": "code",
   "execution_count": null,
   "metadata": {},
   "outputs": [],
   "source": []
  }
 ],
 "metadata": {
  "kernelspec": {
   "display_name": "Python 3 (ipykernel)",
   "language": "python",
   "name": "python3"
  },
  "language_info": {
   "codemirror_mode": {
    "name": "ipython",
    "version": 3
   },
   "file_extension": ".py",
   "mimetype": "text/x-python",
   "name": "python",
   "nbconvert_exporter": "python",
   "pygments_lexer": "ipython3",
   "version": "3.9.13"
  }
 },
 "nbformat": 4,
 "nbformat_minor": 4
}
