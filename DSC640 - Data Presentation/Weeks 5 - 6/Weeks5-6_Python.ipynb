{
 "cells": [
  {
   "cell_type": "markdown",
   "id": "074651a1-730d-4788-a485-2fcce7d652ed",
   "metadata": {},
   "source": [
    "### Python"
   ]
  },
  {
   "cell_type": "code",
   "execution_count": 1,
   "id": "36a23b9b-62bb-4170-801a-6b67b620dad6",
   "metadata": {},
   "outputs": [],
   "source": [
    "# Load libraries\n",
    "import pandas as pd\n",
    "import matplotlib.pyplot as plt\n",
    "import squarify\n",
    "import seaborn as sb"
   ]
  },
  {
   "cell_type": "code",
   "execution_count": 2,
   "id": "9416ad95-9aa2-49d2-b26c-1b488693577a",
   "metadata": {},
   "outputs": [
    {
     "data": {
      "text/html": [
       "<div>\n",
       "<style scoped>\n",
       "    .dataframe tbody tr th:only-of-type {\n",
       "        vertical-align: middle;\n",
       "    }\n",
       "\n",
       "    .dataframe tbody tr th {\n",
       "        vertical-align: top;\n",
       "    }\n",
       "\n",
       "    .dataframe thead th {\n",
       "        text-align: right;\n",
       "    }\n",
       "</style>\n",
       "<table border=\"1\" class=\"dataframe\">\n",
       "  <thead>\n",
       "    <tr style=\"text-align: right;\">\n",
       "      <th></th>\n",
       "      <th>Series id</th>\n",
       "      <th>Year</th>\n",
       "      <th>Period</th>\n",
       "      <th>Value</th>\n",
       "    </tr>\n",
       "  </thead>\n",
       "  <tbody>\n",
       "    <tr>\n",
       "      <th>0</th>\n",
       "      <td>LNS14000000</td>\n",
       "      <td>1948</td>\n",
       "      <td>M01</td>\n",
       "      <td>3.4</td>\n",
       "    </tr>\n",
       "    <tr>\n",
       "      <th>1</th>\n",
       "      <td>LNS14000000</td>\n",
       "      <td>1948</td>\n",
       "      <td>M02</td>\n",
       "      <td>3.8</td>\n",
       "    </tr>\n",
       "    <tr>\n",
       "      <th>2</th>\n",
       "      <td>LNS14000000</td>\n",
       "      <td>1948</td>\n",
       "      <td>M03</td>\n",
       "      <td>4.0</td>\n",
       "    </tr>\n",
       "    <tr>\n",
       "      <th>3</th>\n",
       "      <td>LNS14000000</td>\n",
       "      <td>1948</td>\n",
       "      <td>M04</td>\n",
       "      <td>3.9</td>\n",
       "    </tr>\n",
       "    <tr>\n",
       "      <th>4</th>\n",
       "      <td>LNS14000000</td>\n",
       "      <td>1948</td>\n",
       "      <td>M05</td>\n",
       "      <td>3.5</td>\n",
       "    </tr>\n",
       "  </tbody>\n",
       "</table>\n",
       "</div>"
      ],
      "text/plain": [
       "     Series id  Year Period  Value\n",
       "0  LNS14000000  1948    M01    3.4\n",
       "1  LNS14000000  1948    M02    3.8\n",
       "2  LNS14000000  1948    M03    4.0\n",
       "3  LNS14000000  1948    M04    3.9\n",
       "4  LNS14000000  1948    M05    3.5"
      ]
     },
     "execution_count": 2,
     "metadata": {},
     "output_type": "execute_result"
    }
   ],
   "source": [
    "# Read data file\n",
    "unemployment_df = pd.read_csv(\"data/unemployement-rate-1948-2010.csv\")\n",
    "unemployment_df.head()"
   ]
  },
  {
   "cell_type": "code",
   "execution_count": 3,
   "id": "cbfc097c-5a47-4282-ba0f-f3880fd442c9",
   "metadata": {},
   "outputs": [
    {
     "name": "stdout",
     "output_type": "stream",
     "text": [
      "<class 'pandas.core.frame.DataFrame'>\n",
      "RangeIndex: 746 entries, 0 to 745\n",
      "Data columns (total 4 columns):\n",
      " #   Column     Non-Null Count  Dtype  \n",
      "---  ------     --------------  -----  \n",
      " 0   Series id  746 non-null    object \n",
      " 1   Year       746 non-null    int64  \n",
      " 2   Period     746 non-null    object \n",
      " 3   Value      746 non-null    float64\n",
      "dtypes: float64(1), int64(1), object(2)\n",
      "memory usage: 23.4+ KB\n"
     ]
    }
   ],
   "source": [
    "unemployment_df.info()"
   ]
  },
  {
   "cell_type": "code",
   "execution_count": 4,
   "id": "eba7a177-2fb4-47a6-93c9-e250dde4e514",
   "metadata": {},
   "outputs": [
    {
     "data": {
      "text/plain": [
       "2010     2\n",
       "2009    12\n",
       "2008    12\n",
       "2007    12\n",
       "2006    12\n",
       "        ..\n",
       "1952    12\n",
       "1951    12\n",
       "1950    12\n",
       "1949    12\n",
       "1948    12\n",
       "Name: Year, Length: 63, dtype: int64"
      ]
     },
     "execution_count": 4,
     "metadata": {},
     "output_type": "execute_result"
    }
   ],
   "source": [
    "unemployment_df['Year'].value_counts().sort_index(ascending = False)"
   ]
  },
  {
   "cell_type": "code",
   "execution_count": 5,
   "id": "d483506e-530f-4eef-a101-7b5ebe206ad6",
   "metadata": {},
   "outputs": [
    {
     "data": {
      "text/html": [
       "<div>\n",
       "<style scoped>\n",
       "    .dataframe tbody tr th:only-of-type {\n",
       "        vertical-align: middle;\n",
       "    }\n",
       "\n",
       "    .dataframe tbody tr th {\n",
       "        vertical-align: top;\n",
       "    }\n",
       "\n",
       "    .dataframe thead th {\n",
       "        text-align: right;\n",
       "    }\n",
       "</style>\n",
       "<table border=\"1\" class=\"dataframe\">\n",
       "  <thead>\n",
       "    <tr style=\"text-align: right;\">\n",
       "      <th></th>\n",
       "      <th>year</th>\n",
       "      <th>category</th>\n",
       "      <th>expenditure</th>\n",
       "      <th>sex</th>\n",
       "    </tr>\n",
       "  </thead>\n",
       "  <tbody>\n",
       "    <tr>\n",
       "      <th>0</th>\n",
       "      <td>2008</td>\n",
       "      <td>Food</td>\n",
       "      <td>6443</td>\n",
       "      <td>1</td>\n",
       "    </tr>\n",
       "    <tr>\n",
       "      <th>1</th>\n",
       "      <td>2008</td>\n",
       "      <td>Alcoholic Beverages</td>\n",
       "      <td>444</td>\n",
       "      <td>1</td>\n",
       "    </tr>\n",
       "    <tr>\n",
       "      <th>2</th>\n",
       "      <td>2008</td>\n",
       "      <td>Housing</td>\n",
       "      <td>17109</td>\n",
       "      <td>1</td>\n",
       "    </tr>\n",
       "    <tr>\n",
       "      <th>3</th>\n",
       "      <td>2008</td>\n",
       "      <td>Apparel</td>\n",
       "      <td>1801</td>\n",
       "      <td>1</td>\n",
       "    </tr>\n",
       "    <tr>\n",
       "      <th>4</th>\n",
       "      <td>2008</td>\n",
       "      <td>Transportation</td>\n",
       "      <td>8604</td>\n",
       "      <td>1</td>\n",
       "    </tr>\n",
       "  </tbody>\n",
       "</table>\n",
       "</div>"
      ],
      "text/plain": [
       "   year             category  expenditure  sex\n",
       "0  2008                 Food         6443    1\n",
       "1  2008  Alcoholic Beverages          444    1\n",
       "2  2008              Housing        17109    1\n",
       "3  2008              Apparel         1801    1\n",
       "4  2008       Transportation         8604    1"
      ]
     },
     "execution_count": 5,
     "metadata": {},
     "output_type": "execute_result"
    }
   ],
   "source": [
    "# Read data file\n",
    "expenditures_df = pd.read_csv(\"data/expenditures.txt\", sep = '\\t', lineterminator = '\\r')\n",
    "expenditures_df.head()"
   ]
  },
  {
   "cell_type": "markdown",
   "id": "3b94ea57-e0ba-4c5f-b65a-c0bd6ad42dec",
   "metadata": {},
   "source": [
    "### Charts"
   ]
  },
  {
   "cell_type": "markdown",
   "id": "883af4eb-b383-4fd3-a0fe-c3a65a2f7164",
   "metadata": {},
   "source": [
    "#### Treemap"
   ]
  },
  {
   "cell_type": "code",
   "execution_count": 6,
   "id": "fe727429-8ec1-4897-91b1-336dac7672f5",
   "metadata": {},
   "outputs": [
    {
     "data": {
      "text/plain": [
       "category\n",
       "Housing               280256\n",
       "Transportation        160694\n",
       "Food                  119297\n",
       "Personal Insurance     84269\n",
       "Healthcare             47383\n",
       "Entertainment          44273\n",
       "Apparel                41833\n",
       "Name: expenditure, dtype: int64"
      ]
     },
     "execution_count": 6,
     "metadata": {},
     "output_type": "execute_result"
    }
   ],
   "source": [
    "# get top 7 categories by expenditures\n",
    "category_year = expenditures_df.groupby('category')['expenditure'].sum().nlargest(7)\n",
    "category_year"
   ]
  },
  {
   "cell_type": "code",
   "execution_count": 7,
   "id": "41088dfe-af84-4516-a074-3c412aee71cb",
   "metadata": {},
   "outputs": [
    {
     "data": {
      "image/png": "[encoded data removed]",
      "text/plain": [
       "<Figure size 1080x720 with 1 Axes>"
      ]
     },
     "metadata": {
      "needs_background": "light"
     },
     "output_type": "display_data"
    }
   ],
   "source": [
    "fig, ax = plt.subplots(figsize = (15, 10))\n",
    "squarify.plot(sizes = category_year.values, label = category_year.index, \n",
    "              color = sb.color_palette(\"Blues_r\", len(category_year.values)))\n",
    "plt.title('Python - Treemap\\nTop 7 Categories by Expenditure')\n",
    "ax.axis('off')\n",
    "\n",
    "plt.show()\n",
    "\n",
    "# Save figure\n",
    "ax.get_figure().savefig('images/treemap-python.png',\n",
    "           bbox_inches = 'tight',\n",
    "           transparent = True)"
   ]
  },
  {
   "cell_type": "markdown",
   "id": "4d240cae-e514-4557-a97a-12a7318f0e0e",
   "metadata": {},
   "source": [
    "#### Area Chart"
   ]
  },
  {
   "cell_type": "code",
   "execution_count": 8,
   "id": "ed9f3e2b-64ef-4fe7-bf61-dce0dbf8cf03",
   "metadata": {},
   "outputs": [
    {
     "data": {
      "text/plain": [
       "year\n",
       "1984    21972\n",
       "1985    23489\n",
       "1986    23865\n",
       "1987    24415\n",
       "1988    25893\n",
       "1989    27811\n",
       "1990    28379\n",
       "1991    29614\n",
       "1992    30296\n",
       "1993    30692\n",
       "1994    31733\n",
       "1995    32262\n",
       "1996    33798\n",
       "1997    34820\n",
       "1998    35536\n",
       "1999    36996\n",
       "2000    38045\n",
       "2001    39519\n",
       "2002    40676\n",
       "2003    40818\n",
       "2004    43392\n",
       "2005    46407\n",
       "2006    48400\n",
       "2007    49619\n",
       "2008    50489\n",
       "dtype: int64"
      ]
     },
     "execution_count": 8,
     "metadata": {},
     "output_type": "execute_result"
    }
   ],
   "source": [
    "# expenditures per year for sex = 1\n",
    "expenditures_per_year = expenditures_df.groupby('year')\n",
    "expenditures_sex1 = expenditures_per_year.apply(lambda x: x[x['sex'] == 1]['expenditure'].sum())\n",
    "expenditures_sex1"
   ]
  },
  {
   "cell_type": "code",
   "execution_count": 9,
   "id": "7472991b-4234-4272-bee7-3c6c8bf5bb28",
   "metadata": {},
   "outputs": [
    {
     "data": {
      "image/png": "[encoded data removed]",
      "text/plain": [
       "<Figure size 720x576 with 1 Axes>"
      ]
     },
     "metadata": {
      "needs_background": "light"
     },
     "output_type": "display_data"
    }
   ],
   "source": [
    "fig, ax = plt.subplots(figsize=(10,8))\n",
    "\n",
    "ax.fill_between(expenditures_sex1.keys(), expenditures_sex1.values, color='lightblue')\n",
    "\n",
    "plt.title('Python - Area Chart\\n1984 - 2008 Expenditures')\n",
    "plt.ylabel('Expenditures')\n",
    "plt.xlabel('')\n",
    "\n",
    "plt.show()\n",
    "\n",
    "# Save figure\n",
    "ax.get_figure().savefig('images/area-chart-python.png',\n",
    "           bbox_inches = 'tight',\n",
    "           transparent = True)"
   ]
  },
  {
   "cell_type": "markdown",
   "id": "0a86970d-fb86-45a8-a687-5c3ae87b346b",
   "metadata": {},
   "source": [
    "#### Stacked Area Chart"
   ]
  },
  {
   "cell_type": "code",
   "execution_count": 14,
   "id": "6c89461c-8c38-4414-8f36-aaa42e6511ee",
   "metadata": {},
   "outputs": [
    {
     "data": {
      "text/plain": [
       "{'2009': [7.7, 8.2, 8.6, 8.9, 9.4, 9.5, 9.4, 9.7, 9.8, 10.1, 10.0, 10.0],\n",
       " '2008': [5.0, 4.8, 5.1, 5.0, 5.4, 5.5, 5.8, 6.1, 6.2, 6.6, 6.9, 7.4],\n",
       " '2007': [4.6, 4.5, 4.4, 4.5, 4.4, 4.6, 4.6, 4.6, 4.7, 4.7, 4.7, 5.0]}"
      ]
     },
     "execution_count": 14,
     "metadata": {},
     "output_type": "execute_result"
    }
   ],
   "source": [
    "year_2007 = list(unemployment_df[unemployment_df['Year'] == 2007]['Value'])\n",
    "year_2008 = list(unemployment_df[unemployment_df['Year'] == 2008]['Value'])\n",
    "year_2009 = list(unemployment_df[unemployment_df['Year'] == 2009]['Value'])\n",
    "\n",
    "y_values = {\n",
    "    '2009': year_2009,\n",
    "    '2008': year_2008,\n",
    "    '2007': year_2007\n",
    "}\n",
    "\n",
    "y_values"
   ]
  },
  {
   "cell_type": "code",
   "execution_count": 15,
   "id": "5b452ac0-6579-4300-8cb5-0d5312384d4d",
   "metadata": {},
   "outputs": [],
   "source": [
    "x = ['Jan', 'Feb', 'Mar', 'Apr', 'May', 'Jun', 'Jul', 'Aug', 'Sep', 'Oct', 'Nov', 'Dec']"
   ]
  },
  {
   "cell_type": "code",
   "execution_count": 16,
   "id": "382530ed-2cfb-4b47-ae5a-c5523fa02299",
   "metadata": {},
   "outputs": [
    {
     "data": {
      "image/png": "[encoded data removed]",
      "text/plain": [
       "<Figure size 720x576 with 1 Axes>"
      ]
     },
     "metadata": {
      "needs_background": "light"
     },
     "output_type": "display_data"
    }
   ],
   "source": [
    "fig, ax = plt.subplots(figsize=(10,8))\n",
    "\n",
    "ax.stackplot(x, y_values.values(), labels = y_values.keys(), colors = ['blue', 'royalblue', 'lightblue'])\n",
    "plt.title('Python - Stacked Area Chart\\n2007 - 2009 Unemployment Rates')\n",
    "plt.ylabel('Unemployment Rates')\n",
    "plt.xlabel('')\n",
    "\n",
    "# legend\n",
    "ax.legend(loc = 'upper left')\n",
    "\n",
    "plt.show()\n",
    "\n",
    "# Save figure\n",
    "ax.get_figure().savefig('images/stacked-area-chart-python.png',\n",
    "           bbox_inches = 'tight',\n",
    "           transparent = True)"
   ]
  },
  {
   "cell_type": "code",
   "execution_count": null,
   "id": "4b8b0063-23f6-4ea7-b5a6-f5c7d5280f56",
   "metadata": {},
   "outputs": [],
   "source": []
  }
 ],
 "metadata": {
  "kernelspec": {
   "display_name": "Python 3 (ipykernel)",
   "language": "python",
   "name": "python3"
  },
  "language_info": {
   "codemirror_mode": {
    "name": "ipython",
    "version": 3
   },
   "file_extension": ".py",
   "mimetype": "text/x-python",
   "name": "python",
   "nbconvert_exporter": "python",
   "pygments_lexer": "ipython3",
   "version": "3.8.8"
  }
 },
 "nbformat": 4,
 "nbformat_minor": 5
}
