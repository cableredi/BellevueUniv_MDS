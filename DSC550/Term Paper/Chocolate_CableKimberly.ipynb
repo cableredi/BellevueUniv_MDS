{
 "cells": [
  {
   "cell_type": "markdown",
   "id": "7957448c-1609-4fae-8339-65e52759f386",
   "metadata": {},
   "source": [
    "# DSC 550 \n",
    "\n",
    "### Term Paper:  Chocolate!\n",
    "\n",
    "Author: Kimberly Cable<br>\n",
    "Term: Summer, 2022"
   ]
  },
  {
   "cell_type": "markdown",
   "id": "d77af04c-8380-476e-8c2b-4ea6b6260955",
   "metadata": {},
   "source": [
    "## Milestone 1: Data Selection and EDA"
   ]
  },
  {
   "cell_type": "markdown",
   "id": "a27130f2-88a2-4c07-ba99-15bd37a84e48",
   "metadata": {},
   "source": [
    "### About:"
   ]
  },
  {
   "cell_type": "markdown",
   "id": "30b0addf-08c7-4e08-842d-0407418db8c9",
   "metadata": {},
   "source": [
    "Chocolate.  Who doesn't like it? It's been around since the 19th century BCE.  But what makes chocolate highly desirable?  In this study, I hope to gain that insight."
   ]
  },
  {
   "cell_type": "markdown",
   "id": "7669f9bb-4d6a-4f84-87d7-5a33a7d9e294",
   "metadata": {},
   "source": [
    "### References"
   ]
  },
  {
   "cell_type": "markdown",
   "id": "9cb7941f-73db-4203-8dee-15f7fd191f0a",
   "metadata": {},
   "source": [
    "Manhattan Chocolate Society, Flavors of Cacao [Internet]. Available from: http://flavorsofcacao.com/"
   ]
  },
  {
   "cell_type": "markdown",
   "id": "4b3ab92f-82c8-414f-8f8d-b956c9451e13",
   "metadata": {},
   "source": [
    "### Plan of Attack:"
   ]
  },
  {
   "cell_type": "markdown",
   "id": "ef27d2cf-3c0e-48a4-b4e2-fe1b0e556533",
   "metadata": {},
   "source": [
    "Chocolate is loved by many worldwide.  But what makes good chocolate?  Chocolatiers, home cooks, and lovers of chocolate eat, use and make chocolate.  Knowing where to get good chocolate could make or break a recipe or even a good relationship.\n",
    "\n",
    "The data I will use comes from the Flavors of Cacao website and their Chocolate Bar Ratings table. The data includes features such as cocoa content, where it was made, bean origin, the number of ingredients, and its characteristics and rating. I will also get the USA Craft Makers table and merge it with the Chocolate Bar Ratings to look more closely at the US Chocolate Companies.\n",
    "\n",
    "I plan to look to see if I can predict the ratings for chocolate in the US and see if any features play a part in good chocolate. \n",
    "\n",
    "I will look at questions such as:\n",
    "* Which states have the best chocolate?\n",
    "* Which ingredients make the best chocolate?\n",
    "* How much cocoa makes for good chocolate?\n",
    "* What are the key characteristics of good chocolate?\n",
    "\n",
    "I do not see any major ethical implications for my study, but it does have subjective attributes that some may disagree with.\n",
    "\n",
    "Some of the challenges I see are cleaning the dataset and separating out some of the columns. Also, the model building may be a challenge as I have never used many categorical methods before.\n"
   ]
  },
  {
   "cell_type": "markdown",
   "id": "cf62b1d7-0866-4f9a-8421-15d668a04c88",
   "metadata": {},
   "source": [
    "### Data Dictionary:"
   ]
  },
  {
   "cell_type": "markdown",
   "id": "a749febd-bf0f-4fd9-b7b8-d25bd09c1493",
   "metadata": {},
   "source": [
    "**Chocolate Bar Ratings**\n",
    "\n",
    "1. **REF:** Reference number\n",
    "2. **Company(Manufacturer):** Company that made the chocolate\n",
    "3. **Company Location:** Location of the Company (country)\n",
    "4. **Review Date:** Year the chocolate was reviewed\n",
    "5. **Country of Bean Origin:** Country the bean originated in\n",
    "6. **Specific Bean Origin or Bar Name:** Specifics of the bean origin and/or batch\n",
    "7. **Cocoa Percent:** Percentage of cocoa in chocolate\n",
    "8. **Ingredients:** Number and ingredients\n",
    "        - B: Beans\n",
    "        - S: Sugar\n",
    "        - S*: Sweetener other than white cane or beet sugar\n",
    "        - C: Cocoa Butter\n",
    "        - V: Vanilla\n",
    "        - L: Lecithin\n",
    "        - Sa: Salt\n",
    "9. **Most Memorable Characteristics:** A summary review of the most memorable characteristics of that bar.\n",
    "10. **Rating:** Each chocolate is evaluated from a combination of both objective qualities and subjective interpretation. A rating here only represents an experience with one bar from one batch.\n",
    "    * **Rating Scale**\n",
    "        - 4.0 - 5.0   = Outstanding\n",
    "        - 3.5 - 3.9   = Highly Recommended\n",
    "        - 3.0 - 3.49 = Recommended\n",
    "        - 2.0 - 2.9   = Disappointing\n",
    "        - 1.0 - 1.9   = Unpleasant"
   ]
  },
  {
   "cell_type": "markdown",
   "id": "ad88b7bf-ad17-4f72-b24b-979149f935a7",
   "metadata": {},
   "source": [
    "**USA Craft Makers**\n",
    "\n",
    "1. **COMPANY NAME**: Company that made the chocolate\n",
    "2. **CITY**: Company's city location\n",
    "3. **STATE**: Company's state of location\n",
    "4. **OWNER/MAKER**: Owner or maker of the chocolate"
   ]
  },
  {
   "cell_type": "markdown",
   "id": "f252edc7-1b82-4802-b33a-753a7390924a",
   "metadata": {},
   "source": [
    "### Libraries Needed"
   ]
  },
  {
   "cell_type": "markdown",
   "id": "d6924b36-aa14-4923-9aae-636c0e7784f7",
   "metadata": {},
   "source": [
    "1. pandas\n",
    "2. matplotlib\n",
    "3. numpy\n",
    "4. seaborn\n",
    "5. wordcloud"
   ]
  },
  {
   "cell_type": "code",
   "execution_count": 1,
   "id": "6198d173-19f9-45b7-8d14-2aa8aa15020d",
   "metadata": {},
   "outputs": [],
   "source": [
    "# import libraries\n",
    "import pandas as pd\n",
    "import matplotlib.pyplot as plt\n",
    "import numpy as np\n",
    "import seaborn as sns\n",
    "import wordcloud\n",
    "from wordcloud import WordCloud, ImageColorGenerator\n",
    "%matplotlib inline"
   ]
  },
  {
   "cell_type": "markdown",
   "id": "0e0fe4c4-c5a0-4f14-8ad8-ed3944c551be",
   "metadata": {},
   "source": [
    "### Read Chocolate Ratings dataset"
   ]
  },
  {
   "cell_type": "code",
   "execution_count": 2,
   "id": "df7cba00-913a-448c-8828-808502e1b50c",
   "metadata": {},
   "outputs": [
    {
     "data": {
      "text/html": [
       "<div>\n",
       "<style scoped>\n",
       "    .dataframe tbody tr th:only-of-type {\n",
       "        vertical-align: middle;\n",
       "    }\n",
       "\n",
       "    .dataframe tbody tr th {\n",
       "        vertical-align: top;\n",
       "    }\n",
       "\n",
       "    .dataframe thead th {\n",
       "        text-align: right;\n",
       "    }\n",
       "</style>\n",
       "<table border=\"1\" class=\"dataframe\">\n",
       "  <thead>\n",
       "    <tr style=\"text-align: right;\">\n",
       "      <th></th>\n",
       "      <th>REF</th>\n",
       "      <th>Company (Manufacturer)</th>\n",
       "      <th>Company Location</th>\n",
       "      <th>Review Date</th>\n",
       "      <th>Country of Bean Origin</th>\n",
       "      <th>Specific Bean Origin or Bar Name</th>\n",
       "      <th>Cocoa Percent</th>\n",
       "      <th>Ingredients</th>\n",
       "      <th>Most Memorable Characteristics</th>\n",
       "      <th>Rating</th>\n",
       "    </tr>\n",
       "  </thead>\n",
       "  <tbody>\n",
       "    <tr>\n",
       "      <th>0</th>\n",
       "      <td>2454</td>\n",
       "      <td>5150</td>\n",
       "      <td>U.S.A.</td>\n",
       "      <td>2019</td>\n",
       "      <td>Tanzania</td>\n",
       "      <td>Kokoa Kamili, batch 1</td>\n",
       "      <td>0.76</td>\n",
       "      <td>3- B,S,C</td>\n",
       "      <td>rich cocoa, fatty, bready</td>\n",
       "      <td>3.25</td>\n",
       "    </tr>\n",
       "    <tr>\n",
       "      <th>1</th>\n",
       "      <td>2454</td>\n",
       "      <td>5150</td>\n",
       "      <td>U.S.A.</td>\n",
       "      <td>2019</td>\n",
       "      <td>Madagascar</td>\n",
       "      <td>Bejofo Estate, batch 1</td>\n",
       "      <td>0.76</td>\n",
       "      <td>3- B,S,C</td>\n",
       "      <td>cocoa, blackberry, full body</td>\n",
       "      <td>3.75</td>\n",
       "    </tr>\n",
       "    <tr>\n",
       "      <th>2</th>\n",
       "      <td>2458</td>\n",
       "      <td>5150</td>\n",
       "      <td>U.S.A.</td>\n",
       "      <td>2019</td>\n",
       "      <td>Dominican Republic</td>\n",
       "      <td>Zorzal, batch 1</td>\n",
       "      <td>0.76</td>\n",
       "      <td>3- B,S,C</td>\n",
       "      <td>cocoa, vegetal, savory</td>\n",
       "      <td>3.50</td>\n",
       "    </tr>\n",
       "    <tr>\n",
       "      <th>3</th>\n",
       "      <td>2542</td>\n",
       "      <td>5150</td>\n",
       "      <td>U.S.A.</td>\n",
       "      <td>2021</td>\n",
       "      <td>Fiji</td>\n",
       "      <td>Matasawalevu, batch 1</td>\n",
       "      <td>0.68</td>\n",
       "      <td>3- B,S,C</td>\n",
       "      <td>chewy, off, rubbery</td>\n",
       "      <td>3.00</td>\n",
       "    </tr>\n",
       "    <tr>\n",
       "      <th>4</th>\n",
       "      <td>2542</td>\n",
       "      <td>5150</td>\n",
       "      <td>U.S.A.</td>\n",
       "      <td>2021</td>\n",
       "      <td>India</td>\n",
       "      <td>Anamalai, batch 1</td>\n",
       "      <td>0.68</td>\n",
       "      <td>3- B,S,C</td>\n",
       "      <td>milk brownie, macadamia,chewy</td>\n",
       "      <td>3.50</td>\n",
       "    </tr>\n",
       "  </tbody>\n",
       "</table>\n",
       "</div>"
      ],
      "text/plain": [
       "    REF Company (Manufacturer) Company Location  Review Date  \\\n",
       "0  2454                   5150           U.S.A.         2019   \n",
       "1  2454                   5150           U.S.A.         2019   \n",
       "2  2458                   5150           U.S.A.         2019   \n",
       "3  2542                   5150           U.S.A.         2021   \n",
       "4  2542                   5150           U.S.A.         2021   \n",
       "\n",
       "  Country of Bean Origin Specific Bean Origin or Bar Name  Cocoa Percent  \\\n",
       "0               Tanzania            Kokoa Kamili, batch 1           0.76   \n",
       "1             Madagascar           Bejofo Estate, batch 1           0.76   \n",
       "2     Dominican Republic                  Zorzal, batch 1           0.76   \n",
       "3                   Fiji            Matasawalevu, batch 1           0.68   \n",
       "4                  India                Anamalai, batch 1           0.68   \n",
       "\n",
       "  Ingredients Most Memorable Characteristics  Rating  \n",
       "0    3- B,S,C      rich cocoa, fatty, bready    3.25  \n",
       "1    3- B,S,C   cocoa, blackberry, full body    3.75  \n",
       "2    3- B,S,C         cocoa, vegetal, savory    3.50  \n",
       "3    3- B,S,C            chewy, off, rubbery    3.00  \n",
       "4    3- B,S,C  milk brownie, macadamia,chewy    3.50  "
      ]
     },
     "execution_count": 2,
     "metadata": {},
     "output_type": "execute_result"
    }
   ],
   "source": [
    "# Read dataset\n",
    "try:\n",
    "    chocolate_df = pd.read_excel(\"Chocolate Ratings.xlsx\")\n",
    "except Exception:\n",
    "    print(\"There was an error reading the Chocolate Ratings file\")\n",
    "    \n",
    "chocolate_df.head()"
   ]
  },
  {
   "cell_type": "markdown",
   "id": "5b23a268-98f3-40c5-a64e-f9215acf643a",
   "metadata": {},
   "source": [
    "### Read USA Craft Makers dataset"
   ]
  },
  {
   "cell_type": "code",
   "execution_count": 3,
   "id": "1ebbb667-3fe9-4c73-8b86-6b5007267868",
   "metadata": {},
   "outputs": [
    {
     "data": {
      "text/html": [
       "<div>\n",
       "<style scoped>\n",
       "    .dataframe tbody tr th:only-of-type {\n",
       "        vertical-align: middle;\n",
       "    }\n",
       "\n",
       "    .dataframe tbody tr th {\n",
       "        vertical-align: top;\n",
       "    }\n",
       "\n",
       "    .dataframe thead th {\n",
       "        text-align: right;\n",
       "    }\n",
       "</style>\n",
       "<table border=\"1\" class=\"dataframe\">\n",
       "  <thead>\n",
       "    <tr style=\"text-align: right;\">\n",
       "      <th></th>\n",
       "      <th>COMPANY NAME</th>\n",
       "      <th>CITY</th>\n",
       "      <th>STATE</th>\n",
       "      <th>OWNER/MAKER</th>\n",
       "    </tr>\n",
       "  </thead>\n",
       "  <tbody>\n",
       "    <tr>\n",
       "      <th>0</th>\n",
       "      <td>5150 Chocolate Co.</td>\n",
       "      <td>Delray Beach</td>\n",
       "      <td>Florida</td>\n",
       "      <td>Tyler Levitetz</td>\n",
       "    </tr>\n",
       "    <tr>\n",
       "      <th>1</th>\n",
       "      <td>Acalli (closed)</td>\n",
       "      <td>Gretna</td>\n",
       "      <td>Louisiana</td>\n",
       "      <td>Carol Morse</td>\n",
       "    </tr>\n",
       "    <tr>\n",
       "      <th>2</th>\n",
       "      <td>Adalee</td>\n",
       "      <td>Eagle Mountain</td>\n",
       "      <td>Utah</td>\n",
       "      <td>NaN</td>\n",
       "    </tr>\n",
       "    <tr>\n",
       "      <th>3</th>\n",
       "      <td>Adams Chocolate</td>\n",
       "      <td>Nyack</td>\n",
       "      <td>New York</td>\n",
       "      <td>Adam Berrios</td>\n",
       "    </tr>\n",
       "    <tr>\n",
       "      <th>4</th>\n",
       "      <td>Affinity</td>\n",
       "      <td>Sugar Land</td>\n",
       "      <td>Texas</td>\n",
       "      <td>Chris Campbell</td>\n",
       "    </tr>\n",
       "  </tbody>\n",
       "</table>\n",
       "</div>"
      ],
      "text/plain": [
       "         COMPANY NAME            CITY      STATE     OWNER/MAKER\n",
       "0  5150 Chocolate Co.    Delray Beach    Florida  Tyler Levitetz\n",
       "1     Acalli (closed)          Gretna  Louisiana     Carol Morse\n",
       "2              Adalee  Eagle Mountain       Utah             NaN\n",
       "3     Adams Chocolate           Nyack   New York    Adam Berrios\n",
       "4            Affinity      Sugar Land      Texas  Chris Campbell"
      ]
     },
     "execution_count": 3,
     "metadata": {},
     "output_type": "execute_result"
    }
   ],
   "source": [
    "# Read dataset\n",
    "try:\n",
    "    usa_companies_df = pd.read_excel(\"USA Companies.xlsx\")\n",
    "except Exception:\n",
    "    print(\"There was an error reading the USA Companies file\")\n",
    "    \n",
    "usa_companies_df.head()"
   ]
  },
  {
   "cell_type": "markdown",
   "id": "74c1f4ed-4803-46a3-921b-281a2b0c83e0",
   "metadata": {},
   "source": [
    "### Get preliminary information about Chocolate Ratings dataset"
   ]
  },
  {
   "cell_type": "code",
   "execution_count": 4,
   "id": "2d253db0-4b17-4f22-82e6-56ab380138be",
   "metadata": {},
   "outputs": [
    {
     "data": {
      "text/plain": [
       "(2588, 10)"
      ]
     },
     "execution_count": 4,
     "metadata": {},
     "output_type": "execute_result"
    }
   ],
   "source": [
    "# Shape\n",
    "chocolate_df.shape"
   ]
  },
  {
   "cell_type": "markdown",
   "id": "e462570a-b9f5-4c30-95f5-073036d0990c",
   "metadata": {},
   "source": [
    "There are 2,588 chocolate rating observations and 10 columns"
   ]
  },
  {
   "cell_type": "code",
   "execution_count": 5,
   "id": "361ffe9d-1b8d-4aa7-8891-9ce070dae83f",
   "metadata": {},
   "outputs": [
    {
     "name": "stdout",
     "output_type": "stream",
     "text": [
      "<class 'pandas.core.frame.DataFrame'>\n",
      "RangeIndex: 2588 entries, 0 to 2587\n",
      "Data columns (total 10 columns):\n",
      " #   Column                            Non-Null Count  Dtype  \n",
      "---  ------                            --------------  -----  \n",
      " 0   REF                               2588 non-null   int64  \n",
      " 1   Company (Manufacturer)            2588 non-null   object \n",
      " 2   Company Location                  2588 non-null   object \n",
      " 3   Review Date                       2588 non-null   int64  \n",
      " 4   Country of Bean Origin            2588 non-null   object \n",
      " 5   Specific Bean Origin or Bar Name  2588 non-null   object \n",
      " 6   Cocoa Percent                     2588 non-null   float64\n",
      " 7   Ingredients                       2501 non-null   object \n",
      " 8   Most Memorable Characteristics    2588 non-null   object \n",
      " 9   Rating                            2588 non-null   float64\n",
      "dtypes: float64(2), int64(2), object(6)\n",
      "memory usage: 202.3+ KB\n"
     ]
    }
   ],
   "source": [
    "# Information on features\n",
    "chocolate_df.info()"
   ]
  },
  {
   "cell_type": "markdown",
   "id": "d2d66587-2c67-4c57-ba38-eae5130290b9",
   "metadata": {},
   "source": [
    "**Conclusions:**\n",
    "\n",
    "* There is a mix of numeric and categorical data, the majority being categorical.\n",
    "* The target variable will be the rating as the best chocolates have a highly recommended rating and above\n",
    "    * 4.0 - 5.0: Outstanding\n",
    "    * 3.5 - 3.9: Highly Recommended\n",
    "    * 3.0 - 3.49: Recommended\n",
    "    * 2.0 - 2.9: Disappointing\n",
    "    * 1.0 - 1.9: Unpleasant\n",
    "* Some features will not be useful like REF."
   ]
  },
  {
   "cell_type": "code",
   "execution_count": 6,
   "id": "476e6cc0-1537-424f-a3b1-c78e180adaf8",
   "metadata": {},
   "outputs": [
    {
     "data": {
      "text/html": [
       "<div>\n",
       "<style scoped>\n",
       "    .dataframe tbody tr th:only-of-type {\n",
       "        vertical-align: middle;\n",
       "    }\n",
       "\n",
       "    .dataframe tbody tr th {\n",
       "        vertical-align: top;\n",
       "    }\n",
       "\n",
       "    .dataframe thead th {\n",
       "        text-align: right;\n",
       "    }\n",
       "</style>\n",
       "<table border=\"1\" class=\"dataframe\">\n",
       "  <thead>\n",
       "    <tr style=\"text-align: right;\">\n",
       "      <th></th>\n",
       "      <th>REF</th>\n",
       "      <th>Review Date</th>\n",
       "      <th>Cocoa Percent</th>\n",
       "      <th>Rating</th>\n",
       "    </tr>\n",
       "  </thead>\n",
       "  <tbody>\n",
       "    <tr>\n",
       "      <th>count</th>\n",
       "      <td>2588.000000</td>\n",
       "      <td>2588.000000</td>\n",
       "      <td>2588.000000</td>\n",
       "      <td>2588.000000</td>\n",
       "    </tr>\n",
       "    <tr>\n",
       "      <th>mean</th>\n",
       "      <td>1459.185471</td>\n",
       "      <td>2014.545209</td>\n",
       "      <td>0.716130</td>\n",
       "      <td>3.198319</td>\n",
       "    </tr>\n",
       "    <tr>\n",
       "      <th>std</th>\n",
       "      <td>773.852201</td>\n",
       "      <td>4.082722</td>\n",
       "      <td>0.055771</td>\n",
       "      <td>0.444069</td>\n",
       "    </tr>\n",
       "    <tr>\n",
       "      <th>min</th>\n",
       "      <td>5.000000</td>\n",
       "      <td>2006.000000</td>\n",
       "      <td>0.420000</td>\n",
       "      <td>1.000000</td>\n",
       "    </tr>\n",
       "    <tr>\n",
       "      <th>25%</th>\n",
       "      <td>820.000000</td>\n",
       "      <td>2012.000000</td>\n",
       "      <td>0.700000</td>\n",
       "      <td>3.000000</td>\n",
       "    </tr>\n",
       "    <tr>\n",
       "      <th>50%</th>\n",
       "      <td>1470.000000</td>\n",
       "      <td>2015.000000</td>\n",
       "      <td>0.700000</td>\n",
       "      <td>3.250000</td>\n",
       "    </tr>\n",
       "    <tr>\n",
       "      <th>75%</th>\n",
       "      <td>2122.000000</td>\n",
       "      <td>2018.000000</td>\n",
       "      <td>0.740000</td>\n",
       "      <td>3.500000</td>\n",
       "    </tr>\n",
       "    <tr>\n",
       "      <th>max</th>\n",
       "      <td>2768.000000</td>\n",
       "      <td>2022.000000</td>\n",
       "      <td>1.000000</td>\n",
       "      <td>4.000000</td>\n",
       "    </tr>\n",
       "  </tbody>\n",
       "</table>\n",
       "</div>"
      ],
      "text/plain": [
       "               REF  Review Date  Cocoa Percent       Rating\n",
       "count  2588.000000  2588.000000    2588.000000  2588.000000\n",
       "mean   1459.185471  2014.545209       0.716130     3.198319\n",
       "std     773.852201     4.082722       0.055771     0.444069\n",
       "min       5.000000  2006.000000       0.420000     1.000000\n",
       "25%     820.000000  2012.000000       0.700000     3.000000\n",
       "50%    1470.000000  2015.000000       0.700000     3.250000\n",
       "75%    2122.000000  2018.000000       0.740000     3.500000\n",
       "max    2768.000000  2022.000000       1.000000     4.000000"
      ]
     },
     "execution_count": 6,
     "metadata": {},
     "output_type": "execute_result"
    }
   ],
   "source": [
    "# Get summary statstics on numerical data\n",
    "chocolate_df.describe()"
   ]
  },
  {
   "cell_type": "code",
   "execution_count": 7,
   "id": "ccf28fe6-4eee-476b-a842-cd03db2f84ab",
   "metadata": {},
   "outputs": [
    {
     "data": {
      "text/html": [
       "<div>\n",
       "<style scoped>\n",
       "    .dataframe tbody tr th:only-of-type {\n",
       "        vertical-align: middle;\n",
       "    }\n",
       "\n",
       "    .dataframe tbody tr th {\n",
       "        vertical-align: top;\n",
       "    }\n",
       "\n",
       "    .dataframe thead th {\n",
       "        text-align: right;\n",
       "    }\n",
       "</style>\n",
       "<table border=\"1\" class=\"dataframe\">\n",
       "  <thead>\n",
       "    <tr style=\"text-align: right;\">\n",
       "      <th></th>\n",
       "      <th>Company (Manufacturer)</th>\n",
       "      <th>Company Location</th>\n",
       "      <th>Country of Bean Origin</th>\n",
       "      <th>Specific Bean Origin or Bar Name</th>\n",
       "      <th>Ingredients</th>\n",
       "      <th>Most Memorable Characteristics</th>\n",
       "    </tr>\n",
       "  </thead>\n",
       "  <tbody>\n",
       "    <tr>\n",
       "      <th>count</th>\n",
       "      <td>2588</td>\n",
       "      <td>2588</td>\n",
       "      <td>2588</td>\n",
       "      <td>2588</td>\n",
       "      <td>2501</td>\n",
       "      <td>2588</td>\n",
       "    </tr>\n",
       "    <tr>\n",
       "      <th>unique</th>\n",
       "      <td>593</td>\n",
       "      <td>65</td>\n",
       "      <td>63</td>\n",
       "      <td>1643</td>\n",
       "      <td>21</td>\n",
       "      <td>2545</td>\n",
       "    </tr>\n",
       "    <tr>\n",
       "      <th>top</th>\n",
       "      <td>Soma</td>\n",
       "      <td>U.S.A.</td>\n",
       "      <td>Venezuela</td>\n",
       "      <td>Madagascar</td>\n",
       "      <td>3- B,S,C</td>\n",
       "      <td>spicy, cocoa</td>\n",
       "    </tr>\n",
       "    <tr>\n",
       "      <th>freq</th>\n",
       "      <td>57</td>\n",
       "      <td>1168</td>\n",
       "      <td>254</td>\n",
       "      <td>56</td>\n",
       "      <td>1029</td>\n",
       "      <td>4</td>\n",
       "    </tr>\n",
       "  </tbody>\n",
       "</table>\n",
       "</div>"
      ],
      "text/plain": [
       "       Company (Manufacturer) Company Location Country of Bean Origin  \\\n",
       "count                    2588             2588                   2588   \n",
       "unique                    593               65                     63   \n",
       "top                      Soma           U.S.A.              Venezuela   \n",
       "freq                       57             1168                    254   \n",
       "\n",
       "       Specific Bean Origin or Bar Name Ingredients  \\\n",
       "count                              2588        2501   \n",
       "unique                             1643          21   \n",
       "top                          Madagascar    3- B,S,C   \n",
       "freq                                 56        1029   \n",
       "\n",
       "       Most Memorable Characteristics  \n",
       "count                            2588  \n",
       "unique                           2545  \n",
       "top                      spicy, cocoa  \n",
       "freq                                4  "
      ]
     },
     "execution_count": 7,
     "metadata": {},
     "output_type": "execute_result"
    }
   ],
   "source": [
    "# Get summary statistics on non-numerical data\n",
    "chocolate_df.describe(include = ['O'])"
   ]
  },
  {
   "cell_type": "markdown",
   "id": "ca9ccb5c-517d-4b8d-b641-6ca86b372393",
   "metadata": {},
   "source": [
    "### Get preliminary information about USA Craft Makers dataset"
   ]
  },
  {
   "cell_type": "code",
   "execution_count": 8,
   "id": "a75ded29-70ea-4122-a0a7-b2d825fa880d",
   "metadata": {},
   "outputs": [
    {
     "data": {
      "text/plain": [
       "(337, 4)"
      ]
     },
     "execution_count": 8,
     "metadata": {},
     "output_type": "execute_result"
    }
   ],
   "source": [
    "# Shape\n",
    "usa_companies_df.shape"
   ]
  },
  {
   "cell_type": "code",
   "execution_count": 9,
   "id": "023d7a02-1b2c-493c-904f-7cbdd664396f",
   "metadata": {},
   "outputs": [
    {
     "name": "stdout",
     "output_type": "stream",
     "text": [
      "<class 'pandas.core.frame.DataFrame'>\n",
      "RangeIndex: 337 entries, 0 to 336\n",
      "Data columns (total 4 columns):\n",
      " #   Column        Non-Null Count  Dtype \n",
      "---  ------        --------------  ----- \n",
      " 0   COMPANY NAME  337 non-null    object\n",
      " 1   CITY          337 non-null    object\n",
      " 2   STATE         337 non-null    object\n",
      " 3   OWNER/MAKER   331 non-null    object\n",
      "dtypes: object(4)\n",
      "memory usage: 10.7+ KB\n"
     ]
    }
   ],
   "source": [
    "# Information on features\n",
    "usa_companies_df.info()"
   ]
  },
  {
   "cell_type": "code",
   "execution_count": 10,
   "id": "98923376-24ed-4c9c-aff2-dbadbc6fa3eb",
   "metadata": {},
   "outputs": [
    {
     "data": {
      "text/html": [
       "<div>\n",
       "<style scoped>\n",
       "    .dataframe tbody tr th:only-of-type {\n",
       "        vertical-align: middle;\n",
       "    }\n",
       "\n",
       "    .dataframe tbody tr th {\n",
       "        vertical-align: top;\n",
       "    }\n",
       "\n",
       "    .dataframe thead th {\n",
       "        text-align: right;\n",
       "    }\n",
       "</style>\n",
       "<table border=\"1\" class=\"dataframe\">\n",
       "  <thead>\n",
       "    <tr style=\"text-align: right;\">\n",
       "      <th></th>\n",
       "      <th>COMPANY NAME</th>\n",
       "      <th>CITY</th>\n",
       "      <th>STATE</th>\n",
       "      <th>OWNER/MAKER</th>\n",
       "    </tr>\n",
       "  </thead>\n",
       "  <tbody>\n",
       "    <tr>\n",
       "      <th>count</th>\n",
       "      <td>337</td>\n",
       "      <td>337</td>\n",
       "      <td>337</td>\n",
       "      <td>331</td>\n",
       "    </tr>\n",
       "    <tr>\n",
       "      <th>unique</th>\n",
       "      <td>337</td>\n",
       "      <td>242</td>\n",
       "      <td>49</td>\n",
       "      <td>329</td>\n",
       "    </tr>\n",
       "    <tr>\n",
       "      <th>top</th>\n",
       "      <td>5150 Chocolate Co.</td>\n",
       "      <td>New York</td>\n",
       "      <td>California</td>\n",
       "      <td>Joshua Parker</td>\n",
       "    </tr>\n",
       "    <tr>\n",
       "      <th>freq</th>\n",
       "      <td>1</td>\n",
       "      <td>14</td>\n",
       "      <td>47</td>\n",
       "      <td>2</td>\n",
       "    </tr>\n",
       "  </tbody>\n",
       "</table>\n",
       "</div>"
      ],
      "text/plain": [
       "              COMPANY NAME      CITY       STATE    OWNER/MAKER\n",
       "count                  337       337         337            331\n",
       "unique                 337       242          49            329\n",
       "top     5150 Chocolate Co.  New York  California  Joshua Parker\n",
       "freq                     1        14          47              2"
      ]
     },
     "execution_count": 10,
     "metadata": {},
     "output_type": "execute_result"
    }
   ],
   "source": [
    "# Get summary statistics on non-numerical data\n",
    "usa_companies_df.describe(include = ['O'])"
   ]
  },
  {
   "cell_type": "markdown",
   "id": "6bb503eb-1c2c-46e6-9905-3d100142b11d",
   "metadata": {},
   "source": [
    "**Conclusions:**\n",
    "\n",
    "* There is only categorical data.\n",
    "* Some features will not be useful like Owner/Maker."
   ]
  },
  {
   "cell_type": "markdown",
   "id": "6dfe9215-4cb6-4583-9957-ae05b210e1de",
   "metadata": {},
   "source": [
    "### Split Chocolate Ratings dataset into USA and Rest"
   ]
  },
  {
   "cell_type": "code",
   "execution_count": 11,
   "id": "f56e49af-87de-451d-a354-8ab762f07439",
   "metadata": {},
   "outputs": [],
   "source": [
    "chocolate_usa_df = chocolate_df[chocolate_df['Company Location'] == 'U.S.A.']\n",
    "chocolate_rest_df = chocolate_df[chocolate_df['Company Location'] != 'U.S.A.']"
   ]
  },
  {
   "cell_type": "code",
   "execution_count": 12,
   "id": "08b7e36a-0edd-4ffc-90c5-772c0cf845e5",
   "metadata": {},
   "outputs": [
    {
     "data": {
      "text/html": [
       "<div>\n",
       "<style scoped>\n",
       "    .dataframe tbody tr th:only-of-type {\n",
       "        vertical-align: middle;\n",
       "    }\n",
       "\n",
       "    .dataframe tbody tr th {\n",
       "        vertical-align: top;\n",
       "    }\n",
       "\n",
       "    .dataframe thead th {\n",
       "        text-align: right;\n",
       "    }\n",
       "</style>\n",
       "<table border=\"1\" class=\"dataframe\">\n",
       "  <thead>\n",
       "    <tr style=\"text-align: right;\">\n",
       "      <th></th>\n",
       "      <th>REF</th>\n",
       "      <th>Company (Manufacturer)</th>\n",
       "      <th>Company Location</th>\n",
       "      <th>Review Date</th>\n",
       "      <th>Country of Bean Origin</th>\n",
       "      <th>Specific Bean Origin or Bar Name</th>\n",
       "      <th>Cocoa Percent</th>\n",
       "      <th>Ingredients</th>\n",
       "      <th>Most Memorable Characteristics</th>\n",
       "      <th>Rating</th>\n",
       "    </tr>\n",
       "  </thead>\n",
       "  <tbody>\n",
       "    <tr>\n",
       "      <th>0</th>\n",
       "      <td>2454</td>\n",
       "      <td>5150</td>\n",
       "      <td>U.S.A.</td>\n",
       "      <td>2019</td>\n",
       "      <td>Tanzania</td>\n",
       "      <td>Kokoa Kamili, batch 1</td>\n",
       "      <td>0.76</td>\n",
       "      <td>3- B,S,C</td>\n",
       "      <td>rich cocoa, fatty, bready</td>\n",
       "      <td>3.25</td>\n",
       "    </tr>\n",
       "    <tr>\n",
       "      <th>1</th>\n",
       "      <td>2454</td>\n",
       "      <td>5150</td>\n",
       "      <td>U.S.A.</td>\n",
       "      <td>2019</td>\n",
       "      <td>Madagascar</td>\n",
       "      <td>Bejofo Estate, batch 1</td>\n",
       "      <td>0.76</td>\n",
       "      <td>3- B,S,C</td>\n",
       "      <td>cocoa, blackberry, full body</td>\n",
       "      <td>3.75</td>\n",
       "    </tr>\n",
       "    <tr>\n",
       "      <th>2</th>\n",
       "      <td>2458</td>\n",
       "      <td>5150</td>\n",
       "      <td>U.S.A.</td>\n",
       "      <td>2019</td>\n",
       "      <td>Dominican Republic</td>\n",
       "      <td>Zorzal, batch 1</td>\n",
       "      <td>0.76</td>\n",
       "      <td>3- B,S,C</td>\n",
       "      <td>cocoa, vegetal, savory</td>\n",
       "      <td>3.50</td>\n",
       "    </tr>\n",
       "    <tr>\n",
       "      <th>3</th>\n",
       "      <td>2542</td>\n",
       "      <td>5150</td>\n",
       "      <td>U.S.A.</td>\n",
       "      <td>2021</td>\n",
       "      <td>Fiji</td>\n",
       "      <td>Matasawalevu, batch 1</td>\n",
       "      <td>0.68</td>\n",
       "      <td>3- B,S,C</td>\n",
       "      <td>chewy, off, rubbery</td>\n",
       "      <td>3.00</td>\n",
       "    </tr>\n",
       "    <tr>\n",
       "      <th>4</th>\n",
       "      <td>2542</td>\n",
       "      <td>5150</td>\n",
       "      <td>U.S.A.</td>\n",
       "      <td>2021</td>\n",
       "      <td>India</td>\n",
       "      <td>Anamalai, batch 1</td>\n",
       "      <td>0.68</td>\n",
       "      <td>3- B,S,C</td>\n",
       "      <td>milk brownie, macadamia,chewy</td>\n",
       "      <td>3.50</td>\n",
       "    </tr>\n",
       "  </tbody>\n",
       "</table>\n",
       "</div>"
      ],
      "text/plain": [
       "    REF Company (Manufacturer) Company Location  Review Date  \\\n",
       "0  2454                   5150           U.S.A.         2019   \n",
       "1  2454                   5150           U.S.A.         2019   \n",
       "2  2458                   5150           U.S.A.         2019   \n",
       "3  2542                   5150           U.S.A.         2021   \n",
       "4  2542                   5150           U.S.A.         2021   \n",
       "\n",
       "  Country of Bean Origin Specific Bean Origin or Bar Name  Cocoa Percent  \\\n",
       "0               Tanzania            Kokoa Kamili, batch 1           0.76   \n",
       "1             Madagascar           Bejofo Estate, batch 1           0.76   \n",
       "2     Dominican Republic                  Zorzal, batch 1           0.76   \n",
       "3                   Fiji            Matasawalevu, batch 1           0.68   \n",
       "4                  India                Anamalai, batch 1           0.68   \n",
       "\n",
       "  Ingredients Most Memorable Characteristics  Rating  \n",
       "0    3- B,S,C      rich cocoa, fatty, bready    3.25  \n",
       "1    3- B,S,C   cocoa, blackberry, full body    3.75  \n",
       "2    3- B,S,C         cocoa, vegetal, savory    3.50  \n",
       "3    3- B,S,C            chewy, off, rubbery    3.00  \n",
       "4    3- B,S,C  milk brownie, macadamia,chewy    3.50  "
      ]
     },
     "execution_count": 12,
     "metadata": {},
     "output_type": "execute_result"
    }
   ],
   "source": [
    "chocolate_usa_df.head()"
   ]
  },
  {
   "cell_type": "code",
   "execution_count": 13,
   "id": "311f22ff-a10a-4fc6-9171-64d6fc81bfda",
   "metadata": {},
   "outputs": [
    {
     "data": {
      "text/plain": [
       "(1168, 10)"
      ]
     },
     "execution_count": 13,
     "metadata": {},
     "output_type": "execute_result"
    }
   ],
   "source": [
    "chocolate_usa_df.shape"
   ]
  },
  {
   "cell_type": "markdown",
   "id": "cffbf527-a25d-4323-a63b-b7d9d251d2ec",
   "metadata": {},
   "source": [
    "* There are 1168 chocolates from the USA"
   ]
  },
  {
   "cell_type": "code",
   "execution_count": 14,
   "id": "ba26bce0-1db9-438c-a0f7-3c9e75eaeaf2",
   "metadata": {},
   "outputs": [
    {
     "data": {
      "text/html": [
       "<div>\n",
       "<style scoped>\n",
       "    .dataframe tbody tr th:only-of-type {\n",
       "        vertical-align: middle;\n",
       "    }\n",
       "\n",
       "    .dataframe tbody tr th {\n",
       "        vertical-align: top;\n",
       "    }\n",
       "\n",
       "    .dataframe thead th {\n",
       "        text-align: right;\n",
       "    }\n",
       "</style>\n",
       "<table border=\"1\" class=\"dataframe\">\n",
       "  <thead>\n",
       "    <tr style=\"text-align: right;\">\n",
       "      <th></th>\n",
       "      <th>REF</th>\n",
       "      <th>Company (Manufacturer)</th>\n",
       "      <th>Company Location</th>\n",
       "      <th>Review Date</th>\n",
       "      <th>Country of Bean Origin</th>\n",
       "      <th>Specific Bean Origin or Bar Name</th>\n",
       "      <th>Cocoa Percent</th>\n",
       "      <th>Ingredients</th>\n",
       "      <th>Most Memorable Characteristics</th>\n",
       "      <th>Rating</th>\n",
       "    </tr>\n",
       "  </thead>\n",
       "  <tbody>\n",
       "    <tr>\n",
       "      <th>7</th>\n",
       "      <td>797</td>\n",
       "      <td>A. Morin</td>\n",
       "      <td>France</td>\n",
       "      <td>2012</td>\n",
       "      <td>Bolivia</td>\n",
       "      <td>Bolivia</td>\n",
       "      <td>0.70</td>\n",
       "      <td>4- B,S,C,L</td>\n",
       "      <td>vegetal, nutty</td>\n",
       "      <td>3.50</td>\n",
       "    </tr>\n",
       "    <tr>\n",
       "      <th>8</th>\n",
       "      <td>797</td>\n",
       "      <td>A. Morin</td>\n",
       "      <td>France</td>\n",
       "      <td>2012</td>\n",
       "      <td>Peru</td>\n",
       "      <td>Peru</td>\n",
       "      <td>0.63</td>\n",
       "      <td>4- B,S,C,L</td>\n",
       "      <td>fruity, melon, roasty</td>\n",
       "      <td>3.75</td>\n",
       "    </tr>\n",
       "    <tr>\n",
       "      <th>9</th>\n",
       "      <td>1011</td>\n",
       "      <td>A. Morin</td>\n",
       "      <td>France</td>\n",
       "      <td>2013</td>\n",
       "      <td>Panama</td>\n",
       "      <td>Panama</td>\n",
       "      <td>0.70</td>\n",
       "      <td>4- B,S,C,L</td>\n",
       "      <td>brief fruit note, earthy, nutty</td>\n",
       "      <td>2.75</td>\n",
       "    </tr>\n",
       "    <tr>\n",
       "      <th>10</th>\n",
       "      <td>1011</td>\n",
       "      <td>A. Morin</td>\n",
       "      <td>France</td>\n",
       "      <td>2013</td>\n",
       "      <td>Madagascar</td>\n",
       "      <td>Madagascar, Criollo</td>\n",
       "      <td>0.70</td>\n",
       "      <td>4- B,S,C,L</td>\n",
       "      <td>sticky, red fruit, sour</td>\n",
       "      <td>3.00</td>\n",
       "    </tr>\n",
       "    <tr>\n",
       "      <th>11</th>\n",
       "      <td>1011</td>\n",
       "      <td>A. Morin</td>\n",
       "      <td>France</td>\n",
       "      <td>2013</td>\n",
       "      <td>Brazil</td>\n",
       "      <td>Brazil</td>\n",
       "      <td>0.70</td>\n",
       "      <td>4- B,S,C,L</td>\n",
       "      <td>mild tobacco</td>\n",
       "      <td>3.25</td>\n",
       "    </tr>\n",
       "  </tbody>\n",
       "</table>\n",
       "</div>"
      ],
      "text/plain": [
       "     REF Company (Manufacturer) Company Location  Review Date  \\\n",
       "7    797               A. Morin           France         2012   \n",
       "8    797               A. Morin           France         2012   \n",
       "9   1011               A. Morin           France         2013   \n",
       "10  1011               A. Morin           France         2013   \n",
       "11  1011               A. Morin           France         2013   \n",
       "\n",
       "   Country of Bean Origin Specific Bean Origin or Bar Name  Cocoa Percent  \\\n",
       "7                 Bolivia                          Bolivia           0.70   \n",
       "8                    Peru                             Peru           0.63   \n",
       "9                  Panama                           Panama           0.70   \n",
       "10             Madagascar              Madagascar, Criollo           0.70   \n",
       "11                 Brazil                           Brazil           0.70   \n",
       "\n",
       "   Ingredients   Most Memorable Characteristics  Rating  \n",
       "7   4- B,S,C,L                   vegetal, nutty    3.50  \n",
       "8   4- B,S,C,L            fruity, melon, roasty    3.75  \n",
       "9   4- B,S,C,L  brief fruit note, earthy, nutty    2.75  \n",
       "10  4- B,S,C,L          sticky, red fruit, sour    3.00  \n",
       "11  4- B,S,C,L                     mild tobacco    3.25  "
      ]
     },
     "execution_count": 14,
     "metadata": {},
     "output_type": "execute_result"
    }
   ],
   "source": [
    "chocolate_rest_df.head()"
   ]
  },
  {
   "cell_type": "code",
   "execution_count": 15,
   "id": "b5e19ebd-4c9a-49b6-9233-eacbe22bac88",
   "metadata": {},
   "outputs": [
    {
     "data": {
      "text/plain": [
       "(1420, 10)"
      ]
     },
     "execution_count": 15,
     "metadata": {},
     "output_type": "execute_result"
    }
   ],
   "source": [
    "chocolate_rest_df.shape"
   ]
  },
  {
   "cell_type": "markdown",
   "id": "a69c8090-9c27-47a9-b7af-727a8771fdef",
   "metadata": {},
   "source": [
    "* There are 1420 chocolates not from the USA"
   ]
  },
  {
   "cell_type": "markdown",
   "id": "3aaafa46-1739-4dea-8c7b-3dfd133e2fcc",
   "metadata": {},
   "source": [
    "### Merge USA Chocolate Ratings with USA Companies Dataset"
   ]
  },
  {
   "cell_type": "code",
   "execution_count": 16,
   "id": "e5c3f6d2-cdcf-4e85-b36c-5026204aee45",
   "metadata": {},
   "outputs": [
    {
     "name": "stderr",
     "output_type": "stream",
     "text": [
      "C:\\Users\\Osgiliath\\AppData\\Local\\Temp\\ipykernel_20252\\200170014.py:5: SettingWithCopyWarning: \n",
      "A value is trying to be set on a copy of a slice from a DataFrame.\n",
      "Try using .loc[row_indexer,col_indexer] = value instead\n",
      "\n",
      "See the caveats in the documentation: https://pandas.pydata.org/pandas-docs/stable/user_guide/indexing.html#returning-a-view-versus-a-copy\n",
      "  chocolate_usa_df['matches'] = chocolate_usa_df['Company (Manufacturer)'].apply(lambda x: process.extractOne(str(x), companies))\n"
     ]
    },
    {
     "data": {
      "text/html": [
       "<div>\n",
       "<style scoped>\n",
       "    .dataframe tbody tr th:only-of-type {\n",
       "        vertical-align: middle;\n",
       "    }\n",
       "\n",
       "    .dataframe tbody tr th {\n",
       "        vertical-align: top;\n",
       "    }\n",
       "\n",
       "    .dataframe thead th {\n",
       "        text-align: right;\n",
       "    }\n",
       "</style>\n",
       "<table border=\"1\" class=\"dataframe\">\n",
       "  <thead>\n",
       "    <tr style=\"text-align: right;\">\n",
       "      <th></th>\n",
       "      <th>REF</th>\n",
       "      <th>Company (Manufacturer)</th>\n",
       "      <th>Company Location</th>\n",
       "      <th>Review Date</th>\n",
       "      <th>Country of Bean Origin</th>\n",
       "      <th>Specific Bean Origin or Bar Name</th>\n",
       "      <th>Cocoa Percent</th>\n",
       "      <th>Ingredients</th>\n",
       "      <th>Most Memorable Characteristics</th>\n",
       "      <th>Rating</th>\n",
       "      <th>matches</th>\n",
       "    </tr>\n",
       "  </thead>\n",
       "  <tbody>\n",
       "    <tr>\n",
       "      <th>0</th>\n",
       "      <td>2454</td>\n",
       "      <td>5150</td>\n",
       "      <td>U.S.A.</td>\n",
       "      <td>2019</td>\n",
       "      <td>Tanzania</td>\n",
       "      <td>Kokoa Kamili, batch 1</td>\n",
       "      <td>0.76</td>\n",
       "      <td>3- B,S,C</td>\n",
       "      <td>rich cocoa, fatty, bready</td>\n",
       "      <td>3.25</td>\n",
       "      <td>(5150 Chocolate Co., 90)</td>\n",
       "    </tr>\n",
       "    <tr>\n",
       "      <th>1</th>\n",
       "      <td>2454</td>\n",
       "      <td>5150</td>\n",
       "      <td>U.S.A.</td>\n",
       "      <td>2019</td>\n",
       "      <td>Madagascar</td>\n",
       "      <td>Bejofo Estate, batch 1</td>\n",
       "      <td>0.76</td>\n",
       "      <td>3- B,S,C</td>\n",
       "      <td>cocoa, blackberry, full body</td>\n",
       "      <td>3.75</td>\n",
       "      <td>(5150 Chocolate Co., 90)</td>\n",
       "    </tr>\n",
       "    <tr>\n",
       "      <th>2</th>\n",
       "      <td>2458</td>\n",
       "      <td>5150</td>\n",
       "      <td>U.S.A.</td>\n",
       "      <td>2019</td>\n",
       "      <td>Dominican Republic</td>\n",
       "      <td>Zorzal, batch 1</td>\n",
       "      <td>0.76</td>\n",
       "      <td>3- B,S,C</td>\n",
       "      <td>cocoa, vegetal, savory</td>\n",
       "      <td>3.50</td>\n",
       "      <td>(5150 Chocolate Co., 90)</td>\n",
       "    </tr>\n",
       "    <tr>\n",
       "      <th>3</th>\n",
       "      <td>2542</td>\n",
       "      <td>5150</td>\n",
       "      <td>U.S.A.</td>\n",
       "      <td>2021</td>\n",
       "      <td>Fiji</td>\n",
       "      <td>Matasawalevu, batch 1</td>\n",
       "      <td>0.68</td>\n",
       "      <td>3- B,S,C</td>\n",
       "      <td>chewy, off, rubbery</td>\n",
       "      <td>3.00</td>\n",
       "      <td>(5150 Chocolate Co., 90)</td>\n",
       "    </tr>\n",
       "    <tr>\n",
       "      <th>4</th>\n",
       "      <td>2542</td>\n",
       "      <td>5150</td>\n",
       "      <td>U.S.A.</td>\n",
       "      <td>2021</td>\n",
       "      <td>India</td>\n",
       "      <td>Anamalai, batch 1</td>\n",
       "      <td>0.68</td>\n",
       "      <td>3- B,S,C</td>\n",
       "      <td>milk brownie, macadamia,chewy</td>\n",
       "      <td>3.50</td>\n",
       "      <td>(5150 Chocolate Co., 90)</td>\n",
       "    </tr>\n",
       "  </tbody>\n",
       "</table>\n",
       "</div>"
      ],
      "text/plain": [
       "    REF Company (Manufacturer) Company Location  Review Date  \\\n",
       "0  2454                   5150           U.S.A.         2019   \n",
       "1  2454                   5150           U.S.A.         2019   \n",
       "2  2458                   5150           U.S.A.         2019   \n",
       "3  2542                   5150           U.S.A.         2021   \n",
       "4  2542                   5150           U.S.A.         2021   \n",
       "\n",
       "  Country of Bean Origin Specific Bean Origin or Bar Name  Cocoa Percent  \\\n",
       "0               Tanzania            Kokoa Kamili, batch 1           0.76   \n",
       "1             Madagascar           Bejofo Estate, batch 1           0.76   \n",
       "2     Dominican Republic                  Zorzal, batch 1           0.76   \n",
       "3                   Fiji            Matasawalevu, batch 1           0.68   \n",
       "4                  India                Anamalai, batch 1           0.68   \n",
       "\n",
       "  Ingredients Most Memorable Characteristics  Rating                   matches  \n",
       "0    3- B,S,C      rich cocoa, fatty, bready    3.25  (5150 Chocolate Co., 90)  \n",
       "1    3- B,S,C   cocoa, blackberry, full body    3.75  (5150 Chocolate Co., 90)  \n",
       "2    3- B,S,C         cocoa, vegetal, savory    3.50  (5150 Chocolate Co., 90)  \n",
       "3    3- B,S,C            chewy, off, rubbery    3.00  (5150 Chocolate Co., 90)  \n",
       "4    3- B,S,C  milk brownie, macadamia,chewy    3.50  (5150 Chocolate Co., 90)  "
      ]
     },
     "execution_count": 16,
     "metadata": {},
     "output_type": "execute_result"
    }
   ],
   "source": [
    "from fuzzywuzzy import process\n",
    "\n",
    "# Loop through the Chocolate Ratings dataframe and get matches from the Companies Dataframe on company names\n",
    "companies = usa_companies_df['COMPANY NAME'].tolist()\n",
    "chocolate_usa_df['matches'] = chocolate_usa_df['Company (Manufacturer)'].apply(lambda x: process.extractOne(str(x), companies))\n",
    "\n",
    "chocolate_usa_df.head()"
   ]
  },
  {
   "cell_type": "code",
   "execution_count": 17,
   "id": "8530ab14-c74c-48de-af80-3a1fad2f3ef8",
   "metadata": {},
   "outputs": [
    {
     "name": "stderr",
     "output_type": "stream",
     "text": [
      "C:\\Users\\Osgiliath\\AppData\\Local\\Temp\\ipykernel_20252\\4173370801.py:2: SettingWithCopyWarning: \n",
      "A value is trying to be set on a copy of a slice from a DataFrame.\n",
      "Try using .loc[row_indexer,col_indexer] = value instead\n",
      "\n",
      "See the caveats in the documentation: https://pandas.pydata.org/pandas-docs/stable/user_guide/indexing.html#returning-a-view-versus-a-copy\n",
      "  chocolate_usa_df['company'] = chocolate_usa_df['matches'].apply(lambda x: x[0])\n"
     ]
    },
    {
     "data": {
      "text/html": [
       "<div>\n",
       "<style scoped>\n",
       "    .dataframe tbody tr th:only-of-type {\n",
       "        vertical-align: middle;\n",
       "    }\n",
       "\n",
       "    .dataframe tbody tr th {\n",
       "        vertical-align: top;\n",
       "    }\n",
       "\n",
       "    .dataframe thead th {\n",
       "        text-align: right;\n",
       "    }\n",
       "</style>\n",
       "<table border=\"1\" class=\"dataframe\">\n",
       "  <thead>\n",
       "    <tr style=\"text-align: right;\">\n",
       "      <th></th>\n",
       "      <th>REF</th>\n",
       "      <th>Company (Manufacturer)</th>\n",
       "      <th>Company Location</th>\n",
       "      <th>Review Date</th>\n",
       "      <th>Country of Bean Origin</th>\n",
       "      <th>Specific Bean Origin or Bar Name</th>\n",
       "      <th>Cocoa Percent</th>\n",
       "      <th>Ingredients</th>\n",
       "      <th>Most Memorable Characteristics</th>\n",
       "      <th>Rating</th>\n",
       "      <th>matches</th>\n",
       "      <th>company</th>\n",
       "    </tr>\n",
       "  </thead>\n",
       "  <tbody>\n",
       "    <tr>\n",
       "      <th>0</th>\n",
       "      <td>2454</td>\n",
       "      <td>5150</td>\n",
       "      <td>U.S.A.</td>\n",
       "      <td>2019</td>\n",
       "      <td>Tanzania</td>\n",
       "      <td>Kokoa Kamili, batch 1</td>\n",
       "      <td>0.76</td>\n",
       "      <td>3- B,S,C</td>\n",
       "      <td>rich cocoa, fatty, bready</td>\n",
       "      <td>3.25</td>\n",
       "      <td>(5150 Chocolate Co., 90)</td>\n",
       "      <td>5150 Chocolate Co.</td>\n",
       "    </tr>\n",
       "    <tr>\n",
       "      <th>1</th>\n",
       "      <td>2454</td>\n",
       "      <td>5150</td>\n",
       "      <td>U.S.A.</td>\n",
       "      <td>2019</td>\n",
       "      <td>Madagascar</td>\n",
       "      <td>Bejofo Estate, batch 1</td>\n",
       "      <td>0.76</td>\n",
       "      <td>3- B,S,C</td>\n",
       "      <td>cocoa, blackberry, full body</td>\n",
       "      <td>3.75</td>\n",
       "      <td>(5150 Chocolate Co., 90)</td>\n",
       "      <td>5150 Chocolate Co.</td>\n",
       "    </tr>\n",
       "    <tr>\n",
       "      <th>2</th>\n",
       "      <td>2458</td>\n",
       "      <td>5150</td>\n",
       "      <td>U.S.A.</td>\n",
       "      <td>2019</td>\n",
       "      <td>Dominican Republic</td>\n",
       "      <td>Zorzal, batch 1</td>\n",
       "      <td>0.76</td>\n",
       "      <td>3- B,S,C</td>\n",
       "      <td>cocoa, vegetal, savory</td>\n",
       "      <td>3.50</td>\n",
       "      <td>(5150 Chocolate Co., 90)</td>\n",
       "      <td>5150 Chocolate Co.</td>\n",
       "    </tr>\n",
       "    <tr>\n",
       "      <th>3</th>\n",
       "      <td>2542</td>\n",
       "      <td>5150</td>\n",
       "      <td>U.S.A.</td>\n",
       "      <td>2021</td>\n",
       "      <td>Fiji</td>\n",
       "      <td>Matasawalevu, batch 1</td>\n",
       "      <td>0.68</td>\n",
       "      <td>3- B,S,C</td>\n",
       "      <td>chewy, off, rubbery</td>\n",
       "      <td>3.00</td>\n",
       "      <td>(5150 Chocolate Co., 90)</td>\n",
       "      <td>5150 Chocolate Co.</td>\n",
       "    </tr>\n",
       "    <tr>\n",
       "      <th>4</th>\n",
       "      <td>2542</td>\n",
       "      <td>5150</td>\n",
       "      <td>U.S.A.</td>\n",
       "      <td>2021</td>\n",
       "      <td>India</td>\n",
       "      <td>Anamalai, batch 1</td>\n",
       "      <td>0.68</td>\n",
       "      <td>3- B,S,C</td>\n",
       "      <td>milk brownie, macadamia,chewy</td>\n",
       "      <td>3.50</td>\n",
       "      <td>(5150 Chocolate Co., 90)</td>\n",
       "      <td>5150 Chocolate Co.</td>\n",
       "    </tr>\n",
       "  </tbody>\n",
       "</table>\n",
       "</div>"
      ],
      "text/plain": [
       "    REF Company (Manufacturer) Company Location  Review Date  \\\n",
       "0  2454                   5150           U.S.A.         2019   \n",
       "1  2454                   5150           U.S.A.         2019   \n",
       "2  2458                   5150           U.S.A.         2019   \n",
       "3  2542                   5150           U.S.A.         2021   \n",
       "4  2542                   5150           U.S.A.         2021   \n",
       "\n",
       "  Country of Bean Origin Specific Bean Origin or Bar Name  Cocoa Percent  \\\n",
       "0               Tanzania            Kokoa Kamili, batch 1           0.76   \n",
       "1             Madagascar           Bejofo Estate, batch 1           0.76   \n",
       "2     Dominican Republic                  Zorzal, batch 1           0.76   \n",
       "3                   Fiji            Matasawalevu, batch 1           0.68   \n",
       "4                  India                Anamalai, batch 1           0.68   \n",
       "\n",
       "  Ingredients Most Memorable Characteristics  Rating  \\\n",
       "0    3- B,S,C      rich cocoa, fatty, bready    3.25   \n",
       "1    3- B,S,C   cocoa, blackberry, full body    3.75   \n",
       "2    3- B,S,C         cocoa, vegetal, savory    3.50   \n",
       "3    3- B,S,C            chewy, off, rubbery    3.00   \n",
       "4    3- B,S,C  milk brownie, macadamia,chewy    3.50   \n",
       "\n",
       "                    matches             company  \n",
       "0  (5150 Chocolate Co., 90)  5150 Chocolate Co.  \n",
       "1  (5150 Chocolate Co., 90)  5150 Chocolate Co.  \n",
       "2  (5150 Chocolate Co., 90)  5150 Chocolate Co.  \n",
       "3  (5150 Chocolate Co., 90)  5150 Chocolate Co.  \n",
       "4  (5150 Chocolate Co., 90)  5150 Chocolate Co.  "
      ]
     },
     "execution_count": 17,
     "metadata": {},
     "output_type": "execute_result"
    }
   ],
   "source": [
    "# pull out company name in matches column and make company column\n",
    "chocolate_usa_df['company'] = chocolate_usa_df['matches'].apply(lambda x: x[0])\n",
    "\n",
    "chocolate_usa_df.head()"
   ]
  },
  {
   "cell_type": "code",
   "execution_count": 18,
   "id": "8896e253-b58c-4ebc-8af2-1f0915441439",
   "metadata": {},
   "outputs": [
    {
     "data": {
      "text/html": [
       "<div>\n",
       "<style scoped>\n",
       "    .dataframe tbody tr th:only-of-type {\n",
       "        vertical-align: middle;\n",
       "    }\n",
       "\n",
       "    .dataframe tbody tr th {\n",
       "        vertical-align: top;\n",
       "    }\n",
       "\n",
       "    .dataframe thead th {\n",
       "        text-align: right;\n",
       "    }\n",
       "</style>\n",
       "<table border=\"1\" class=\"dataframe\">\n",
       "  <thead>\n",
       "    <tr style=\"text-align: right;\">\n",
       "      <th></th>\n",
       "      <th>REF</th>\n",
       "      <th>Company (Manufacturer)</th>\n",
       "      <th>Company Location</th>\n",
       "      <th>Review Date</th>\n",
       "      <th>Country of Bean Origin</th>\n",
       "      <th>Specific Bean Origin or Bar Name</th>\n",
       "      <th>Cocoa Percent</th>\n",
       "      <th>Ingredients</th>\n",
       "      <th>Most Memorable Characteristics</th>\n",
       "      <th>Rating</th>\n",
       "      <th>matches</th>\n",
       "      <th>company</th>\n",
       "      <th>COMPANY NAME</th>\n",
       "      <th>CITY</th>\n",
       "      <th>STATE</th>\n",
       "      <th>OWNER/MAKER</th>\n",
       "    </tr>\n",
       "  </thead>\n",
       "  <tbody>\n",
       "    <tr>\n",
       "      <th>0</th>\n",
       "      <td>2454</td>\n",
       "      <td>5150</td>\n",
       "      <td>U.S.A.</td>\n",
       "      <td>2019</td>\n",
       "      <td>Tanzania</td>\n",
       "      <td>Kokoa Kamili, batch 1</td>\n",
       "      <td>0.76</td>\n",
       "      <td>3- B,S,C</td>\n",
       "      <td>rich cocoa, fatty, bready</td>\n",
       "      <td>3.25</td>\n",
       "      <td>(5150 Chocolate Co., 90)</td>\n",
       "      <td>5150 Chocolate Co.</td>\n",
       "      <td>5150 Chocolate Co.</td>\n",
       "      <td>Delray Beach</td>\n",
       "      <td>Florida</td>\n",
       "      <td>Tyler Levitetz</td>\n",
       "    </tr>\n",
       "    <tr>\n",
       "      <th>1</th>\n",
       "      <td>2454</td>\n",
       "      <td>5150</td>\n",
       "      <td>U.S.A.</td>\n",
       "      <td>2019</td>\n",
       "      <td>Madagascar</td>\n",
       "      <td>Bejofo Estate, batch 1</td>\n",
       "      <td>0.76</td>\n",
       "      <td>3- B,S,C</td>\n",
       "      <td>cocoa, blackberry, full body</td>\n",
       "      <td>3.75</td>\n",
       "      <td>(5150 Chocolate Co., 90)</td>\n",
       "      <td>5150 Chocolate Co.</td>\n",
       "      <td>5150 Chocolate Co.</td>\n",
       "      <td>Delray Beach</td>\n",
       "      <td>Florida</td>\n",
       "      <td>Tyler Levitetz</td>\n",
       "    </tr>\n",
       "    <tr>\n",
       "      <th>2</th>\n",
       "      <td>2458</td>\n",
       "      <td>5150</td>\n",
       "      <td>U.S.A.</td>\n",
       "      <td>2019</td>\n",
       "      <td>Dominican Republic</td>\n",
       "      <td>Zorzal, batch 1</td>\n",
       "      <td>0.76</td>\n",
       "      <td>3- B,S,C</td>\n",
       "      <td>cocoa, vegetal, savory</td>\n",
       "      <td>3.50</td>\n",
       "      <td>(5150 Chocolate Co., 90)</td>\n",
       "      <td>5150 Chocolate Co.</td>\n",
       "      <td>5150 Chocolate Co.</td>\n",
       "      <td>Delray Beach</td>\n",
       "      <td>Florida</td>\n",
       "      <td>Tyler Levitetz</td>\n",
       "    </tr>\n",
       "    <tr>\n",
       "      <th>3</th>\n",
       "      <td>2542</td>\n",
       "      <td>5150</td>\n",
       "      <td>U.S.A.</td>\n",
       "      <td>2021</td>\n",
       "      <td>Fiji</td>\n",
       "      <td>Matasawalevu, batch 1</td>\n",
       "      <td>0.68</td>\n",
       "      <td>3- B,S,C</td>\n",
       "      <td>chewy, off, rubbery</td>\n",
       "      <td>3.00</td>\n",
       "      <td>(5150 Chocolate Co., 90)</td>\n",
       "      <td>5150 Chocolate Co.</td>\n",
       "      <td>5150 Chocolate Co.</td>\n",
       "      <td>Delray Beach</td>\n",
       "      <td>Florida</td>\n",
       "      <td>Tyler Levitetz</td>\n",
       "    </tr>\n",
       "    <tr>\n",
       "      <th>4</th>\n",
       "      <td>2542</td>\n",
       "      <td>5150</td>\n",
       "      <td>U.S.A.</td>\n",
       "      <td>2021</td>\n",
       "      <td>India</td>\n",
       "      <td>Anamalai, batch 1</td>\n",
       "      <td>0.68</td>\n",
       "      <td>3- B,S,C</td>\n",
       "      <td>milk brownie, macadamia,chewy</td>\n",
       "      <td>3.50</td>\n",
       "      <td>(5150 Chocolate Co., 90)</td>\n",
       "      <td>5150 Chocolate Co.</td>\n",
       "      <td>5150 Chocolate Co.</td>\n",
       "      <td>Delray Beach</td>\n",
       "      <td>Florida</td>\n",
       "      <td>Tyler Levitetz</td>\n",
       "    </tr>\n",
       "  </tbody>\n",
       "</table>\n",
       "</div>"
      ],
      "text/plain": [
       "    REF Company (Manufacturer) Company Location  Review Date  \\\n",
       "0  2454                   5150           U.S.A.         2019   \n",
       "1  2454                   5150           U.S.A.         2019   \n",
       "2  2458                   5150           U.S.A.         2019   \n",
       "3  2542                   5150           U.S.A.         2021   \n",
       "4  2542                   5150           U.S.A.         2021   \n",
       "\n",
       "  Country of Bean Origin Specific Bean Origin or Bar Name  Cocoa Percent  \\\n",
       "0               Tanzania            Kokoa Kamili, batch 1           0.76   \n",
       "1             Madagascar           Bejofo Estate, batch 1           0.76   \n",
       "2     Dominican Republic                  Zorzal, batch 1           0.76   \n",
       "3                   Fiji            Matasawalevu, batch 1           0.68   \n",
       "4                  India                Anamalai, batch 1           0.68   \n",
       "\n",
       "  Ingredients Most Memorable Characteristics  Rating  \\\n",
       "0    3- B,S,C      rich cocoa, fatty, bready    3.25   \n",
       "1    3- B,S,C   cocoa, blackberry, full body    3.75   \n",
       "2    3- B,S,C         cocoa, vegetal, savory    3.50   \n",
       "3    3- B,S,C            chewy, off, rubbery    3.00   \n",
       "4    3- B,S,C  milk brownie, macadamia,chewy    3.50   \n",
       "\n",
       "                    matches             company        COMPANY NAME  \\\n",
       "0  (5150 Chocolate Co., 90)  5150 Chocolate Co.  5150 Chocolate Co.   \n",
       "1  (5150 Chocolate Co., 90)  5150 Chocolate Co.  5150 Chocolate Co.   \n",
       "2  (5150 Chocolate Co., 90)  5150 Chocolate Co.  5150 Chocolate Co.   \n",
       "3  (5150 Chocolate Co., 90)  5150 Chocolate Co.  5150 Chocolate Co.   \n",
       "4  (5150 Chocolate Co., 90)  5150 Chocolate Co.  5150 Chocolate Co.   \n",
       "\n",
       "           CITY    STATE     OWNER/MAKER  \n",
       "0  Delray Beach  Florida  Tyler Levitetz  \n",
       "1  Delray Beach  Florida  Tyler Levitetz  \n",
       "2  Delray Beach  Florida  Tyler Levitetz  \n",
       "3  Delray Beach  Florida  Tyler Levitetz  \n",
       "4  Delray Beach  Florida  Tyler Levitetz  "
      ]
     },
     "execution_count": 18,
     "metadata": {},
     "output_type": "execute_result"
    }
   ],
   "source": [
    "# Merge datasets based on company columns\n",
    "chocolate_usa = pd.merge(chocolate_usa_df, usa_companies_df, how = \"left\", left_on = \"company\", right_on = \"COMPANY NAME\")\n",
    "\n",
    "chocolate_usa.head()"
   ]
  },
  {
   "cell_type": "code",
   "execution_count": 19,
   "id": "5aa5b880-3348-4d5e-9913-638e963db9e7",
   "metadata": {},
   "outputs": [
    {
     "data": {
      "text/html": [
       "<div>\n",
       "<style scoped>\n",
       "    .dataframe tbody tr th:only-of-type {\n",
       "        vertical-align: middle;\n",
       "    }\n",
       "\n",
       "    .dataframe tbody tr th {\n",
       "        vertical-align: top;\n",
       "    }\n",
       "\n",
       "    .dataframe thead th {\n",
       "        text-align: right;\n",
       "    }\n",
       "</style>\n",
       "<table border=\"1\" class=\"dataframe\">\n",
       "  <thead>\n",
       "    <tr style=\"text-align: right;\">\n",
       "      <th></th>\n",
       "      <th>REF</th>\n",
       "      <th>Review Date</th>\n",
       "      <th>Cocoa Percent</th>\n",
       "      <th>Rating</th>\n",
       "    </tr>\n",
       "  </thead>\n",
       "  <tbody>\n",
       "    <tr>\n",
       "      <th>count</th>\n",
       "      <td>1168.000000</td>\n",
       "      <td>1168.000000</td>\n",
       "      <td>1168.000000</td>\n",
       "      <td>1168.000000</td>\n",
       "    </tr>\n",
       "    <tr>\n",
       "      <th>mean</th>\n",
       "      <td>1581.836473</td>\n",
       "      <td>2015.238014</td>\n",
       "      <td>0.715398</td>\n",
       "      <td>3.195634</td>\n",
       "    </tr>\n",
       "    <tr>\n",
       "      <th>std</th>\n",
       "      <td>749.749028</td>\n",
       "      <td>3.946497</td>\n",
       "      <td>0.047287</td>\n",
       "      <td>0.422734</td>\n",
       "    </tr>\n",
       "    <tr>\n",
       "      <th>min</th>\n",
       "      <td>5.000000</td>\n",
       "      <td>2006.000000</td>\n",
       "      <td>0.550000</td>\n",
       "      <td>1.500000</td>\n",
       "    </tr>\n",
       "    <tr>\n",
       "      <th>25%</th>\n",
       "      <td>1002.000000</td>\n",
       "      <td>2012.000000</td>\n",
       "      <td>0.700000</td>\n",
       "      <td>3.000000</td>\n",
       "    </tr>\n",
       "    <tr>\n",
       "      <th>50%</th>\n",
       "      <td>1554.000000</td>\n",
       "      <td>2015.000000</td>\n",
       "      <td>0.700000</td>\n",
       "      <td>3.250000</td>\n",
       "    </tr>\n",
       "    <tr>\n",
       "      <th>75%</th>\n",
       "      <td>2262.000000</td>\n",
       "      <td>2018.000000</td>\n",
       "      <td>0.740000</td>\n",
       "      <td>3.500000</td>\n",
       "    </tr>\n",
       "    <tr>\n",
       "      <th>max</th>\n",
       "      <td>2768.000000</td>\n",
       "      <td>2022.000000</td>\n",
       "      <td>1.000000</td>\n",
       "      <td>4.000000</td>\n",
       "    </tr>\n",
       "  </tbody>\n",
       "</table>\n",
       "</div>"
      ],
      "text/plain": [
       "               REF  Review Date  Cocoa Percent       Rating\n",
       "count  1168.000000  1168.000000    1168.000000  1168.000000\n",
       "mean   1581.836473  2015.238014       0.715398     3.195634\n",
       "std     749.749028     3.946497       0.047287     0.422734\n",
       "min       5.000000  2006.000000       0.550000     1.500000\n",
       "25%    1002.000000  2012.000000       0.700000     3.000000\n",
       "50%    1554.000000  2015.000000       0.700000     3.250000\n",
       "75%    2262.000000  2018.000000       0.740000     3.500000\n",
       "max    2768.000000  2022.000000       1.000000     4.000000"
      ]
     },
     "execution_count": 19,
     "metadata": {},
     "output_type": "execute_result"
    }
   ],
   "source": [
    "# Get final summary statistics on numerical data\n",
    "chocolate_usa.describe()"
   ]
  },
  {
   "cell_type": "code",
   "execution_count": 20,
   "id": "3341b7c8-21ce-4da7-97af-b42278701106",
   "metadata": {},
   "outputs": [
    {
     "data": {
      "text/html": [
       "<div>\n",
       "<style scoped>\n",
       "    .dataframe tbody tr th:only-of-type {\n",
       "        vertical-align: middle;\n",
       "    }\n",
       "\n",
       "    .dataframe tbody tr th {\n",
       "        vertical-align: top;\n",
       "    }\n",
       "\n",
       "    .dataframe thead th {\n",
       "        text-align: right;\n",
       "    }\n",
       "</style>\n",
       "<table border=\"1\" class=\"dataframe\">\n",
       "  <thead>\n",
       "    <tr style=\"text-align: right;\">\n",
       "      <th></th>\n",
       "      <th>Company (Manufacturer)</th>\n",
       "      <th>Company Location</th>\n",
       "      <th>Country of Bean Origin</th>\n",
       "      <th>Specific Bean Origin or Bar Name</th>\n",
       "      <th>Ingredients</th>\n",
       "      <th>Most Memorable Characteristics</th>\n",
       "      <th>matches</th>\n",
       "      <th>company</th>\n",
       "      <th>COMPANY NAME</th>\n",
       "      <th>CITY</th>\n",
       "      <th>STATE</th>\n",
       "      <th>OWNER/MAKER</th>\n",
       "    </tr>\n",
       "  </thead>\n",
       "  <tbody>\n",
       "    <tr>\n",
       "      <th>count</th>\n",
       "      <td>1168</td>\n",
       "      <td>1168</td>\n",
       "      <td>1168</td>\n",
       "      <td>1168</td>\n",
       "      <td>1150</td>\n",
       "      <td>1168</td>\n",
       "      <td>1168</td>\n",
       "      <td>1168</td>\n",
       "      <td>1168</td>\n",
       "      <td>1168</td>\n",
       "      <td>1168</td>\n",
       "      <td>1166</td>\n",
       "    </tr>\n",
       "    <tr>\n",
       "      <th>unique</th>\n",
       "      <td>258</td>\n",
       "      <td>1</td>\n",
       "      <td>39</td>\n",
       "      <td>790</td>\n",
       "      <td>17</td>\n",
       "      <td>1157</td>\n",
       "      <td>250</td>\n",
       "      <td>227</td>\n",
       "      <td>227</td>\n",
       "      <td>167</td>\n",
       "      <td>40</td>\n",
       "      <td>225</td>\n",
       "    </tr>\n",
       "    <tr>\n",
       "      <th>top</th>\n",
       "      <td>Fresco</td>\n",
       "      <td>U.S.A.</td>\n",
       "      <td>Dominican Republic</td>\n",
       "      <td>Dominican Republic</td>\n",
       "      <td>2- B,S</td>\n",
       "      <td>sandy, sweet</td>\n",
       "      <td>(Fresco, 100)</td>\n",
       "      <td>Fresco</td>\n",
       "      <td>Fresco</td>\n",
       "      <td>San Francisco</td>\n",
       "      <td>California</td>\n",
       "      <td>Rob Anderson</td>\n",
       "    </tr>\n",
       "    <tr>\n",
       "      <th>freq</th>\n",
       "      <td>39</td>\n",
       "      <td>1168</td>\n",
       "      <td>162</td>\n",
       "      <td>26</td>\n",
       "      <td>461</td>\n",
       "      <td>3</td>\n",
       "      <td>39</td>\n",
       "      <td>39</td>\n",
       "      <td>39</td>\n",
       "      <td>66</td>\n",
       "      <td>236</td>\n",
       "      <td>39</td>\n",
       "    </tr>\n",
       "  </tbody>\n",
       "</table>\n",
       "</div>"
      ],
      "text/plain": [
       "       Company (Manufacturer) Company Location Country of Bean Origin  \\\n",
       "count                    1168             1168                   1168   \n",
       "unique                    258                1                     39   \n",
       "top                    Fresco           U.S.A.     Dominican Republic   \n",
       "freq                       39             1168                    162   \n",
       "\n",
       "       Specific Bean Origin or Bar Name Ingredients  \\\n",
       "count                              1168        1150   \n",
       "unique                              790          17   \n",
       "top                  Dominican Republic      2- B,S   \n",
       "freq                                 26         461   \n",
       "\n",
       "       Most Memorable Characteristics        matches company COMPANY NAME  \\\n",
       "count                            1168           1168    1168         1168   \n",
       "unique                           1157            250     227          227   \n",
       "top                      sandy, sweet  (Fresco, 100)  Fresco       Fresco   \n",
       "freq                                3             39      39           39   \n",
       "\n",
       "                 CITY       STATE   OWNER/MAKER  \n",
       "count            1168        1168          1166  \n",
       "unique            167          40           225  \n",
       "top     San Francisco  California  Rob Anderson  \n",
       "freq               66         236            39  "
      ]
     },
     "execution_count": 20,
     "metadata": {},
     "output_type": "execute_result"
    }
   ],
   "source": [
    "# Get final summary statistics on non-numerical data\n",
    "chocolate_usa.describe(include = ['O'])"
   ]
  },
  {
   "cell_type": "markdown",
   "id": "b733114d-cdc1-40c4-a332-be4de66444a6",
   "metadata": {},
   "source": [
    "### Graphical Analysis"
   ]
  },
  {
   "cell_type": "code",
   "execution_count": 21,
   "id": "44af4de6-ae4c-460e-8c05-0c9bb60f0c8c",
   "metadata": {},
   "outputs": [
    {
     "data": {
      "image/png": "[encoded data removed]",
      "text/plain": [
       "<Figure size 432x288 with 2 Axes>"
      ]
     },
     "metadata": {
      "needs_background": "light"
     },
     "output_type": "display_data"
    }
   ],
   "source": [
    "# Create histograms of numerical data\n",
    "\n",
    "# Create figure\n",
    "fig, axes = plt.subplots(1, 2, layout = 'constrained')\n",
    "\n",
    "# Specify features interested in\n",
    "num_features = ['Cocoa Percent', 'Rating']\n",
    "x_axes = num_features\n",
    "y_axes = ['Count', 'Count']\n",
    "\n",
    "# Create histograms\n",
    "axes = np.ravel(axes)\n",
    "\n",
    "for idx, ax in enumerate(axes):\n",
    "    ax.hist(chocolate_usa[num_features[idx]].dropna(), bins = 10)\n",
    "    ax.set_xlabel(x_axes[idx], fontsize = 20)\n",
    "    ax.set_ylabel(y_axes[idx], fontsize = 20)\n",
    "    ax.tick_params(axis = 'both', labelsize = 15)\n",
    "    \n",
    "plt.show()"
   ]
  },
  {
   "cell_type": "markdown",
   "id": "2b20c344-1140-4be8-b2fd-d0dcee778c49",
   "metadata": {},
   "source": [
    "**Conclusions:**\n",
    "\n",
    "Cocoa Percent appears to be a normal distribution but Rating is heavily skewed left."
   ]
  },
  {
   "cell_type": "code",
   "execution_count": 22,
   "id": "9ce71adc-6843-4c98-8bef-c2af9f42fc7c",
   "metadata": {},
   "outputs": [],
   "source": [
    "# Bar charts of some of the categorical features\n",
    "\n",
    "#create a copy of the data frame for use with graphing\n",
    "chocolate_plots = chocolate_usa.copy()"
   ]
  },
  {
   "cell_type": "code",
   "execution_count": 23,
   "id": "4acda0d6-dfd6-4ad9-9818-45c010b6a568",
   "metadata": {},
   "outputs": [
    {
     "data": {
      "text/html": [
       "<div>\n",
       "<style scoped>\n",
       "    .dataframe tbody tr th:only-of-type {\n",
       "        vertical-align: middle;\n",
       "    }\n",
       "\n",
       "    .dataframe tbody tr th {\n",
       "        vertical-align: top;\n",
       "    }\n",
       "\n",
       "    .dataframe thead th {\n",
       "        text-align: right;\n",
       "    }\n",
       "</style>\n",
       "<table border=\"1\" class=\"dataframe\">\n",
       "  <thead>\n",
       "    <tr style=\"text-align: right;\">\n",
       "      <th></th>\n",
       "      <th>REF</th>\n",
       "      <th>Company (Manufacturer)</th>\n",
       "      <th>Company Location</th>\n",
       "      <th>Review Date</th>\n",
       "      <th>Country of Bean Origin</th>\n",
       "      <th>Specific Bean Origin or Bar Name</th>\n",
       "      <th>Cocoa Percent</th>\n",
       "      <th>Ingredients</th>\n",
       "      <th>Most Memorable Characteristics</th>\n",
       "      <th>Rating</th>\n",
       "      <th>matches</th>\n",
       "      <th>company</th>\n",
       "      <th>COMPANY NAME</th>\n",
       "      <th>CITY</th>\n",
       "      <th>STATE</th>\n",
       "      <th>OWNER/MAKER</th>\n",
       "      <th>Rank</th>\n",
       "    </tr>\n",
       "  </thead>\n",
       "  <tbody>\n",
       "    <tr>\n",
       "      <th>0</th>\n",
       "      <td>2454</td>\n",
       "      <td>5150</td>\n",
       "      <td>U.S.A.</td>\n",
       "      <td>2019</td>\n",
       "      <td>Tanzania</td>\n",
       "      <td>Kokoa Kamili, batch 1</td>\n",
       "      <td>0.76</td>\n",
       "      <td>3- B,S,C</td>\n",
       "      <td>rich cocoa, fatty, bready</td>\n",
       "      <td>3.25</td>\n",
       "      <td>(5150 Chocolate Co., 90)</td>\n",
       "      <td>5150 Chocolate Co.</td>\n",
       "      <td>5150 Chocolate Co.</td>\n",
       "      <td>Delray Beach</td>\n",
       "      <td>Florida</td>\n",
       "      <td>Tyler Levitetz</td>\n",
       "      <td>Recommended</td>\n",
       "    </tr>\n",
       "    <tr>\n",
       "      <th>1</th>\n",
       "      <td>2454</td>\n",
       "      <td>5150</td>\n",
       "      <td>U.S.A.</td>\n",
       "      <td>2019</td>\n",
       "      <td>Madagascar</td>\n",
       "      <td>Bejofo Estate, batch 1</td>\n",
       "      <td>0.76</td>\n",
       "      <td>3- B,S,C</td>\n",
       "      <td>cocoa, blackberry, full body</td>\n",
       "      <td>3.75</td>\n",
       "      <td>(5150 Chocolate Co., 90)</td>\n",
       "      <td>5150 Chocolate Co.</td>\n",
       "      <td>5150 Chocolate Co.</td>\n",
       "      <td>Delray Beach</td>\n",
       "      <td>Florida</td>\n",
       "      <td>Tyler Levitetz</td>\n",
       "      <td>Highly Recommended</td>\n",
       "    </tr>\n",
       "    <tr>\n",
       "      <th>2</th>\n",
       "      <td>2458</td>\n",
       "      <td>5150</td>\n",
       "      <td>U.S.A.</td>\n",
       "      <td>2019</td>\n",
       "      <td>Dominican Republic</td>\n",
       "      <td>Zorzal, batch 1</td>\n",
       "      <td>0.76</td>\n",
       "      <td>3- B,S,C</td>\n",
       "      <td>cocoa, vegetal, savory</td>\n",
       "      <td>3.50</td>\n",
       "      <td>(5150 Chocolate Co., 90)</td>\n",
       "      <td>5150 Chocolate Co.</td>\n",
       "      <td>5150 Chocolate Co.</td>\n",
       "      <td>Delray Beach</td>\n",
       "      <td>Florida</td>\n",
       "      <td>Tyler Levitetz</td>\n",
       "      <td>Highly Recommended</td>\n",
       "    </tr>\n",
       "    <tr>\n",
       "      <th>3</th>\n",
       "      <td>2542</td>\n",
       "      <td>5150</td>\n",
       "      <td>U.S.A.</td>\n",
       "      <td>2021</td>\n",
       "      <td>Fiji</td>\n",
       "      <td>Matasawalevu, batch 1</td>\n",
       "      <td>0.68</td>\n",
       "      <td>3- B,S,C</td>\n",
       "      <td>chewy, off, rubbery</td>\n",
       "      <td>3.00</td>\n",
       "      <td>(5150 Chocolate Co., 90)</td>\n",
       "      <td>5150 Chocolate Co.</td>\n",
       "      <td>5150 Chocolate Co.</td>\n",
       "      <td>Delray Beach</td>\n",
       "      <td>Florida</td>\n",
       "      <td>Tyler Levitetz</td>\n",
       "      <td>Recommended</td>\n",
       "    </tr>\n",
       "    <tr>\n",
       "      <th>4</th>\n",
       "      <td>2542</td>\n",
       "      <td>5150</td>\n",
       "      <td>U.S.A.</td>\n",
       "      <td>2021</td>\n",
       "      <td>India</td>\n",
       "      <td>Anamalai, batch 1</td>\n",
       "      <td>0.68</td>\n",
       "      <td>3- B,S,C</td>\n",
       "      <td>milk brownie, macadamia,chewy</td>\n",
       "      <td>3.50</td>\n",
       "      <td>(5150 Chocolate Co., 90)</td>\n",
       "      <td>5150 Chocolate Co.</td>\n",
       "      <td>5150 Chocolate Co.</td>\n",
       "      <td>Delray Beach</td>\n",
       "      <td>Florida</td>\n",
       "      <td>Tyler Levitetz</td>\n",
       "      <td>Highly Recommended</td>\n",
       "    </tr>\n",
       "  </tbody>\n",
       "</table>\n",
       "</div>"
      ],
      "text/plain": [
       "    REF Company (Manufacturer) Company Location  Review Date  \\\n",
       "0  2454                   5150           U.S.A.         2019   \n",
       "1  2454                   5150           U.S.A.         2019   \n",
       "2  2458                   5150           U.S.A.         2019   \n",
       "3  2542                   5150           U.S.A.         2021   \n",
       "4  2542                   5150           U.S.A.         2021   \n",
       "\n",
       "  Country of Bean Origin Specific Bean Origin or Bar Name  Cocoa Percent  \\\n",
       "0               Tanzania            Kokoa Kamili, batch 1           0.76   \n",
       "1             Madagascar           Bejofo Estate, batch 1           0.76   \n",
       "2     Dominican Republic                  Zorzal, batch 1           0.76   \n",
       "3                   Fiji            Matasawalevu, batch 1           0.68   \n",
       "4                  India                Anamalai, batch 1           0.68   \n",
       "\n",
       "  Ingredients Most Memorable Characteristics  Rating  \\\n",
       "0    3- B,S,C      rich cocoa, fatty, bready    3.25   \n",
       "1    3- B,S,C   cocoa, blackberry, full body    3.75   \n",
       "2    3- B,S,C         cocoa, vegetal, savory    3.50   \n",
       "3    3- B,S,C            chewy, off, rubbery    3.00   \n",
       "4    3- B,S,C  milk brownie, macadamia,chewy    3.50   \n",
       "\n",
       "                    matches             company        COMPANY NAME  \\\n",
       "0  (5150 Chocolate Co., 90)  5150 Chocolate Co.  5150 Chocolate Co.   \n",
       "1  (5150 Chocolate Co., 90)  5150 Chocolate Co.  5150 Chocolate Co.   \n",
       "2  (5150 Chocolate Co., 90)  5150 Chocolate Co.  5150 Chocolate Co.   \n",
       "3  (5150 Chocolate Co., 90)  5150 Chocolate Co.  5150 Chocolate Co.   \n",
       "4  (5150 Chocolate Co., 90)  5150 Chocolate Co.  5150 Chocolate Co.   \n",
       "\n",
       "           CITY    STATE     OWNER/MAKER                Rank  \n",
       "0  Delray Beach  Florida  Tyler Levitetz         Recommended  \n",
       "1  Delray Beach  Florida  Tyler Levitetz  Highly Recommended  \n",
       "2  Delray Beach  Florida  Tyler Levitetz  Highly Recommended  \n",
       "3  Delray Beach  Florida  Tyler Levitetz         Recommended  \n",
       "4  Delray Beach  Florida  Tyler Levitetz  Highly Recommended  "
      ]
     },
     "execution_count": 23,
     "metadata": {},
     "output_type": "execute_result"
    }
   ],
   "source": [
    "# Convert Ratings to ranking\n",
    "chocolate_plots.loc[chocolate_plots.Rating <= 5, 'Rank'] = 'Outstanding'\n",
    "chocolate_plots.loc[chocolate_plots.Rating <= 3.9, 'Rank'] = 'Highly Recommended'\n",
    "chocolate_plots.loc[chocolate_plots.Rating <= 3.49, 'Rank'] = 'Recommended'\n",
    "chocolate_plots.loc[chocolate_plots.Rating <= 2.9, 'Rank'] = 'Disappointing'\n",
    "chocolate_plots.loc[chocolate_plots.Rating <= 1.9, 'Rank'] = 'Unpleasant'\n",
    "\n",
    "chocolate_plots.head()"
   ]
  },
  {
   "cell_type": "code",
   "execution_count": 24,
   "id": "5854a920-0cd8-4d1e-b77a-8ee671b2d991",
   "metadata": {},
   "outputs": [],
   "source": [
    "# Count of Ratings in the US\n",
    "ratings_counts = chocolate_plots['Rank'].value_counts()"
   ]
  },
  {
   "cell_type": "code",
   "execution_count": 25,
   "id": "9a71ec93-620b-4d76-99b2-e6cdc48842ac",
   "metadata": {},
   "outputs": [
    {
     "data": {
      "image/png": "[encoded data removed]",
      "text/plain": [
       "<Figure size 720x576 with 1 Axes>"
      ]
     },
     "metadata": {},
     "output_type": "display_data"
    }
   ],
   "source": [
    "sns.set(rc={'figure.figsize':(10,8)})\n",
    "ax = sns.barplot(y = ratings_counts.index, x = ratings_counts.values)\n",
    "ax.set_xlabel('Count', fontsize = 16)\n",
    "ax.set_ylabel('Ratings', fontsize = 16)\n",
    "ax.set_title('Chocolate Ratings', fontsize = 20)\n",
    "plt.show()"
   ]
  },
  {
   "cell_type": "markdown",
   "id": "27c32887-6ae9-4094-9722-d2aa3ed63362",
   "metadata": {},
   "source": [
    "**Conclusions:**\n",
    "\n",
    "* There are more Recommended and Highly Recommended chocolates with minimal Outstanding and Unpleasant."
   ]
  },
  {
   "cell_type": "code",
   "execution_count": 26,
   "id": "e1e8e8e8-af95-4de2-a508-de16cb28ac61",
   "metadata": {},
   "outputs": [],
   "source": [
    "# Count of locations (State) of chocolate makers\n",
    "companies_counts = chocolate_plots['STATE'].value_counts()"
   ]
  },
  {
   "cell_type": "code",
   "execution_count": 27,
   "id": "16b635bf-7c40-4b05-b91a-d86258147afa",
   "metadata": {},
   "outputs": [
    {
     "data": {
      "image/png": "[encoded data removed]",
      "text/plain": [
       "<Figure size 1080x720 with 1 Axes>"
      ]
     },
     "metadata": {},
     "output_type": "display_data"
    }
   ],
   "source": [
    "sns.set(rc={'figure.figsize':(15,10)})\n",
    "x = sns.barplot(y = companies_counts.index, x = companies_counts.values)\n",
    "ax.set_xlabel('Count', fontsize = 16)\n",
    "ax.set_ylabel('State', fontsize = 16)\n",
    "ax.set_title('State Location of Chocolate Makers', fontsize = 20)\n",
    "plt.show()"
   ]
  },
  {
   "cell_type": "markdown",
   "id": "4f7db4b2-cb2d-4b77-a2e0-ab49c07a326e",
   "metadata": {},
   "source": [
    "**Conclusions:**\n",
    "\n",
    "* There are significantly more companies from the California then the rest of the states."
   ]
  },
  {
   "cell_type": "code",
   "execution_count": 28,
   "id": "dba488a5-5f40-4bfa-8fab-4c5a35c67f0b",
   "metadata": {},
   "outputs": [],
   "source": [
    "# Count of Country of Bean Origin\n",
    "origin_counts = chocolate_plots['Country of Bean Origin'].value_counts()"
   ]
  },
  {
   "cell_type": "code",
   "execution_count": 29,
   "id": "aa7d6c97-22ee-4d80-bf88-ab32d478947d",
   "metadata": {},
   "outputs": [
    {
     "data": {
      "image/png": "[encoded data removed]",
      "text/plain": [
       "<Figure size 1080x720 with 1 Axes>"
      ]
     },
     "metadata": {},
     "output_type": "display_data"
    }
   ],
   "source": [
    "sns.set(rc={'figure.figsize':(15,10)})\n",
    "ax = sns.barplot(y = origin_counts.index, x = origin_counts.values)\n",
    "ax.set_xlabel('Count', fontsize = 16)\n",
    "ax.set_ylabel('Country', fontsize = 16)\n",
    "ax.set_title('Country of Bean Origin', fontsize = 20)\n",
    "plt.show()"
   ]
  },
  {
   "cell_type": "markdown",
   "id": "6073cb9f-96a3-427c-830b-1a0f7386f458",
   "metadata": {},
   "source": [
    "**Conclusions:**\n",
    "* Dominican Republic, Peru, Ecuador, and Venezula are the top producers of cacao beans used in US companies making chocolates."
   ]
  },
  {
   "cell_type": "code",
   "execution_count": 30,
   "id": "1670665d-50e8-47d9-be0b-e8516146dd12",
   "metadata": {},
   "outputs": [],
   "source": [
    "# Count of Ingredients\n",
    "ingredients_counts = chocolate_plots['Ingredients'].value_counts()"
   ]
  },
  {
   "cell_type": "code",
   "execution_count": 31,
   "id": "0c31db35-c185-4758-90ea-44f28e76a019",
   "metadata": {},
   "outputs": [
    {
     "data": {
      "image/png": "[encoded data removed]",
      "text/plain": [
       "<Figure size 1080x720 with 1 Axes>"
      ]
     },
     "metadata": {},
     "output_type": "display_data"
    }
   ],
   "source": [
    "sns.set(rc={'figure.figsize':(15,10)})\n",
    "ax = sns.barplot(y = ingredients_counts.index, x = ingredients_counts.values)\n",
    "ax.set_xlabel('Count', fontsize = 16)\n",
    "ax.set_ylabel('Ingredient', fontsize = 16)\n",
    "ax.set_title('Chocolate Ingredients', fontsize = 20)\n",
    "plt.show()"
   ]
  },
  {
   "cell_type": "markdown",
   "id": "46a31095-7e70-4e0a-a453-9ff1e94463df",
   "metadata": {},
   "source": [
    "**Conclusions**\n",
    "\n",
    "Most of the chocolate is made with 2 ingredients (Butter and Sugar) and 3 ingredients (Butter, Sugar, and Cocoa Butter)."
   ]
  },
  {
   "cell_type": "code",
   "execution_count": 32,
   "id": "c97d1f43-cdd0-4dee-8f20-7cace3813087",
   "metadata": {},
   "outputs": [
    {
     "data": {
      "text/plain": [
       "(-0.5, 1599.5, 799.5, -0.5)"
      ]
     },
     "execution_count": 32,
     "metadata": {},
     "output_type": "execute_result"
    },
    {
     "data": {
      "image/png": "[encoded data removed]",
      "text/plain": [
       "<Figure size 1080x1080 with 1 Axes>"
      ]
     },
     "metadata": {},
     "output_type": "display_data"
    }
   ],
   "source": [
    "# Most frequent words in the Characteristics\n",
    "\n",
    "word_string = \" \".join(chocolate_usa['Most Memorable Characteristics'].str.lower())\n",
    "\n",
    "plt.figure(figsize=(15,15))\n",
    "\n",
    "word_cloud = WordCloud(background_color = \"black\", width=1600, height=800)\n",
    "word_cloud.generate(word_string)\n",
    "\n",
    "plt.imshow(word_cloud.recolor(colormap = 'viridis' , random_state = 17), interpolation=\"bilinear\")\n",
    "plt.axis('off')"
   ]
  },
  {
   "cell_type": "markdown",
   "id": "aba82e31-8a43-4419-94de-20058b1f15f3",
   "metadata": {},
   "source": [
    "**Conclusions:**\n",
    "* Not looking at the other features, it looks like cocoa, sweet, nutty and roasty seem to characterize most frequently about the company's chocolate the most."
   ]
  },
  {
   "cell_type": "markdown",
   "id": "1e1debb9-b5a9-4f0d-82e6-613076eff95d",
   "metadata": {},
   "source": [
    "**Final Milestone 1 Conclusion**\n",
    "\n",
    "* We will be looking at 1,168 chocolates from the USA\n",
    "    * 39 unique Bean origins\n",
    "    * 17 unique Ingredients (combinations)\n",
    "    * 40 different States\n",
    "    * 167 different Cities\n",
    "    * 227 unique Companies\n",
    "* Just looking at the United States chocolatiers, most of the chocolates are rated fairly high with most made in California. \n",
    "* Dominican Republic and Peru also seem to initially be the beans of choice.\n",
    "* Further analysis needs to be done with correlations between the features and breaking down some of the features to further look into what makes a good chocolate.  \n",
    "* If I have time it would be interesting to compare US companies with the rest of the world."
   ]
  },
  {
   "cell_type": "markdown",
   "id": "3d0ff8dc-f3da-4c69-964a-f2492b8ac20c",
   "metadata": {},
   "source": [
    "## Milestone 2: Data Preparation"
   ]
  },
  {
   "cell_type": "code",
   "execution_count": 33,
   "id": "1a838d5a-4863-456a-864b-b6501503facd",
   "metadata": {},
   "outputs": [],
   "source": [
    "# import libraries\n",
    "from sklearn.model_selection import train_test_split\n",
    "from sklearn import preprocessing\n",
    "from sklearn import utils"
   ]
  },
  {
   "cell_type": "code",
   "execution_count": 34,
   "id": "a9907a09-ed14-40b9-bf8a-f1d853574f38",
   "metadata": {},
   "outputs": [
    {
     "data": {
      "text/html": [
       "<div>\n",
       "<style scoped>\n",
       "    .dataframe tbody tr th:only-of-type {\n",
       "        vertical-align: middle;\n",
       "    }\n",
       "\n",
       "    .dataframe tbody tr th {\n",
       "        vertical-align: top;\n",
       "    }\n",
       "\n",
       "    .dataframe thead th {\n",
       "        text-align: right;\n",
       "    }\n",
       "</style>\n",
       "<table border=\"1\" class=\"dataframe\">\n",
       "  <thead>\n",
       "    <tr style=\"text-align: right;\">\n",
       "      <th></th>\n",
       "      <th>REF</th>\n",
       "      <th>Company (Manufacturer)</th>\n",
       "      <th>Company Location</th>\n",
       "      <th>Review Date</th>\n",
       "      <th>Country of Bean Origin</th>\n",
       "      <th>Specific Bean Origin or Bar Name</th>\n",
       "      <th>Cocoa Percent</th>\n",
       "      <th>Ingredients</th>\n",
       "      <th>Most Memorable Characteristics</th>\n",
       "      <th>Rating</th>\n",
       "      <th>matches</th>\n",
       "      <th>company</th>\n",
       "      <th>COMPANY NAME</th>\n",
       "      <th>CITY</th>\n",
       "      <th>STATE</th>\n",
       "      <th>OWNER/MAKER</th>\n",
       "    </tr>\n",
       "  </thead>\n",
       "  <tbody>\n",
       "    <tr>\n",
       "      <th>0</th>\n",
       "      <td>2454</td>\n",
       "      <td>5150</td>\n",
       "      <td>U.S.A.</td>\n",
       "      <td>2019</td>\n",
       "      <td>Tanzania</td>\n",
       "      <td>Kokoa Kamili, batch 1</td>\n",
       "      <td>0.76</td>\n",
       "      <td>3- B,S,C</td>\n",
       "      <td>rich cocoa, fatty, bready</td>\n",
       "      <td>3.25</td>\n",
       "      <td>(5150 Chocolate Co., 90)</td>\n",
       "      <td>5150 Chocolate Co.</td>\n",
       "      <td>5150 Chocolate Co.</td>\n",
       "      <td>Delray Beach</td>\n",
       "      <td>Florida</td>\n",
       "      <td>Tyler Levitetz</td>\n",
       "    </tr>\n",
       "    <tr>\n",
       "      <th>1</th>\n",
       "      <td>2454</td>\n",
       "      <td>5150</td>\n",
       "      <td>U.S.A.</td>\n",
       "      <td>2019</td>\n",
       "      <td>Madagascar</td>\n",
       "      <td>Bejofo Estate, batch 1</td>\n",
       "      <td>0.76</td>\n",
       "      <td>3- B,S,C</td>\n",
       "      <td>cocoa, blackberry, full body</td>\n",
       "      <td>3.75</td>\n",
       "      <td>(5150 Chocolate Co., 90)</td>\n",
       "      <td>5150 Chocolate Co.</td>\n",
       "      <td>5150 Chocolate Co.</td>\n",
       "      <td>Delray Beach</td>\n",
       "      <td>Florida</td>\n",
       "      <td>Tyler Levitetz</td>\n",
       "    </tr>\n",
       "    <tr>\n",
       "      <th>2</th>\n",
       "      <td>2458</td>\n",
       "      <td>5150</td>\n",
       "      <td>U.S.A.</td>\n",
       "      <td>2019</td>\n",
       "      <td>Dominican Republic</td>\n",
       "      <td>Zorzal, batch 1</td>\n",
       "      <td>0.76</td>\n",
       "      <td>3- B,S,C</td>\n",
       "      <td>cocoa, vegetal, savory</td>\n",
       "      <td>3.50</td>\n",
       "      <td>(5150 Chocolate Co., 90)</td>\n",
       "      <td>5150 Chocolate Co.</td>\n",
       "      <td>5150 Chocolate Co.</td>\n",
       "      <td>Delray Beach</td>\n",
       "      <td>Florida</td>\n",
       "      <td>Tyler Levitetz</td>\n",
       "    </tr>\n",
       "    <tr>\n",
       "      <th>3</th>\n",
       "      <td>2542</td>\n",
       "      <td>5150</td>\n",
       "      <td>U.S.A.</td>\n",
       "      <td>2021</td>\n",
       "      <td>Fiji</td>\n",
       "      <td>Matasawalevu, batch 1</td>\n",
       "      <td>0.68</td>\n",
       "      <td>3- B,S,C</td>\n",
       "      <td>chewy, off, rubbery</td>\n",
       "      <td>3.00</td>\n",
       "      <td>(5150 Chocolate Co., 90)</td>\n",
       "      <td>5150 Chocolate Co.</td>\n",
       "      <td>5150 Chocolate Co.</td>\n",
       "      <td>Delray Beach</td>\n",
       "      <td>Florida</td>\n",
       "      <td>Tyler Levitetz</td>\n",
       "    </tr>\n",
       "    <tr>\n",
       "      <th>4</th>\n",
       "      <td>2542</td>\n",
       "      <td>5150</td>\n",
       "      <td>U.S.A.</td>\n",
       "      <td>2021</td>\n",
       "      <td>India</td>\n",
       "      <td>Anamalai, batch 1</td>\n",
       "      <td>0.68</td>\n",
       "      <td>3- B,S,C</td>\n",
       "      <td>milk brownie, macadamia,chewy</td>\n",
       "      <td>3.50</td>\n",
       "      <td>(5150 Chocolate Co., 90)</td>\n",
       "      <td>5150 Chocolate Co.</td>\n",
       "      <td>5150 Chocolate Co.</td>\n",
       "      <td>Delray Beach</td>\n",
       "      <td>Florida</td>\n",
       "      <td>Tyler Levitetz</td>\n",
       "    </tr>\n",
       "  </tbody>\n",
       "</table>\n",
       "</div>"
      ],
      "text/plain": [
       "    REF Company (Manufacturer) Company Location  Review Date  \\\n",
       "0  2454                   5150           U.S.A.         2019   \n",
       "1  2454                   5150           U.S.A.         2019   \n",
       "2  2458                   5150           U.S.A.         2019   \n",
       "3  2542                   5150           U.S.A.         2021   \n",
       "4  2542                   5150           U.S.A.         2021   \n",
       "\n",
       "  Country of Bean Origin Specific Bean Origin or Bar Name  Cocoa Percent  \\\n",
       "0               Tanzania            Kokoa Kamili, batch 1           0.76   \n",
       "1             Madagascar           Bejofo Estate, batch 1           0.76   \n",
       "2     Dominican Republic                  Zorzal, batch 1           0.76   \n",
       "3                   Fiji            Matasawalevu, batch 1           0.68   \n",
       "4                  India                Anamalai, batch 1           0.68   \n",
       "\n",
       "  Ingredients Most Memorable Characteristics  Rating  \\\n",
       "0    3- B,S,C      rich cocoa, fatty, bready    3.25   \n",
       "1    3- B,S,C   cocoa, blackberry, full body    3.75   \n",
       "2    3- B,S,C         cocoa, vegetal, savory    3.50   \n",
       "3    3- B,S,C            chewy, off, rubbery    3.00   \n",
       "4    3- B,S,C  milk brownie, macadamia,chewy    3.50   \n",
       "\n",
       "                    matches             company        COMPANY NAME  \\\n",
       "0  (5150 Chocolate Co., 90)  5150 Chocolate Co.  5150 Chocolate Co.   \n",
       "1  (5150 Chocolate Co., 90)  5150 Chocolate Co.  5150 Chocolate Co.   \n",
       "2  (5150 Chocolate Co., 90)  5150 Chocolate Co.  5150 Chocolate Co.   \n",
       "3  (5150 Chocolate Co., 90)  5150 Chocolate Co.  5150 Chocolate Co.   \n",
       "4  (5150 Chocolate Co., 90)  5150 Chocolate Co.  5150 Chocolate Co.   \n",
       "\n",
       "           CITY    STATE     OWNER/MAKER  \n",
       "0  Delray Beach  Florida  Tyler Levitetz  \n",
       "1  Delray Beach  Florida  Tyler Levitetz  \n",
       "2  Delray Beach  Florida  Tyler Levitetz  \n",
       "3  Delray Beach  Florida  Tyler Levitetz  \n",
       "4  Delray Beach  Florida  Tyler Levitetz  "
      ]
     },
     "execution_count": 34,
     "metadata": {},
     "output_type": "execute_result"
    }
   ],
   "source": [
    "# Examine first 5 rows\n",
    "chocolate_usa.head()"
   ]
  },
  {
   "cell_type": "code",
   "execution_count": 35,
   "id": "6daad87d-11e2-4381-8ed1-083447ca406f",
   "metadata": {},
   "outputs": [
    {
     "data": {
      "text/plain": [
       "(1168, 16)"
      ]
     },
     "execution_count": 35,
     "metadata": {},
     "output_type": "execute_result"
    }
   ],
   "source": [
    "chocolate_usa.shape"
   ]
  },
  {
   "cell_type": "markdown",
   "id": "e2ff5293-cdf1-4bb7-bf1e-167d5b817f73",
   "metadata": {},
   "source": [
    "### Step 1: Standardize Ratings to their appropriate scale"
   ]
  },
  {
   "cell_type": "markdown",
   "id": "f7609c2d-3e67-449e-9bcc-01a7cf31afcb",
   "metadata": {},
   "source": [
    "Ratings are based on the following chart:\n",
    "\n",
    "* 4.0 - 5.0 = Outstanding\n",
    "* 3.5 - 3.9 = Highly Recommended\n",
    "* 3.0 - 3.49 = Recommended\n",
    "* 2.0 - 2.9 = Disappointing\n",
    "* 1.0 - 1.9 = Unpleasant"
   ]
  },
  {
   "cell_type": "markdown",
   "id": "080df276-3da1-458b-a869-93864555599f",
   "metadata": {},
   "source": [
    "I will convert the current rating to a 5, 4, 3.5, 3, 2 rating scale to match up with the ranks"
   ]
  },
  {
   "cell_type": "code",
   "execution_count": 36,
   "id": "a863cfd6-063c-4bb1-9346-6c292e2cc576",
   "metadata": {},
   "outputs": [],
   "source": [
    "def convert_rating(rating):\n",
    "    '''\n",
    "    Convert Ratings to their proper scale\n",
    "    \n",
    "    args: \n",
    "        rating(int)\n",
    "        \n",
    "    return:\n",
    "        scale(int)\n",
    "    '''\n",
    "    # initialize scale to lowest\n",
    "    scale = 1\n",
    "    \n",
    "    # convert rating to scale\n",
    "    if rating <= 1.9:\n",
    "        scale = 2\n",
    "    elif rating <= 2.9:\n",
    "        scale = 3\n",
    "    elif rating <= 3.49:\n",
    "        scale = 3.5\n",
    "    elif rating <= 3.9:\n",
    "        scale = 4\n",
    "    else:\n",
    "        scale = 5\n",
    "        \n",
    "    return scale"
   ]
  },
  {
   "cell_type": "code",
   "execution_count": 37,
   "id": "4f1b60c5-6c6c-4cfb-bbee-a644e2937461",
   "metadata": {},
   "outputs": [
    {
     "data": {
      "text/html": [
       "<div>\n",
       "<style scoped>\n",
       "    .dataframe tbody tr th:only-of-type {\n",
       "        vertical-align: middle;\n",
       "    }\n",
       "\n",
       "    .dataframe tbody tr th {\n",
       "        vertical-align: top;\n",
       "    }\n",
       "\n",
       "    .dataframe thead th {\n",
       "        text-align: right;\n",
       "    }\n",
       "</style>\n",
       "<table border=\"1\" class=\"dataframe\">\n",
       "  <thead>\n",
       "    <tr style=\"text-align: right;\">\n",
       "      <th></th>\n",
       "      <th>REF</th>\n",
       "      <th>Company (Manufacturer)</th>\n",
       "      <th>Company Location</th>\n",
       "      <th>Review Date</th>\n",
       "      <th>Country of Bean Origin</th>\n",
       "      <th>Specific Bean Origin or Bar Name</th>\n",
       "      <th>Cocoa Percent</th>\n",
       "      <th>Ingredients</th>\n",
       "      <th>Most Memorable Characteristics</th>\n",
       "      <th>matches</th>\n",
       "      <th>company</th>\n",
       "      <th>COMPANY NAME</th>\n",
       "      <th>CITY</th>\n",
       "      <th>STATE</th>\n",
       "      <th>OWNER/MAKER</th>\n",
       "      <th>rating</th>\n",
       "    </tr>\n",
       "  </thead>\n",
       "  <tbody>\n",
       "    <tr>\n",
       "      <th>0</th>\n",
       "      <td>2454</td>\n",
       "      <td>5150</td>\n",
       "      <td>U.S.A.</td>\n",
       "      <td>2019</td>\n",
       "      <td>Tanzania</td>\n",
       "      <td>Kokoa Kamili, batch 1</td>\n",
       "      <td>0.76</td>\n",
       "      <td>3- B,S,C</td>\n",
       "      <td>rich cocoa, fatty, bready</td>\n",
       "      <td>(5150 Chocolate Co., 90)</td>\n",
       "      <td>5150 Chocolate Co.</td>\n",
       "      <td>5150 Chocolate Co.</td>\n",
       "      <td>Delray Beach</td>\n",
       "      <td>Florida</td>\n",
       "      <td>Tyler Levitetz</td>\n",
       "      <td>3.5</td>\n",
       "    </tr>\n",
       "    <tr>\n",
       "      <th>1</th>\n",
       "      <td>2454</td>\n",
       "      <td>5150</td>\n",
       "      <td>U.S.A.</td>\n",
       "      <td>2019</td>\n",
       "      <td>Madagascar</td>\n",
       "      <td>Bejofo Estate, batch 1</td>\n",
       "      <td>0.76</td>\n",
       "      <td>3- B,S,C</td>\n",
       "      <td>cocoa, blackberry, full body</td>\n",
       "      <td>(5150 Chocolate Co., 90)</td>\n",
       "      <td>5150 Chocolate Co.</td>\n",
       "      <td>5150 Chocolate Co.</td>\n",
       "      <td>Delray Beach</td>\n",
       "      <td>Florida</td>\n",
       "      <td>Tyler Levitetz</td>\n",
       "      <td>4.0</td>\n",
       "    </tr>\n",
       "    <tr>\n",
       "      <th>2</th>\n",
       "      <td>2458</td>\n",
       "      <td>5150</td>\n",
       "      <td>U.S.A.</td>\n",
       "      <td>2019</td>\n",
       "      <td>Dominican Republic</td>\n",
       "      <td>Zorzal, batch 1</td>\n",
       "      <td>0.76</td>\n",
       "      <td>3- B,S,C</td>\n",
       "      <td>cocoa, vegetal, savory</td>\n",
       "      <td>(5150 Chocolate Co., 90)</td>\n",
       "      <td>5150 Chocolate Co.</td>\n",
       "      <td>5150 Chocolate Co.</td>\n",
       "      <td>Delray Beach</td>\n",
       "      <td>Florida</td>\n",
       "      <td>Tyler Levitetz</td>\n",
       "      <td>4.0</td>\n",
       "    </tr>\n",
       "    <tr>\n",
       "      <th>3</th>\n",
       "      <td>2542</td>\n",
       "      <td>5150</td>\n",
       "      <td>U.S.A.</td>\n",
       "      <td>2021</td>\n",
       "      <td>Fiji</td>\n",
       "      <td>Matasawalevu, batch 1</td>\n",
       "      <td>0.68</td>\n",
       "      <td>3- B,S,C</td>\n",
       "      <td>chewy, off, rubbery</td>\n",
       "      <td>(5150 Chocolate Co., 90)</td>\n",
       "      <td>5150 Chocolate Co.</td>\n",
       "      <td>5150 Chocolate Co.</td>\n",
       "      <td>Delray Beach</td>\n",
       "      <td>Florida</td>\n",
       "      <td>Tyler Levitetz</td>\n",
       "      <td>3.5</td>\n",
       "    </tr>\n",
       "    <tr>\n",
       "      <th>4</th>\n",
       "      <td>2542</td>\n",
       "      <td>5150</td>\n",
       "      <td>U.S.A.</td>\n",
       "      <td>2021</td>\n",
       "      <td>India</td>\n",
       "      <td>Anamalai, batch 1</td>\n",
       "      <td>0.68</td>\n",
       "      <td>3- B,S,C</td>\n",
       "      <td>milk brownie, macadamia,chewy</td>\n",
       "      <td>(5150 Chocolate Co., 90)</td>\n",
       "      <td>5150 Chocolate Co.</td>\n",
       "      <td>5150 Chocolate Co.</td>\n",
       "      <td>Delray Beach</td>\n",
       "      <td>Florida</td>\n",
       "      <td>Tyler Levitetz</td>\n",
       "      <td>4.0</td>\n",
       "    </tr>\n",
       "  </tbody>\n",
       "</table>\n",
       "</div>"
      ],
      "text/plain": [
       "    REF Company (Manufacturer) Company Location  Review Date  \\\n",
       "0  2454                   5150           U.S.A.         2019   \n",
       "1  2454                   5150           U.S.A.         2019   \n",
       "2  2458                   5150           U.S.A.         2019   \n",
       "3  2542                   5150           U.S.A.         2021   \n",
       "4  2542                   5150           U.S.A.         2021   \n",
       "\n",
       "  Country of Bean Origin Specific Bean Origin or Bar Name  Cocoa Percent  \\\n",
       "0               Tanzania            Kokoa Kamili, batch 1           0.76   \n",
       "1             Madagascar           Bejofo Estate, batch 1           0.76   \n",
       "2     Dominican Republic                  Zorzal, batch 1           0.76   \n",
       "3                   Fiji            Matasawalevu, batch 1           0.68   \n",
       "4                  India                Anamalai, batch 1           0.68   \n",
       "\n",
       "  Ingredients Most Memorable Characteristics                   matches  \\\n",
       "0    3- B,S,C      rich cocoa, fatty, bready  (5150 Chocolate Co., 90)   \n",
       "1    3- B,S,C   cocoa, blackberry, full body  (5150 Chocolate Co., 90)   \n",
       "2    3- B,S,C         cocoa, vegetal, savory  (5150 Chocolate Co., 90)   \n",
       "3    3- B,S,C            chewy, off, rubbery  (5150 Chocolate Co., 90)   \n",
       "4    3- B,S,C  milk brownie, macadamia,chewy  (5150 Chocolate Co., 90)   \n",
       "\n",
       "              company        COMPANY NAME          CITY    STATE  \\\n",
       "0  5150 Chocolate Co.  5150 Chocolate Co.  Delray Beach  Florida   \n",
       "1  5150 Chocolate Co.  5150 Chocolate Co.  Delray Beach  Florida   \n",
       "2  5150 Chocolate Co.  5150 Chocolate Co.  Delray Beach  Florida   \n",
       "3  5150 Chocolate Co.  5150 Chocolate Co.  Delray Beach  Florida   \n",
       "4  5150 Chocolate Co.  5150 Chocolate Co.  Delray Beach  Florida   \n",
       "\n",
       "      OWNER/MAKER  rating  \n",
       "0  Tyler Levitetz     3.5  \n",
       "1  Tyler Levitetz     4.0  \n",
       "2  Tyler Levitetz     4.0  \n",
       "3  Tyler Levitetz     3.5  \n",
       "4  Tyler Levitetz     4.0  "
      ]
     },
     "execution_count": 37,
     "metadata": {},
     "output_type": "execute_result"
    }
   ],
   "source": [
    "chocolate_usa.loc[:,'rating_rank'] = chocolate_usa.loc[:,'Rating'].apply(convert_rating)\n",
    "\n",
    "# drop rating, using rank\n",
    "chocolate_usa.drop('Rating', axis = 1, inplace = True)\n",
    "\n",
    "# rename rating_rank to rating\n",
    "chocolate_usa.rename(columns = {'rating_rank': 'rating'}, inplace = True)\n",
    "\n",
    "chocolate_usa.head()"
   ]
  },
  {
   "cell_type": "markdown",
   "id": "75f52ba7-509d-4716-81e1-6a76c721465b",
   "metadata": {},
   "source": [
    "### Step 2: Get characteristics with more than 20 mentions"
   ]
  },
  {
   "cell_type": "code",
   "execution_count": 38,
   "id": "bf765eb9-21b2-4d3c-8201-935ff90e1195",
   "metadata": {},
   "outputs": [],
   "source": [
    "# get counts of characteristics\n",
    "char_dict = {}\n",
    "\n",
    "for index, row in chocolate_usa.iterrows():\n",
    "    words = row['Most Memorable Characteristics'].split(',')\n",
    "    \n",
    "    for word in words:\n",
    "        word_check = word.strip().lower()\n",
    "        \n",
    "        if word_check in char_dict.keys():\n",
    "            char_dict[word_check] += 1\n",
    "        else:\n",
    "            char_dict[word_check] = 1"
   ]
  },
  {
   "cell_type": "code",
   "execution_count": 39,
   "id": "cbe3f7c2-3489-4730-a6fd-b706c73cf83a",
   "metadata": {},
   "outputs": [
    {
     "data": {
      "text/plain": [
       "35"
      ]
     },
     "execution_count": 39,
     "metadata": {},
     "output_type": "execute_result"
    }
   ],
   "source": [
    "# Remove words mentioned less than 10 times\n",
    "char_dict = { k: v for k, v in char_dict.items() if v >= 20 }\n",
    "len(char_dict)"
   ]
  },
  {
   "cell_type": "code",
   "execution_count": 40,
   "id": "ba22e439-1ef7-49ac-b8be-d1305b62e825",
   "metadata": {},
   "outputs": [
    {
     "data": {
      "text/plain": [
       "{'rich cocoa': 24,\n",
       " 'fatty': 47,\n",
       " 'cocoa': 121,\n",
       " 'earthy': 98,\n",
       " 'nutty': 106,\n",
       " 'intense': 72,\n",
       " 'cherry': 23,\n",
       " 'molasses': 66,\n",
       " 'rich': 35,\n",
       " 'sweet': 140,\n",
       " 'sandy': 63,\n",
       " 'dairy': 22,\n",
       " 'spice': 27,\n",
       " 'gritty': 41,\n",
       " 'caramel': 30,\n",
       " 'fruit': 43,\n",
       " 'dry': 28,\n",
       " 'sour': 61,\n",
       " 'roasty': 104,\n",
       " 'spicy': 63,\n",
       " 'sticky': 42,\n",
       " 'woody': 41,\n",
       " 'tart': 41,\n",
       " 'creamy': 61,\n",
       " 'floral': 68,\n",
       " 'brownie': 23,\n",
       " 'complex': 24,\n",
       " 'dried fruit': 43,\n",
       " 'acidic': 20,\n",
       " 'astringent': 22,\n",
       " 'bitter': 29,\n",
       " 'coffee': 29,\n",
       " 'vanilla': 48,\n",
       " 'fruity': 30,\n",
       " 'grassy': 29}"
      ]
     },
     "execution_count": 40,
     "metadata": {},
     "output_type": "execute_result"
    }
   ],
   "source": [
    "char_dict"
   ]
  },
  {
   "cell_type": "code",
   "execution_count": 41,
   "id": "db238ad3-006b-4e15-8763-06e19f13b46d",
   "metadata": {},
   "outputs": [
    {
     "data": {
      "text/html": [
       "<div>\n",
       "<style scoped>\n",
       "    .dataframe tbody tr th:only-of-type {\n",
       "        vertical-align: middle;\n",
       "    }\n",
       "\n",
       "    .dataframe tbody tr th {\n",
       "        vertical-align: top;\n",
       "    }\n",
       "\n",
       "    .dataframe thead th {\n",
       "        text-align: right;\n",
       "    }\n",
       "</style>\n",
       "<table border=\"1\" class=\"dataframe\">\n",
       "  <thead>\n",
       "    <tr style=\"text-align: right;\">\n",
       "      <th></th>\n",
       "      <th>REF</th>\n",
       "      <th>Company (Manufacturer)</th>\n",
       "      <th>Company Location</th>\n",
       "      <th>Review Date</th>\n",
       "      <th>Country of Bean Origin</th>\n",
       "      <th>Specific Bean Origin or Bar Name</th>\n",
       "      <th>Cocoa Percent</th>\n",
       "      <th>Ingredients</th>\n",
       "      <th>Most Memorable Characteristics</th>\n",
       "      <th>matches</th>\n",
       "      <th>company</th>\n",
       "      <th>COMPANY NAME</th>\n",
       "      <th>CITY</th>\n",
       "      <th>STATE</th>\n",
       "      <th>OWNER/MAKER</th>\n",
       "      <th>rating</th>\n",
       "    </tr>\n",
       "  </thead>\n",
       "  <tbody>\n",
       "    <tr>\n",
       "      <th>0</th>\n",
       "      <td>2454</td>\n",
       "      <td>5150</td>\n",
       "      <td>U.S.A.</td>\n",
       "      <td>2019</td>\n",
       "      <td>Tanzania</td>\n",
       "      <td>Kokoa Kamili, batch 1</td>\n",
       "      <td>0.76</td>\n",
       "      <td>3- B,S,C</td>\n",
       "      <td>rich cocoa,fatty</td>\n",
       "      <td>(5150 Chocolate Co., 90)</td>\n",
       "      <td>5150 Chocolate Co.</td>\n",
       "      <td>5150 Chocolate Co.</td>\n",
       "      <td>Delray Beach</td>\n",
       "      <td>Florida</td>\n",
       "      <td>Tyler Levitetz</td>\n",
       "      <td>3.5</td>\n",
       "    </tr>\n",
       "    <tr>\n",
       "      <th>1</th>\n",
       "      <td>2454</td>\n",
       "      <td>5150</td>\n",
       "      <td>U.S.A.</td>\n",
       "      <td>2019</td>\n",
       "      <td>Madagascar</td>\n",
       "      <td>Bejofo Estate, batch 1</td>\n",
       "      <td>0.76</td>\n",
       "      <td>3- B,S,C</td>\n",
       "      <td>cocoa</td>\n",
       "      <td>(5150 Chocolate Co., 90)</td>\n",
       "      <td>5150 Chocolate Co.</td>\n",
       "      <td>5150 Chocolate Co.</td>\n",
       "      <td>Delray Beach</td>\n",
       "      <td>Florida</td>\n",
       "      <td>Tyler Levitetz</td>\n",
       "      <td>4.0</td>\n",
       "    </tr>\n",
       "    <tr>\n",
       "      <th>2</th>\n",
       "      <td>2458</td>\n",
       "      <td>5150</td>\n",
       "      <td>U.S.A.</td>\n",
       "      <td>2019</td>\n",
       "      <td>Dominican Republic</td>\n",
       "      <td>Zorzal, batch 1</td>\n",
       "      <td>0.76</td>\n",
       "      <td>3- B,S,C</td>\n",
       "      <td>cocoa</td>\n",
       "      <td>(5150 Chocolate Co., 90)</td>\n",
       "      <td>5150 Chocolate Co.</td>\n",
       "      <td>5150 Chocolate Co.</td>\n",
       "      <td>Delray Beach</td>\n",
       "      <td>Florida</td>\n",
       "      <td>Tyler Levitetz</td>\n",
       "      <td>4.0</td>\n",
       "    </tr>\n",
       "    <tr>\n",
       "      <th>3</th>\n",
       "      <td>2542</td>\n",
       "      <td>5150</td>\n",
       "      <td>U.S.A.</td>\n",
       "      <td>2021</td>\n",
       "      <td>Fiji</td>\n",
       "      <td>Matasawalevu, batch 1</td>\n",
       "      <td>0.68</td>\n",
       "      <td>3- B,S,C</td>\n",
       "      <td></td>\n",
       "      <td>(5150 Chocolate Co., 90)</td>\n",
       "      <td>5150 Chocolate Co.</td>\n",
       "      <td>5150 Chocolate Co.</td>\n",
       "      <td>Delray Beach</td>\n",
       "      <td>Florida</td>\n",
       "      <td>Tyler Levitetz</td>\n",
       "      <td>3.5</td>\n",
       "    </tr>\n",
       "    <tr>\n",
       "      <th>4</th>\n",
       "      <td>2542</td>\n",
       "      <td>5150</td>\n",
       "      <td>U.S.A.</td>\n",
       "      <td>2021</td>\n",
       "      <td>India</td>\n",
       "      <td>Anamalai, batch 1</td>\n",
       "      <td>0.68</td>\n",
       "      <td>3- B,S,C</td>\n",
       "      <td></td>\n",
       "      <td>(5150 Chocolate Co., 90)</td>\n",
       "      <td>5150 Chocolate Co.</td>\n",
       "      <td>5150 Chocolate Co.</td>\n",
       "      <td>Delray Beach</td>\n",
       "      <td>Florida</td>\n",
       "      <td>Tyler Levitetz</td>\n",
       "      <td>4.0</td>\n",
       "    </tr>\n",
       "  </tbody>\n",
       "</table>\n",
       "</div>"
      ],
      "text/plain": [
       "    REF Company (Manufacturer) Company Location  Review Date  \\\n",
       "0  2454                   5150           U.S.A.         2019   \n",
       "1  2454                   5150           U.S.A.         2019   \n",
       "2  2458                   5150           U.S.A.         2019   \n",
       "3  2542                   5150           U.S.A.         2021   \n",
       "4  2542                   5150           U.S.A.         2021   \n",
       "\n",
       "  Country of Bean Origin Specific Bean Origin or Bar Name  Cocoa Percent  \\\n",
       "0               Tanzania            Kokoa Kamili, batch 1           0.76   \n",
       "1             Madagascar           Bejofo Estate, batch 1           0.76   \n",
       "2     Dominican Republic                  Zorzal, batch 1           0.76   \n",
       "3                   Fiji            Matasawalevu, batch 1           0.68   \n",
       "4                  India                Anamalai, batch 1           0.68   \n",
       "\n",
       "  Ingredients Most Memorable Characteristics                   matches  \\\n",
       "0    3- B,S,C               rich cocoa,fatty  (5150 Chocolate Co., 90)   \n",
       "1    3- B,S,C                          cocoa  (5150 Chocolate Co., 90)   \n",
       "2    3- B,S,C                          cocoa  (5150 Chocolate Co., 90)   \n",
       "3    3- B,S,C                                 (5150 Chocolate Co., 90)   \n",
       "4    3- B,S,C                                 (5150 Chocolate Co., 90)   \n",
       "\n",
       "              company        COMPANY NAME          CITY    STATE  \\\n",
       "0  5150 Chocolate Co.  5150 Chocolate Co.  Delray Beach  Florida   \n",
       "1  5150 Chocolate Co.  5150 Chocolate Co.  Delray Beach  Florida   \n",
       "2  5150 Chocolate Co.  5150 Chocolate Co.  Delray Beach  Florida   \n",
       "3  5150 Chocolate Co.  5150 Chocolate Co.  Delray Beach  Florida   \n",
       "4  5150 Chocolate Co.  5150 Chocolate Co.  Delray Beach  Florida   \n",
       "\n",
       "      OWNER/MAKER  rating  \n",
       "0  Tyler Levitetz     3.5  \n",
       "1  Tyler Levitetz     4.0  \n",
       "2  Tyler Levitetz     4.0  \n",
       "3  Tyler Levitetz     3.5  \n",
       "4  Tyler Levitetz     4.0  "
      ]
     },
     "execution_count": 41,
     "metadata": {},
     "output_type": "execute_result"
    }
   ],
   "source": [
    "# Remove characteristics not in the top\n",
    "for index, row in chocolate_usa.iterrows():\n",
    "    words = row['Most Memorable Characteristics'].split(',')\n",
    "    new_list = []\n",
    "    \n",
    "    for word in words:\n",
    "        word_check = word.strip().lower()\n",
    "        \n",
    "        if word_check in char_dict.keys():\n",
    "            new_list.append(word_check)\n",
    "\n",
    "    chocolate_usa.at[index, 'Most Memorable Characteristics'] = ','.join(new_list)\n",
    "    \n",
    "chocolate_usa.head()"
   ]
  },
  {
   "cell_type": "markdown",
   "id": "31e4a9a4-caac-4165-94a5-480993759f27",
   "metadata": {},
   "source": [
    "### Step 3: Drop Unnecessary columns"
   ]
  },
  {
   "cell_type": "code",
   "execution_count": 42,
   "id": "76e6a50f-2ac1-4da1-8a76-de71993ef093",
   "metadata": {},
   "outputs": [
    {
     "data": {
      "text/html": [
       "<div>\n",
       "<style scoped>\n",
       "    .dataframe tbody tr th:only-of-type {\n",
       "        vertical-align: middle;\n",
       "    }\n",
       "\n",
       "    .dataframe tbody tr th {\n",
       "        vertical-align: top;\n",
       "    }\n",
       "\n",
       "    .dataframe thead th {\n",
       "        text-align: right;\n",
       "    }\n",
       "</style>\n",
       "<table border=\"1\" class=\"dataframe\">\n",
       "  <thead>\n",
       "    <tr style=\"text-align: right;\">\n",
       "      <th></th>\n",
       "      <th>REF</th>\n",
       "      <th>Review Date</th>\n",
       "      <th>Country of Bean Origin</th>\n",
       "      <th>Specific Bean Origin or Bar Name</th>\n",
       "      <th>Cocoa Percent</th>\n",
       "      <th>Ingredients</th>\n",
       "      <th>Most Memorable Characteristics</th>\n",
       "      <th>company</th>\n",
       "      <th>CITY</th>\n",
       "      <th>STATE</th>\n",
       "      <th>rating</th>\n",
       "    </tr>\n",
       "  </thead>\n",
       "  <tbody>\n",
       "    <tr>\n",
       "      <th>0</th>\n",
       "      <td>2454</td>\n",
       "      <td>2019</td>\n",
       "      <td>Tanzania</td>\n",
       "      <td>Kokoa Kamili, batch 1</td>\n",
       "      <td>0.76</td>\n",
       "      <td>3- B,S,C</td>\n",
       "      <td>rich cocoa,fatty</td>\n",
       "      <td>5150 Chocolate Co.</td>\n",
       "      <td>Delray Beach</td>\n",
       "      <td>Florida</td>\n",
       "      <td>3.5</td>\n",
       "    </tr>\n",
       "    <tr>\n",
       "      <th>1</th>\n",
       "      <td>2454</td>\n",
       "      <td>2019</td>\n",
       "      <td>Madagascar</td>\n",
       "      <td>Bejofo Estate, batch 1</td>\n",
       "      <td>0.76</td>\n",
       "      <td>3- B,S,C</td>\n",
       "      <td>cocoa</td>\n",
       "      <td>5150 Chocolate Co.</td>\n",
       "      <td>Delray Beach</td>\n",
       "      <td>Florida</td>\n",
       "      <td>4.0</td>\n",
       "    </tr>\n",
       "    <tr>\n",
       "      <th>2</th>\n",
       "      <td>2458</td>\n",
       "      <td>2019</td>\n",
       "      <td>Dominican Republic</td>\n",
       "      <td>Zorzal, batch 1</td>\n",
       "      <td>0.76</td>\n",
       "      <td>3- B,S,C</td>\n",
       "      <td>cocoa</td>\n",
       "      <td>5150 Chocolate Co.</td>\n",
       "      <td>Delray Beach</td>\n",
       "      <td>Florida</td>\n",
       "      <td>4.0</td>\n",
       "    </tr>\n",
       "    <tr>\n",
       "      <th>3</th>\n",
       "      <td>2542</td>\n",
       "      <td>2021</td>\n",
       "      <td>Fiji</td>\n",
       "      <td>Matasawalevu, batch 1</td>\n",
       "      <td>0.68</td>\n",
       "      <td>3- B,S,C</td>\n",
       "      <td></td>\n",
       "      <td>5150 Chocolate Co.</td>\n",
       "      <td>Delray Beach</td>\n",
       "      <td>Florida</td>\n",
       "      <td>3.5</td>\n",
       "    </tr>\n",
       "    <tr>\n",
       "      <th>4</th>\n",
       "      <td>2542</td>\n",
       "      <td>2021</td>\n",
       "      <td>India</td>\n",
       "      <td>Anamalai, batch 1</td>\n",
       "      <td>0.68</td>\n",
       "      <td>3- B,S,C</td>\n",
       "      <td></td>\n",
       "      <td>5150 Chocolate Co.</td>\n",
       "      <td>Delray Beach</td>\n",
       "      <td>Florida</td>\n",
       "      <td>4.0</td>\n",
       "    </tr>\n",
       "  </tbody>\n",
       "</table>\n",
       "</div>"
      ],
      "text/plain": [
       "    REF  Review Date Country of Bean Origin Specific Bean Origin or Bar Name  \\\n",
       "0  2454         2019               Tanzania            Kokoa Kamili, batch 1   \n",
       "1  2454         2019             Madagascar           Bejofo Estate, batch 1   \n",
       "2  2458         2019     Dominican Republic                  Zorzal, batch 1   \n",
       "3  2542         2021                   Fiji            Matasawalevu, batch 1   \n",
       "4  2542         2021                  India                Anamalai, batch 1   \n",
       "\n",
       "   Cocoa Percent Ingredients Most Memorable Characteristics  \\\n",
       "0           0.76    3- B,S,C               rich cocoa,fatty   \n",
       "1           0.76    3- B,S,C                          cocoa   \n",
       "2           0.76    3- B,S,C                          cocoa   \n",
       "3           0.68    3- B,S,C                                  \n",
       "4           0.68    3- B,S,C                                  \n",
       "\n",
       "              company          CITY    STATE  rating  \n",
       "0  5150 Chocolate Co.  Delray Beach  Florida     3.5  \n",
       "1  5150 Chocolate Co.  Delray Beach  Florida     4.0  \n",
       "2  5150 Chocolate Co.  Delray Beach  Florida     4.0  \n",
       "3  5150 Chocolate Co.  Delray Beach  Florida     3.5  \n",
       "4  5150 Chocolate Co.  Delray Beach  Florida     4.0  "
      ]
     },
     "execution_count": 42,
     "metadata": {},
     "output_type": "execute_result"
    }
   ],
   "source": [
    "chocolate_usa.drop(['Company (Manufacturer)', 'Company Location', 'matches', 'COMPANY NAME', 'OWNER/MAKER'], axis = 1, inplace = True)\n",
    "chocolate_usa.head()"
   ]
  },
  {
   "cell_type": "markdown",
   "id": "adfd0cc3-7be6-4f27-99ff-41826cf763e1",
   "metadata": {},
   "source": [
    "### Step 4: Check for empty rows"
   ]
  },
  {
   "cell_type": "code",
   "execution_count": 43,
   "id": "6b59f319-d1e6-45bd-affb-c4d3a0da79a7",
   "metadata": {},
   "outputs": [
    {
     "name": "stdout",
     "output_type": "stream",
     "text": [
      "REF                                  0\n",
      "Review Date                          0\n",
      "Country of Bean Origin               0\n",
      "Specific Bean Origin or Bar Name     0\n",
      "Cocoa Percent                        0\n",
      "Ingredients                         18\n",
      "Most Memorable Characteristics       0\n",
      "company                              0\n",
      "CITY                                 0\n",
      "STATE                                0\n",
      "rating                               0\n",
      "dtype: int64\n"
     ]
    }
   ],
   "source": [
    "#look for missing data in the training and test sets\n",
    "print(chocolate_usa.isna().sum())"
   ]
  },
  {
   "cell_type": "code",
   "execution_count": 44,
   "id": "695acd61-1da7-495d-a0a5-03b3e592ecfb",
   "metadata": {},
   "outputs": [],
   "source": [
    "# Since you can't make up ingredients, I will drop the 13/5 rows with empty ingredients\n",
    "chocolate_usa.dropna(inplace = True)"
   ]
  },
  {
   "cell_type": "code",
   "execution_count": 45,
   "id": "f46b666d-ccef-424f-b564-1e9b3a2c5c6f",
   "metadata": {},
   "outputs": [
    {
     "name": "stdout",
     "output_type": "stream",
     "text": [
      "REF                                 0\n",
      "Review Date                         0\n",
      "Country of Bean Origin              0\n",
      "Specific Bean Origin or Bar Name    0\n",
      "Cocoa Percent                       0\n",
      "Ingredients                         0\n",
      "Most Memorable Characteristics      0\n",
      "company                             0\n",
      "CITY                                0\n",
      "STATE                               0\n",
      "rating                              0\n",
      "dtype: int64\n"
     ]
    }
   ],
   "source": [
    "#look for missing data in the training and test sets\n",
    "print(chocolate_usa.isna().sum())"
   ]
  },
  {
   "cell_type": "markdown",
   "id": "13dc749c-8952-4998-8072-14a9e04f6d70",
   "metadata": {},
   "source": [
    "### Step 5: Rename columns"
   ]
  },
  {
   "cell_type": "markdown",
   "id": "7c6579eb-85f8-4a16-bfe5-15a9f5c323fa",
   "metadata": {},
   "source": [
    "Rename column names for ease of use and consistency"
   ]
  },
  {
   "cell_type": "code",
   "execution_count": 46,
   "id": "27274407-2f49-4401-aaf5-4aaa3a8d51b5",
   "metadata": {},
   "outputs": [],
   "source": [
    "# Rename column names\n",
    "header_names = {'Review Date': 'review_year',\n",
    "                'Country of Bean Origin': 'bean_origin',\n",
    "                'Specific Bean Origin or Bar Name': 'specific_bean_origin',\n",
    "                'Cocoa Percent': 'cocoa_percent',\n",
    "                'Ingredients': 'ingredients',\n",
    "                'Most Memorable Characteristics': 'characteristics',\n",
    "                'CITY': 'city',\n",
    "                'STATE': 'state'\n",
    "               }\n",
    "\n",
    "chocolate_usa.rename(columns = header_names, inplace = True)"
   ]
  },
  {
   "cell_type": "code",
   "execution_count": 47,
   "id": "8a5c20d0-36e3-4e41-af14-b21050165ba2",
   "metadata": {},
   "outputs": [
    {
     "name": "stdout",
     "output_type": "stream",
     "text": [
      "Index(['REF', 'review_year', 'bean_origin', 'specific_bean_origin',\n",
      "       'cocoa_percent', 'ingredients', 'characteristics', 'company', 'city',\n",
      "       'state', 'rating'],\n",
      "      dtype='object')\n"
     ]
    }
   ],
   "source": [
    "# Check columns in datasets\n",
    "print(chocolate_usa.columns)"
   ]
  },
  {
   "cell_type": "markdown",
   "id": "af69d6ab-3d9b-4dbb-9829-07f62e04cfc6",
   "metadata": {},
   "source": [
    "### Step 6: Create Dummy variables"
   ]
  },
  {
   "cell_type": "code",
   "execution_count": 48,
   "id": "595edd60-4578-4bd3-b221-2b8fa2c63211",
   "metadata": {},
   "outputs": [
    {
     "name": "stdout",
     "output_type": "stream",
     "text": [
      "(1150, 11)\n"
     ]
    }
   ],
   "source": [
    "print(chocolate_usa.shape)"
   ]
  },
  {
   "cell_type": "code",
   "execution_count": 49,
   "id": "1154f69d-fa4e-429f-a343-905f3a88bf96",
   "metadata": {},
   "outputs": [],
   "source": [
    "# Select categorical columns except characteristics\n",
    "categorical_columns = chocolate_usa.select_dtypes('object').columns.difference(['characteristics'])"
   ]
  },
  {
   "cell_type": "code",
   "execution_count": 50,
   "id": "a7a629d5-b1ed-438f-822c-339554ad0593",
   "metadata": {},
   "outputs": [],
   "source": [
    "# Create dummy variables, drop first one to prevent collinearity between to dummy variables\n",
    "chocolate_usa = pd.get_dummies(chocolate_usa, columns = categorical_columns, drop_first = True)"
   ]
  },
  {
   "cell_type": "code",
   "execution_count": 51,
   "id": "c4fb43ad-5508-49ad-9198-a218fb8e575b",
   "metadata": {},
   "outputs": [
    {
     "name": "stdout",
     "output_type": "stream",
     "text": [
      "(1150, 1262)\n"
     ]
    }
   ],
   "source": [
    "# Get shape of features datasets\n",
    "print(chocolate_usa.shape)"
   ]
  },
  {
   "cell_type": "code",
   "execution_count": 52,
   "id": "0084bd6b-4b76-415b-9162-25061c667c4b",
   "metadata": {},
   "outputs": [],
   "source": [
    "# convert characteristics into dummy variables\n",
    "chocolate_usa = pd.concat([chocolate_usa, chocolate_usa['characteristics'].str.get_dummies(sep=',')], axis = 1)\n",
    "\n",
    "# Drop characteristics column\n",
    "chocolate_usa.drop('characteristics', axis = 1, inplace = True)"
   ]
  },
  {
   "cell_type": "code",
   "execution_count": 53,
   "id": "e6d32c76-6a94-433d-b8b8-b211009ab81f",
   "metadata": {},
   "outputs": [
    {
     "name": "stdout",
     "output_type": "stream",
     "text": [
      "(1150, 1296)\n"
     ]
    }
   ],
   "source": [
    "print(chocolate_usa.shape)"
   ]
  },
  {
   "cell_type": "code",
   "execution_count": 54,
   "id": "7afb96fb-b5bd-4157-8ace-23b2d8ad9ec1",
   "metadata": {},
   "outputs": [],
   "source": [
    "# Drop REF column\n",
    "chocolate_usa.drop('REF', axis = 1, inplace = True)"
   ]
  },
  {
   "cell_type": "markdown",
   "id": "da6dbdeb-358f-45d0-a2d2-16d02203d3b4",
   "metadata": {},
   "source": [
    "### Step 7: Final Training dataset"
   ]
  },
  {
   "cell_type": "code",
   "execution_count": 55,
   "id": "3a577251-4a1f-447b-a345-8c3efa96180d",
   "metadata": {},
   "outputs": [
    {
     "data": {
      "text/html": [
       "<div>\n",
       "<style scoped>\n",
       "    .dataframe tbody tr th:only-of-type {\n",
       "        vertical-align: middle;\n",
       "    }\n",
       "\n",
       "    .dataframe tbody tr th {\n",
       "        vertical-align: top;\n",
       "    }\n",
       "\n",
       "    .dataframe thead th {\n",
       "        text-align: right;\n",
       "    }\n",
       "</style>\n",
       "<table border=\"1\" class=\"dataframe\">\n",
       "  <thead>\n",
       "    <tr style=\"text-align: right;\">\n",
       "      <th></th>\n",
       "      <th>review_year</th>\n",
       "      <th>cocoa_percent</th>\n",
       "      <th>rating</th>\n",
       "      <th>bean_origin_Blend</th>\n",
       "      <th>bean_origin_Bolivia</th>\n",
       "      <th>bean_origin_Brazil</th>\n",
       "      <th>bean_origin_Cameroon</th>\n",
       "      <th>bean_origin_Colombia</th>\n",
       "      <th>bean_origin_Congo</th>\n",
       "      <th>bean_origin_Costa Rica</th>\n",
       "      <th>...</th>\n",
       "      <th>roasty</th>\n",
       "      <th>sandy</th>\n",
       "      <th>sour</th>\n",
       "      <th>spice</th>\n",
       "      <th>spicy</th>\n",
       "      <th>sticky</th>\n",
       "      <th>sweet</th>\n",
       "      <th>tart</th>\n",
       "      <th>vanilla</th>\n",
       "      <th>woody</th>\n",
       "    </tr>\n",
       "  </thead>\n",
       "  <tbody>\n",
       "    <tr>\n",
       "      <th>0</th>\n",
       "      <td>2019</td>\n",
       "      <td>0.76</td>\n",
       "      <td>3.5</td>\n",
       "      <td>0</td>\n",
       "      <td>0</td>\n",
       "      <td>0</td>\n",
       "      <td>0</td>\n",
       "      <td>0</td>\n",
       "      <td>0</td>\n",
       "      <td>0</td>\n",
       "      <td>...</td>\n",
       "      <td>0</td>\n",
       "      <td>0</td>\n",
       "      <td>0</td>\n",
       "      <td>0</td>\n",
       "      <td>0</td>\n",
       "      <td>0</td>\n",
       "      <td>0</td>\n",
       "      <td>0</td>\n",
       "      <td>0</td>\n",
       "      <td>0</td>\n",
       "    </tr>\n",
       "    <tr>\n",
       "      <th>1</th>\n",
       "      <td>2019</td>\n",
       "      <td>0.76</td>\n",
       "      <td>4.0</td>\n",
       "      <td>0</td>\n",
       "      <td>0</td>\n",
       "      <td>0</td>\n",
       "      <td>0</td>\n",
       "      <td>0</td>\n",
       "      <td>0</td>\n",
       "      <td>0</td>\n",
       "      <td>...</td>\n",
       "      <td>0</td>\n",
       "      <td>0</td>\n",
       "      <td>0</td>\n",
       "      <td>0</td>\n",
       "      <td>0</td>\n",
       "      <td>0</td>\n",
       "      <td>0</td>\n",
       "      <td>0</td>\n",
       "      <td>0</td>\n",
       "      <td>0</td>\n",
       "    </tr>\n",
       "    <tr>\n",
       "      <th>2</th>\n",
       "      <td>2019</td>\n",
       "      <td>0.76</td>\n",
       "      <td>4.0</td>\n",
       "      <td>0</td>\n",
       "      <td>0</td>\n",
       "      <td>0</td>\n",
       "      <td>0</td>\n",
       "      <td>0</td>\n",
       "      <td>0</td>\n",
       "      <td>0</td>\n",
       "      <td>...</td>\n",
       "      <td>0</td>\n",
       "      <td>0</td>\n",
       "      <td>0</td>\n",
       "      <td>0</td>\n",
       "      <td>0</td>\n",
       "      <td>0</td>\n",
       "      <td>0</td>\n",
       "      <td>0</td>\n",
       "      <td>0</td>\n",
       "      <td>0</td>\n",
       "    </tr>\n",
       "    <tr>\n",
       "      <th>3</th>\n",
       "      <td>2021</td>\n",
       "      <td>0.68</td>\n",
       "      <td>3.5</td>\n",
       "      <td>0</td>\n",
       "      <td>0</td>\n",
       "      <td>0</td>\n",
       "      <td>0</td>\n",
       "      <td>0</td>\n",
       "      <td>0</td>\n",
       "      <td>0</td>\n",
       "      <td>...</td>\n",
       "      <td>0</td>\n",
       "      <td>0</td>\n",
       "      <td>0</td>\n",
       "      <td>0</td>\n",
       "      <td>0</td>\n",
       "      <td>0</td>\n",
       "      <td>0</td>\n",
       "      <td>0</td>\n",
       "      <td>0</td>\n",
       "      <td>0</td>\n",
       "    </tr>\n",
       "    <tr>\n",
       "      <th>4</th>\n",
       "      <td>2021</td>\n",
       "      <td>0.68</td>\n",
       "      <td>4.0</td>\n",
       "      <td>0</td>\n",
       "      <td>0</td>\n",
       "      <td>0</td>\n",
       "      <td>0</td>\n",
       "      <td>0</td>\n",
       "      <td>0</td>\n",
       "      <td>0</td>\n",
       "      <td>...</td>\n",
       "      <td>0</td>\n",
       "      <td>0</td>\n",
       "      <td>0</td>\n",
       "      <td>0</td>\n",
       "      <td>0</td>\n",
       "      <td>0</td>\n",
       "      <td>0</td>\n",
       "      <td>0</td>\n",
       "      <td>0</td>\n",
       "      <td>0</td>\n",
       "    </tr>\n",
       "  </tbody>\n",
       "</table>\n",
       "<p>5 rows × 1295 columns</p>\n",
       "</div>"
      ],
      "text/plain": [
       "   review_year  cocoa_percent  rating  bean_origin_Blend  bean_origin_Bolivia  \\\n",
       "0         2019           0.76     3.5                  0                    0   \n",
       "1         2019           0.76     4.0                  0                    0   \n",
       "2         2019           0.76     4.0                  0                    0   \n",
       "3         2021           0.68     3.5                  0                    0   \n",
       "4         2021           0.68     4.0                  0                    0   \n",
       "\n",
       "   bean_origin_Brazil  bean_origin_Cameroon  bean_origin_Colombia  \\\n",
       "0                   0                     0                     0   \n",
       "1                   0                     0                     0   \n",
       "2                   0                     0                     0   \n",
       "3                   0                     0                     0   \n",
       "4                   0                     0                     0   \n",
       "\n",
       "   bean_origin_Congo  bean_origin_Costa Rica  ...  roasty  sandy  sour  spice  \\\n",
       "0                  0                       0  ...       0      0     0      0   \n",
       "1                  0                       0  ...       0      0     0      0   \n",
       "2                  0                       0  ...       0      0     0      0   \n",
       "3                  0                       0  ...       0      0     0      0   \n",
       "4                  0                       0  ...       0      0     0      0   \n",
       "\n",
       "   spicy  sticky  sweet  tart  vanilla  woody  \n",
       "0      0       0      0     0        0      0  \n",
       "1      0       0      0     0        0      0  \n",
       "2      0       0      0     0        0      0  \n",
       "3      0       0      0     0        0      0  \n",
       "4      0       0      0     0        0      0  \n",
       "\n",
       "[5 rows x 1295 columns]"
      ]
     },
     "execution_count": 55,
     "metadata": {},
     "output_type": "execute_result"
    }
   ],
   "source": [
    "chocolate_usa.head()"
   ]
  },
  {
   "cell_type": "code",
   "execution_count": 56,
   "id": "ad175ace-b836-4b1c-8dfa-9a19d494e13e",
   "metadata": {},
   "outputs": [
    {
     "data": {
      "text/html": [
       "<div>\n",
       "<style scoped>\n",
       "    .dataframe tbody tr th:only-of-type {\n",
       "        vertical-align: middle;\n",
       "    }\n",
       "\n",
       "    .dataframe tbody tr th {\n",
       "        vertical-align: top;\n",
       "    }\n",
       "\n",
       "    .dataframe thead th {\n",
       "        text-align: right;\n",
       "    }\n",
       "</style>\n",
       "<table border=\"1\" class=\"dataframe\">\n",
       "  <thead>\n",
       "    <tr style=\"text-align: right;\">\n",
       "      <th></th>\n",
       "      <th>review_year</th>\n",
       "      <th>cocoa_percent</th>\n",
       "      <th>rating</th>\n",
       "      <th>bean_origin_Blend</th>\n",
       "      <th>bean_origin_Bolivia</th>\n",
       "      <th>bean_origin_Brazil</th>\n",
       "      <th>bean_origin_Cameroon</th>\n",
       "      <th>bean_origin_Colombia</th>\n",
       "      <th>bean_origin_Congo</th>\n",
       "      <th>bean_origin_Costa Rica</th>\n",
       "      <th>...</th>\n",
       "      <th>roasty</th>\n",
       "      <th>sandy</th>\n",
       "      <th>sour</th>\n",
       "      <th>spice</th>\n",
       "      <th>spicy</th>\n",
       "      <th>sticky</th>\n",
       "      <th>sweet</th>\n",
       "      <th>tart</th>\n",
       "      <th>vanilla</th>\n",
       "      <th>woody</th>\n",
       "    </tr>\n",
       "  </thead>\n",
       "  <tbody>\n",
       "    <tr>\n",
       "      <th>count</th>\n",
       "      <td>1150.000000</td>\n",
       "      <td>1150.000000</td>\n",
       "      <td>1150.000000</td>\n",
       "      <td>1150.000000</td>\n",
       "      <td>1150.000000</td>\n",
       "      <td>1150.000000</td>\n",
       "      <td>1150.000000</td>\n",
       "      <td>1150.000000</td>\n",
       "      <td>1150.000000</td>\n",
       "      <td>1150.000000</td>\n",
       "      <td>...</td>\n",
       "      <td>1150.000000</td>\n",
       "      <td>1150.000000</td>\n",
       "      <td>1150.000000</td>\n",
       "      <td>1150.000000</td>\n",
       "      <td>1150.000000</td>\n",
       "      <td>1150.000000</td>\n",
       "      <td>1150.000000</td>\n",
       "      <td>1150.000000</td>\n",
       "      <td>1150.000000</td>\n",
       "      <td>1150.000000</td>\n",
       "    </tr>\n",
       "    <tr>\n",
       "      <th>mean</th>\n",
       "      <td>2015.309565</td>\n",
       "      <td>0.714935</td>\n",
       "      <td>3.617826</td>\n",
       "      <td>0.048696</td>\n",
       "      <td>0.046087</td>\n",
       "      <td>0.023478</td>\n",
       "      <td>0.000870</td>\n",
       "      <td>0.020000</td>\n",
       "      <td>0.001739</td>\n",
       "      <td>0.022609</td>\n",
       "      <td>...</td>\n",
       "      <td>0.089565</td>\n",
       "      <td>0.052174</td>\n",
       "      <td>0.053043</td>\n",
       "      <td>0.023478</td>\n",
       "      <td>0.051304</td>\n",
       "      <td>0.036522</td>\n",
       "      <td>0.117391</td>\n",
       "      <td>0.035652</td>\n",
       "      <td>0.040000</td>\n",
       "      <td>0.035652</td>\n",
       "    </tr>\n",
       "    <tr>\n",
       "      <th>std</th>\n",
       "      <td>3.925746</td>\n",
       "      <td>0.045468</td>\n",
       "      <td>0.464852</td>\n",
       "      <td>0.215325</td>\n",
       "      <td>0.209765</td>\n",
       "      <td>0.151483</td>\n",
       "      <td>0.029488</td>\n",
       "      <td>0.140061</td>\n",
       "      <td>0.041685</td>\n",
       "      <td>0.148717</td>\n",
       "      <td>...</td>\n",
       "      <td>0.285682</td>\n",
       "      <td>0.222474</td>\n",
       "      <td>0.224218</td>\n",
       "      <td>0.151483</td>\n",
       "      <td>0.220714</td>\n",
       "      <td>0.187666</td>\n",
       "      <td>0.322026</td>\n",
       "      <td>0.185502</td>\n",
       "      <td>0.196044</td>\n",
       "      <td>0.185502</td>\n",
       "    </tr>\n",
       "    <tr>\n",
       "      <th>min</th>\n",
       "      <td>2006.000000</td>\n",
       "      <td>0.550000</td>\n",
       "      <td>2.000000</td>\n",
       "      <td>0.000000</td>\n",
       "      <td>0.000000</td>\n",
       "      <td>0.000000</td>\n",
       "      <td>0.000000</td>\n",
       "      <td>0.000000</td>\n",
       "      <td>0.000000</td>\n",
       "      <td>0.000000</td>\n",
       "      <td>...</td>\n",
       "      <td>0.000000</td>\n",
       "      <td>0.000000</td>\n",
       "      <td>0.000000</td>\n",
       "      <td>0.000000</td>\n",
       "      <td>0.000000</td>\n",
       "      <td>0.000000</td>\n",
       "      <td>0.000000</td>\n",
       "      <td>0.000000</td>\n",
       "      <td>0.000000</td>\n",
       "      <td>0.000000</td>\n",
       "    </tr>\n",
       "    <tr>\n",
       "      <th>25%</th>\n",
       "      <td>2013.000000</td>\n",
       "      <td>0.700000</td>\n",
       "      <td>3.500000</td>\n",
       "      <td>0.000000</td>\n",
       "      <td>0.000000</td>\n",
       "      <td>0.000000</td>\n",
       "      <td>0.000000</td>\n",
       "      <td>0.000000</td>\n",
       "      <td>0.000000</td>\n",
       "      <td>0.000000</td>\n",
       "      <td>...</td>\n",
       "      <td>0.000000</td>\n",
       "      <td>0.000000</td>\n",
       "      <td>0.000000</td>\n",
       "      <td>0.000000</td>\n",
       "      <td>0.000000</td>\n",
       "      <td>0.000000</td>\n",
       "      <td>0.000000</td>\n",
       "      <td>0.000000</td>\n",
       "      <td>0.000000</td>\n",
       "      <td>0.000000</td>\n",
       "    </tr>\n",
       "    <tr>\n",
       "      <th>50%</th>\n",
       "      <td>2015.000000</td>\n",
       "      <td>0.700000</td>\n",
       "      <td>3.500000</td>\n",
       "      <td>0.000000</td>\n",
       "      <td>0.000000</td>\n",
       "      <td>0.000000</td>\n",
       "      <td>0.000000</td>\n",
       "      <td>0.000000</td>\n",
       "      <td>0.000000</td>\n",
       "      <td>0.000000</td>\n",
       "      <td>...</td>\n",
       "      <td>0.000000</td>\n",
       "      <td>0.000000</td>\n",
       "      <td>0.000000</td>\n",
       "      <td>0.000000</td>\n",
       "      <td>0.000000</td>\n",
       "      <td>0.000000</td>\n",
       "      <td>0.000000</td>\n",
       "      <td>0.000000</td>\n",
       "      <td>0.000000</td>\n",
       "      <td>0.000000</td>\n",
       "    </tr>\n",
       "    <tr>\n",
       "      <th>75%</th>\n",
       "      <td>2019.000000</td>\n",
       "      <td>0.740000</td>\n",
       "      <td>4.000000</td>\n",
       "      <td>0.000000</td>\n",
       "      <td>0.000000</td>\n",
       "      <td>0.000000</td>\n",
       "      <td>0.000000</td>\n",
       "      <td>0.000000</td>\n",
       "      <td>0.000000</td>\n",
       "      <td>0.000000</td>\n",
       "      <td>...</td>\n",
       "      <td>0.000000</td>\n",
       "      <td>0.000000</td>\n",
       "      <td>0.000000</td>\n",
       "      <td>0.000000</td>\n",
       "      <td>0.000000</td>\n",
       "      <td>0.000000</td>\n",
       "      <td>0.000000</td>\n",
       "      <td>0.000000</td>\n",
       "      <td>0.000000</td>\n",
       "      <td>0.000000</td>\n",
       "    </tr>\n",
       "    <tr>\n",
       "      <th>max</th>\n",
       "      <td>2022.000000</td>\n",
       "      <td>1.000000</td>\n",
       "      <td>5.000000</td>\n",
       "      <td>1.000000</td>\n",
       "      <td>1.000000</td>\n",
       "      <td>1.000000</td>\n",
       "      <td>1.000000</td>\n",
       "      <td>1.000000</td>\n",
       "      <td>1.000000</td>\n",
       "      <td>1.000000</td>\n",
       "      <td>...</td>\n",
       "      <td>1.000000</td>\n",
       "      <td>1.000000</td>\n",
       "      <td>1.000000</td>\n",
       "      <td>1.000000</td>\n",
       "      <td>1.000000</td>\n",
       "      <td>1.000000</td>\n",
       "      <td>1.000000</td>\n",
       "      <td>1.000000</td>\n",
       "      <td>1.000000</td>\n",
       "      <td>1.000000</td>\n",
       "    </tr>\n",
       "  </tbody>\n",
       "</table>\n",
       "<p>8 rows × 1295 columns</p>\n",
       "</div>"
      ],
      "text/plain": [
       "       review_year  cocoa_percent       rating  bean_origin_Blend  \\\n",
       "count  1150.000000    1150.000000  1150.000000        1150.000000   \n",
       "mean   2015.309565       0.714935     3.617826           0.048696   \n",
       "std       3.925746       0.045468     0.464852           0.215325   \n",
       "min    2006.000000       0.550000     2.000000           0.000000   \n",
       "25%    2013.000000       0.700000     3.500000           0.000000   \n",
       "50%    2015.000000       0.700000     3.500000           0.000000   \n",
       "75%    2019.000000       0.740000     4.000000           0.000000   \n",
       "max    2022.000000       1.000000     5.000000           1.000000   \n",
       "\n",
       "       bean_origin_Bolivia  bean_origin_Brazil  bean_origin_Cameroon  \\\n",
       "count          1150.000000         1150.000000           1150.000000   \n",
       "mean              0.046087            0.023478              0.000870   \n",
       "std               0.209765            0.151483              0.029488   \n",
       "min               0.000000            0.000000              0.000000   \n",
       "25%               0.000000            0.000000              0.000000   \n",
       "50%               0.000000            0.000000              0.000000   \n",
       "75%               0.000000            0.000000              0.000000   \n",
       "max               1.000000            1.000000              1.000000   \n",
       "\n",
       "       bean_origin_Colombia  bean_origin_Congo  bean_origin_Costa Rica  ...  \\\n",
       "count           1150.000000        1150.000000             1150.000000  ...   \n",
       "mean               0.020000           0.001739                0.022609  ...   \n",
       "std                0.140061           0.041685                0.148717  ...   \n",
       "min                0.000000           0.000000                0.000000  ...   \n",
       "25%                0.000000           0.000000                0.000000  ...   \n",
       "50%                0.000000           0.000000                0.000000  ...   \n",
       "75%                0.000000           0.000000                0.000000  ...   \n",
       "max                1.000000           1.000000                1.000000  ...   \n",
       "\n",
       "            roasty        sandy         sour        spice        spicy  \\\n",
       "count  1150.000000  1150.000000  1150.000000  1150.000000  1150.000000   \n",
       "mean      0.089565     0.052174     0.053043     0.023478     0.051304   \n",
       "std       0.285682     0.222474     0.224218     0.151483     0.220714   \n",
       "min       0.000000     0.000000     0.000000     0.000000     0.000000   \n",
       "25%       0.000000     0.000000     0.000000     0.000000     0.000000   \n",
       "50%       0.000000     0.000000     0.000000     0.000000     0.000000   \n",
       "75%       0.000000     0.000000     0.000000     0.000000     0.000000   \n",
       "max       1.000000     1.000000     1.000000     1.000000     1.000000   \n",
       "\n",
       "            sticky        sweet         tart      vanilla        woody  \n",
       "count  1150.000000  1150.000000  1150.000000  1150.000000  1150.000000  \n",
       "mean      0.036522     0.117391     0.035652     0.040000     0.035652  \n",
       "std       0.187666     0.322026     0.185502     0.196044     0.185502  \n",
       "min       0.000000     0.000000     0.000000     0.000000     0.000000  \n",
       "25%       0.000000     0.000000     0.000000     0.000000     0.000000  \n",
       "50%       0.000000     0.000000     0.000000     0.000000     0.000000  \n",
       "75%       0.000000     0.000000     0.000000     0.000000     0.000000  \n",
       "max       1.000000     1.000000     1.000000     1.000000     1.000000  \n",
       "\n",
       "[8 rows x 1295 columns]"
      ]
     },
     "execution_count": 56,
     "metadata": {},
     "output_type": "execute_result"
    }
   ],
   "source": [
    "chocolate_usa.describe()"
   ]
  },
  {
   "cell_type": "code",
   "execution_count": 57,
   "id": "bd956795-3d55-4119-9ca2-32061f8f23b0",
   "metadata": {},
   "outputs": [
    {
     "name": "stdout",
     "output_type": "stream",
     "text": [
      "(1150, 1295)\n"
     ]
    }
   ],
   "source": [
    "print(chocolate_usa.shape)"
   ]
  },
  {
   "cell_type": "markdown",
   "id": "accaf71d-2dc5-4411-8f1a-3ed656c82199",
   "metadata": {},
   "source": [
    "### Step 8: Create Training/Test Datasets"
   ]
  },
  {
   "cell_type": "code",
   "execution_count": 58,
   "id": "baf8858d-4085-4e50-8d3b-dc646c67012a",
   "metadata": {},
   "outputs": [],
   "source": [
    "# Pull out features and target for splitting\n",
    "features = chocolate_usa.loc[:, chocolate_usa.columns != 'rating']\n",
    "target = chocolate_usa['rating']\n",
    "\n",
    "# encode target variable\n",
    "lab = preprocessing.LabelEncoder()\n",
    "target = lab.fit_transform(target)"
   ]
  },
  {
   "cell_type": "code",
   "execution_count": 59,
   "id": "726d165e-c5b9-481a-a967-8fb6a33dfd9e",
   "metadata": {},
   "outputs": [],
   "source": [
    "# Split data into training and test data\n",
    "features_train, features_test, target_train, target_test = train_test_split(features, target, test_size = 0.2, random_state = 15)"
   ]
  },
  {
   "cell_type": "code",
   "execution_count": 60,
   "id": "c7f38949-b562-4635-af2c-c8c7cc6ce14c",
   "metadata": {},
   "outputs": [],
   "source": [
    "# Reset index\n",
    "features_train = features_train.reset_index(drop = True)\n",
    "features_test = features_test.reset_index(drop = True)"
   ]
  },
  {
   "cell_type": "code",
   "execution_count": 61,
   "id": "11edc7f0-ab58-47f8-b54b-b7c5cd99e83d",
   "metadata": {},
   "outputs": [
    {
     "name": "stdout",
     "output_type": "stream",
     "text": [
      "features_train: (920, 1294)\n",
      "features_test: (230, 1294)\n",
      "target_train: (920,)\n",
      "target_test: (230,)\n"
     ]
    }
   ],
   "source": [
    "print(f\"features_train: {features_train.shape}\")\n",
    "print(f\"features_test: {features_test.shape}\")\n",
    "print(f\"target_train: {target_train.shape}\")\n",
    "print(f\"target_test: {target_test.shape}\")"
   ]
  },
  {
   "cell_type": "markdown",
   "id": "b9fb4f13-2210-414f-8fa9-61993b7dd2c9",
   "metadata": {},
   "source": [
    "### Summary of Data Preparation Steps\n",
    "* Dropped unnecessary features\n",
    "* Converted Ratings to the standard rating scale\n",
    "* Pulled out top 20 characteristics\n",
    "* Created dummy variables\n",
    "* Split data into training and test data"
   ]
  },
  {
   "cell_type": "markdown",
   "id": "beea5e3a-f681-44be-af26-279e06320b5b",
   "metadata": {},
   "source": [
    "## Milestone 3: Model Building and Evaluation"
   ]
  },
  {
   "cell_type": "code",
   "execution_count": 62,
   "id": "799ab555-49c5-41d2-99a2-e26616cac4a8",
   "metadata": {},
   "outputs": [],
   "source": [
    "# Import libraries\n",
    "import numpy as np\n",
    "from sklearn import preprocessing\n",
    "from sklearn.pipeline import Pipeline, FeatureUnion \n",
    "from sklearn.model_selection import GridSearchCV\n",
    "from sklearn.linear_model import LogisticRegression\n",
    "from sklearn.ensemble import RandomForestClassifier\n",
    "from sklearn.decomposition import PCA\n",
    "from sklearn.metrics import confusion_matrix, accuracy_score, classification_report"
   ]
  },
  {
   "cell_type": "markdown",
   "id": "0187267f-d930-4e14-8064-c8bd156c69c4",
   "metadata": {},
   "source": [
    "### Step 1: Determine the best model"
   ]
  },
  {
   "cell_type": "code",
   "execution_count": 63,
   "id": "be662372-525c-42b2-ae63-8c9668deb845",
   "metadata": {},
   "outputs": [],
   "source": [
    "# Create a pipeline\n",
    "pipe = Pipeline([\n",
    "    ('scale', preprocessing.StandardScaler()),\n",
    "    ('classifier', RandomForestClassifier())\n",
    "])"
   ]
  },
  {
   "cell_type": "code",
   "execution_count": 64,
   "id": "9a5d513a-bdc5-4d25-a964-3fe225f3ebc6",
   "metadata": {},
   "outputs": [
    {
     "data": {
      "text/plain": [
       "Pipeline(steps=[('scale', StandardScaler()),\n",
       "                ('classifier', RandomForestClassifier())])"
      ]
     },
     "execution_count": 64,
     "metadata": {},
     "output_type": "execute_result"
    }
   ],
   "source": [
    "# Fit the training data\n",
    "pipe.fit(features_train, target_train)"
   ]
  },
  {
   "cell_type": "code",
   "execution_count": 65,
   "id": "f14e21d6-2169-4b04-8193-26fe82aaf2d7",
   "metadata": {},
   "outputs": [
    {
     "data": {
      "text/plain": [
       "0.5173913043478261"
      ]
     },
     "execution_count": 65,
     "metadata": {},
     "output_type": "execute_result"
    }
   ],
   "source": [
    "# Get accuracy of test data\n",
    "pipe.score(features_test, target_test)"
   ]
  },
  {
   "cell_type": "code",
   "execution_count": 66,
   "id": "aa882140-ecfe-419d-b259-584a4e817537",
   "metadata": {},
   "outputs": [],
   "source": [
    "# Create dictionary with candidate learning algorithms and their hyperparameters\n",
    "search_space = [{'classifier': [RandomForestClassifier()],\n",
    "                 'classifier__n_estimators': [10, 100, 1000],\n",
    "                 'classifier__max_features': [5, 10, 20]},\n",
    "                {'classifier': [LogisticRegression(multi_class = 'ovr', max_iter=1000)],\n",
    "                 'classifier__penalty': ['l1', 'l2'],\n",
    "                 'classifier__C': np.logspace(0, 4, 10)}]"
   ]
  },
  {
   "cell_type": "code",
   "execution_count": 67,
   "id": "c66ffc93-468b-461f-a51c-b2adca767605",
   "metadata": {},
   "outputs": [
    {
     "name": "stderr",
     "output_type": "stream",
     "text": [
      "C:\\Users\\Osgiliath\\anaconda3\\lib\\site-packages\\sklearn\\model_selection\\_split.py:676: UserWarning: The least populated class in y has only 1 members, which is less than n_splits=5.\n",
      "  warnings.warn(\n",
      "C:\\Users\\Osgiliath\\anaconda3\\lib\\site-packages\\sklearn\\model_selection\\_validation.py:372: FitFailedWarning: \n",
      "50 fits failed out of a total of 145.\n",
      "The score on these train-test partitions for these parameters will be set to nan.\n",
      "If these failures are not expected, you can try to debug them by setting error_score='raise'.\n",
      "\n",
      "Below are more details about the failures:\n",
      "--------------------------------------------------------------------------------\n",
      "50 fits failed with the following error:\n",
      "Traceback (most recent call last):\n",
      "  File \"C:\\Users\\Osgiliath\\anaconda3\\lib\\site-packages\\sklearn\\model_selection\\_validation.py\", line 680, in _fit_and_score\n",
      "    estimator.fit(X_train, y_train, **fit_params)\n",
      "  File \"C:\\Users\\Osgiliath\\anaconda3\\lib\\site-packages\\sklearn\\pipeline.py\", line 394, in fit\n",
      "    self._final_estimator.fit(Xt, y, **fit_params_last_step)\n",
      "  File \"C:\\Users\\Osgiliath\\anaconda3\\lib\\site-packages\\sklearn\\linear_model\\_logistic.py\", line 1461, in fit\n",
      "    solver = _check_solver(self.solver, self.penalty, self.dual)\n",
      "  File \"C:\\Users\\Osgiliath\\anaconda3\\lib\\site-packages\\sklearn\\linear_model\\_logistic.py\", line 447, in _check_solver\n",
      "    raise ValueError(\n",
      "ValueError: Solver lbfgs supports only 'l2' or 'none' penalties, got l1 penalty.\n",
      "\n",
      "  warnings.warn(some_fits_failed_message, FitFailedWarning)\n",
      "C:\\Users\\Osgiliath\\anaconda3\\lib\\site-packages\\sklearn\\model_selection\\_search.py:969: UserWarning: One or more of the test scores are non-finite: [0.42717391 0.44456522 0.46304348 0.4326087  0.47608696 0.46304348\n",
      " 0.45       0.45978261 0.47826087        nan 0.40652174        nan\n",
      " 0.40652174        nan 0.39891304        nan 0.40543478        nan\n",
      " 0.4               nan 0.40217391        nan 0.40869565        nan\n",
      " 0.40869565        nan 0.4076087         nan 0.40978261]\n",
      "  warnings.warn(\n"
     ]
    }
   ],
   "source": [
    "gridsearch = GridSearchCV(pipe, search_space, cv = 5, verbose = 0).fit(features_train, target_train)"
   ]
  },
  {
   "cell_type": "code",
   "execution_count": 68,
   "id": "0ccbfa22-9597-4192-bb1b-bd8ee8608086",
   "metadata": {},
   "outputs": [
    {
     "data": {
      "text/plain": [
       "{'classifier': RandomForestClassifier(max_features=20, n_estimators=1000),\n",
       " 'classifier__max_features': 20,\n",
       " 'classifier__n_estimators': 1000}"
      ]
     },
     "execution_count": 68,
     "metadata": {},
     "output_type": "execute_result"
    }
   ],
   "source": [
    "gridsearch.best_params_"
   ]
  },
  {
   "cell_type": "code",
   "execution_count": 69,
   "id": "30573127-903a-4a1f-a9da-56c405f3d158",
   "metadata": {},
   "outputs": [
    {
     "data": {
      "text/plain": [
       "0.5347826086956522"
      ]
     },
     "execution_count": 69,
     "metadata": {},
     "output_type": "execute_result"
    }
   ],
   "source": [
    "score = gridsearch.score(features_test, target_test)\n",
    "score"
   ]
  },
  {
   "cell_type": "code",
   "execution_count": 70,
   "id": "e61f1d0a-0181-4d1e-aa26-aff95c4f9757",
   "metadata": {},
   "outputs": [],
   "source": [
    "features_predict = gridsearch.best_estimator_.predict(features_test)"
   ]
  },
  {
   "cell_type": "code",
   "execution_count": 71,
   "id": "5117cfed-be91-4b0f-98f3-d3647f32e443",
   "metadata": {},
   "outputs": [],
   "source": [
    "cm = confusion_matrix(target_test, features_predict)"
   ]
  },
  {
   "cell_type": "code",
   "execution_count": 78,
   "id": "b27ba106-abea-494f-9312-559881e23690",
   "metadata": {},
   "outputs": [
    {
     "name": "stdout",
     "output_type": "stream",
     "text": [
      "[<class 'numpy.float64'>, <class 'numpy.float64'>, <class 'numpy.float64'>, <class 'numpy.float64'>, <class 'numpy.float64'>]\n"
     ]
    }
   ],
   "source": [
    "class_names = lab.classes_"
   ]
  },
  {
   "cell_type": "code",
   "execution_count": 73,
   "id": "c0ad2989-f2bb-4c23-8869-b1d61b6c9816",
   "metadata": {},
   "outputs": [],
   "source": [
    "def plot_confusion_matrix(cm,\n",
    "                          target_names,\n",
    "                          title='Confusion matrix',\n",
    "                          cmap=None,\n",
    "                          normalize=True):\n",
    "    \"\"\"\n",
    "    given a sklearn confusion matrix (cm), make a nice plot\n",
    "\n",
    "    Arguments\n",
    "    ---------\n",
    "    cm:           confusion matrix from sklearn.metrics.confusion_matrix\n",
    "\n",
    "    target_names: given classification classes such as [0, 1, 2]\n",
    "                  the class names, for example: ['high', 'medium', 'low']\n",
    "\n",
    "    title:        the text to display at the top of the matrix\n",
    "\n",
    "    cmap:         the gradient of the values displayed from matplotlib.pyplot.cm\n",
    "                  see http://matplotlib.org/examples/color/colormaps_reference.html\n",
    "                  plt.get_cmap('jet') or plt.cm.Blues\n",
    "\n",
    "    normalize:    If False, plot the raw numbers\n",
    "                  If True, plot the proportions\n",
    "\n",
    "    Usage\n",
    "    -----\n",
    "    plot_confusion_matrix(cm           = cm,                  # confusion matrix created by\n",
    "                                                              # sklearn.metrics.confusion_matrix\n",
    "                          normalize    = True,                # show proportions\n",
    "                          target_names = y_labels_vals,       # list of names of the classes\n",
    "                          title        = best_estimator_name) # title of graph\n",
    "\n",
    "    Citiation\n",
    "    ---------\n",
    "    http://scikit-learn.org/stable/auto_examples/model_selection/plot_confusion_matrix.html\n",
    "\n",
    "    \"\"\"\n",
    "    import matplotlib.pyplot as plt\n",
    "    import numpy as np\n",
    "    import itertools\n",
    "\n",
    "    accuracy = np.trace(cm) / float(np.sum(cm))\n",
    "    misclass = 1 - accuracy\n",
    "\n",
    "    if cmap is None:\n",
    "        cmap = plt.get_cmap('Blues')\n",
    "\n",
    "    plt.figure(figsize=(8, 6))\n",
    "    plt.imshow(cm, interpolation='nearest', cmap=cmap)\n",
    "    plt.title(title)\n",
    "    plt.grid(False)\n",
    "    plt.colorbar()\n",
    "\n",
    "    if target_names is not None:\n",
    "        tick_marks = np.arange(len(target_names))\n",
    "        plt.xticks(tick_marks, target_names, rotation=45)\n",
    "        plt.yticks(tick_marks, target_names)\n",
    "\n",
    "    if normalize:\n",
    "        cm = cm.astype('float') / cm.sum(axis=1)[:, np.newaxis]\n",
    "\n",
    "\n",
    "    thresh = cm.max() / 1.5 if normalize else cm.max() / 2\n",
    "    for i, j in itertools.product(range(cm.shape[0]), range(cm.shape[1])):\n",
    "        if normalize:\n",
    "            plt.text(j, i, \"{:0.4f}\".format(cm[i, j]),\n",
    "                     horizontalalignment=\"center\",\n",
    "                     color=\"white\" if cm[i, j] > thresh else \"black\")\n",
    "        else:\n",
    "            plt.text(j, i, \"{:,}\".format(cm[i, j]),\n",
    "                     horizontalalignment=\"center\",\n",
    "                     color=\"white\" if cm[i, j] > thresh else \"black\")\n",
    "\n",
    "\n",
    "    plt.tight_layout()\n",
    "    plt.ylabel('True label')\n",
    "    plt.xlabel('Predicted label\\naccuracy={:0.4f}; misclass={:0.4f}'.format(accuracy, misclass))\n",
    "    plt.show()"
   ]
  },
  {
   "cell_type": "code",
   "execution_count": 74,
   "id": "2d5a336a-5656-498f-8f41-355820a59f18",
   "metadata": {},
   "outputs": [
    {
     "name": "stderr",
     "output_type": "stream",
     "text": [
      "C:\\Users\\Osgiliath\\AppData\\Local\\Temp\\ipykernel_20252\\1635916123.py:52: MatplotlibDeprecationWarning: Auto-removal of grids by pcolor() and pcolormesh() is deprecated since 3.5 and will be removed two minor releases later; please call grid(False) first.\n",
      "  plt.colorbar()\n"
     ]
    },
    {
     "data": {
      "image/png": "[encoded data removed]",
      "text/plain": [
       "<Figure size 576x432 with 2 Axes>"
      ]
     },
     "metadata": {},
     "output_type": "display_data"
    }
   ],
   "source": [
    "plot_confusion_matrix(cm, class_names)"
   ]
  },
  {
   "cell_type": "code",
   "execution_count": 80,
   "id": "07f47442-930e-4949-81f9-b5188d2305bc",
   "metadata": {},
   "outputs": [
    {
     "name": "stdout",
     "output_type": "stream",
     "text": [
      "              precision    recall  f1-score   support\n",
      "\n",
      "         2.0       0.00      0.00      0.00         1\n",
      "         3.0       0.56      0.17      0.26        54\n",
      "         3.5       0.53      0.62      0.57        92\n",
      "         4.0       0.54      0.77      0.63        74\n",
      "         5.0       0.00      0.00      0.00         9\n",
      "\n",
      "    accuracy                           0.53       230\n",
      "   macro avg       0.33      0.31      0.29       230\n",
      "weighted avg       0.52      0.53      0.49       230\n",
      "\n"
     ]
    },
    {
     "name": "stderr",
     "output_type": "stream",
     "text": [
      "C:\\Users\\Osgiliath\\anaconda3\\lib\\site-packages\\sklearn\\metrics\\_classification.py:1318: UndefinedMetricWarning: Precision and F-score are ill-defined and being set to 0.0 in labels with no predicted samples. Use `zero_division` parameter to control this behavior.\n",
      "  _warn_prf(average, modifier, msg_start, len(result))\n",
      "C:\\Users\\Osgiliath\\anaconda3\\lib\\site-packages\\sklearn\\metrics\\_classification.py:1318: UndefinedMetricWarning: Precision and F-score are ill-defined and being set to 0.0 in labels with no predicted samples. Use `zero_division` parameter to control this behavior.\n",
      "  _warn_prf(average, modifier, msg_start, len(result))\n",
      "C:\\Users\\Osgiliath\\anaconda3\\lib\\site-packages\\sklearn\\metrics\\_classification.py:1318: UndefinedMetricWarning: Precision and F-score are ill-defined and being set to 0.0 in labels with no predicted samples. Use `zero_division` parameter to control this behavior.\n",
      "  _warn_prf(average, modifier, msg_start, len(result))\n"
     ]
    }
   ],
   "source": [
    "class_list = [str(item) for item in class_names]\n",
    "\n",
    "classification_rpt = classification_report(target_test, features_predict, target_names = class_list)\n",
    "print(classification_rpt)"
   ]
  },
  {
   "cell_type": "markdown",
   "id": "86b4c81d-773f-44b0-b3cc-067cb060dcae",
   "metadata": {},
   "source": [
    "Looking at the F1-score, the model seems to correctly predict ratings of 3.5 and 4 better than the lower scores.  This could be due to the fact that there were more samples of these ratings then the others."
   ]
  },
  {
   "cell_type": "markdown",
   "id": "badfe3de-39fc-4f17-bea4-92d4d1f5ce08",
   "metadata": {},
   "source": [
    "### Step 2: Reduce Number of Features with PCA"
   ]
  },
  {
   "cell_type": "code",
   "execution_count": 81,
   "id": "1c6fe4c5-9168-439d-9886-5f535994f509",
   "metadata": {},
   "outputs": [],
   "source": [
    "search_space = [{'rf__n_estimators': [10, 100, 1000],\n",
    "                 'rf__max_features': [1, 2, 3]}]\n",
    "\n",
    "# Construct some pipelines\n",
    "pipe_pca = Pipeline([\n",
    "    ('pca', PCA(n_components = 0.90, whiten = True)),\n",
    "    ('rf', RandomForestClassifier())\n",
    "])"
   ]
  },
  {
   "cell_type": "code",
   "execution_count": 82,
   "id": "7def945f-1de9-42a5-81c8-c445c9b00baa",
   "metadata": {},
   "outputs": [
    {
     "data": {
      "text/plain": [
       "Pipeline(steps=[('pca', PCA(n_components=0.9, whiten=True)),\n",
       "                ('rf', RandomForestClassifier())])"
      ]
     },
     "execution_count": 82,
     "metadata": {},
     "output_type": "execute_result"
    }
   ],
   "source": [
    "# Fit the pipelines\n",
    "pipe_pca.fit(features_train, target_train)"
   ]
  },
  {
   "cell_type": "code",
   "execution_count": 83,
   "id": "e489749e-9017-46ce-b77f-a17b85978fa3",
   "metadata": {},
   "outputs": [
    {
     "data": {
      "text/plain": [
       "0.47391304347826085"
      ]
     },
     "execution_count": 83,
     "metadata": {},
     "output_type": "execute_result"
    }
   ],
   "source": [
    "pipe_pca.score(features_test, target_test)"
   ]
  },
  {
   "cell_type": "code",
   "execution_count": 84,
   "id": "e8a20546-1307-4bb8-b331-c08892bdd27e",
   "metadata": {},
   "outputs": [],
   "source": [
    "features_predict_pca = pipe_pca.predict(features_test)"
   ]
  },
  {
   "cell_type": "code",
   "execution_count": 85,
   "id": "ae1329fb-3188-491d-8c62-d3a8e4fd957b",
   "metadata": {},
   "outputs": [
    {
     "data": {
      "text/plain": [
       "0.5347826086956522"
      ]
     },
     "execution_count": 85,
     "metadata": {},
     "output_type": "execute_result"
    }
   ],
   "source": [
    "np.sum(features_predict == target_test)/len(target_test)"
   ]
  },
  {
   "cell_type": "code",
   "execution_count": 86,
   "id": "c7b733b8-426a-4ed7-a739-dafb2708070d",
   "metadata": {},
   "outputs": [],
   "source": [
    "cm_pca = confusion_matrix(target_test, features_predict_pca)"
   ]
  },
  {
   "cell_type": "code",
   "execution_count": 87,
   "id": "56db3485-59f6-4f57-9c5f-7140087574e2",
   "metadata": {},
   "outputs": [
    {
     "name": "stderr",
     "output_type": "stream",
     "text": [
      "C:\\Users\\Osgiliath\\AppData\\Local\\Temp\\ipykernel_20252\\1635916123.py:52: MatplotlibDeprecationWarning: Auto-removal of grids by pcolor() and pcolormesh() is deprecated since 3.5 and will be removed two minor releases later; please call grid(False) first.\n",
      "  plt.colorbar()\n"
     ]
    },
    {
     "data": {
      "image/png": "[encoded data removed]",
      "text/plain": [
       "<Figure size 576x432 with 2 Axes>"
      ]
     },
     "metadata": {},
     "output_type": "display_data"
    }
   ],
   "source": [
    "plot_confusion_matrix(cm_pca, class_names)"
   ]
  },
  {
   "cell_type": "code",
   "execution_count": 88,
   "id": "97ab006d-b30f-4312-a79f-bdff6b30b5e0",
   "metadata": {},
   "outputs": [
    {
     "name": "stdout",
     "output_type": "stream",
     "text": [
      "              precision    recall  f1-score   support\n",
      "\n",
      "         2.0       0.00      0.00      0.00         1\n",
      "         3.0       0.55      0.11      0.18        54\n",
      "         3.5       0.45      0.67      0.54        92\n",
      "         4.0       0.51      0.55      0.53        74\n",
      "         5.0       0.00      0.00      0.00         9\n",
      "\n",
      "    accuracy                           0.47       230\n",
      "   macro avg       0.30      0.27      0.25       230\n",
      "weighted avg       0.47      0.47      0.43       230\n",
      "\n"
     ]
    },
    {
     "name": "stderr",
     "output_type": "stream",
     "text": [
      "C:\\Users\\Osgiliath\\anaconda3\\lib\\site-packages\\sklearn\\metrics\\_classification.py:1318: UndefinedMetricWarning: Precision and F-score are ill-defined and being set to 0.0 in labels with no predicted samples. Use `zero_division` parameter to control this behavior.\n",
      "  _warn_prf(average, modifier, msg_start, len(result))\n",
      "C:\\Users\\Osgiliath\\anaconda3\\lib\\site-packages\\sklearn\\metrics\\_classification.py:1318: UndefinedMetricWarning: Precision and F-score are ill-defined and being set to 0.0 in labels with no predicted samples. Use `zero_division` parameter to control this behavior.\n",
      "  _warn_prf(average, modifier, msg_start, len(result))\n",
      "C:\\Users\\Osgiliath\\anaconda3\\lib\\site-packages\\sklearn\\metrics\\_classification.py:1318: UndefinedMetricWarning: Precision and F-score are ill-defined and being set to 0.0 in labels with no predicted samples. Use `zero_division` parameter to control this behavior.\n",
      "  _warn_prf(average, modifier, msg_start, len(result))\n"
     ]
    }
   ],
   "source": [
    "classification_rpt_pca = classification_report(target_test, features_predict_pca, target_names = class_list)\n",
    "print(classification_rpt_pca)"
   ]
  },
  {
   "cell_type": "markdown",
   "id": "a24abc16-2a81-4305-842a-81561052aefe",
   "metadata": {},
   "source": [
    "Looking at the F1-score, reducing the features does not improve the accuracy nor the predictions."
   ]
  },
  {
   "cell_type": "code",
   "execution_count": null,
   "id": "288b060e-8256-4765-8f42-e31416d3a2f9",
   "metadata": {},
   "outputs": [],
   "source": []
  }
 ],
 "metadata": {
  "kernelspec": {
   "display_name": "Python 3 (ipykernel)",
   "language": "python",
   "name": "python3"
  },
  "language_info": {
   "codemirror_mode": {
    "name": "ipython",
    "version": 3
   },
   "file_extension": ".py",
   "mimetype": "text/x-python",
   "name": "python",
   "nbconvert_exporter": "python",
   "pygments_lexer": "ipython3",
   "version": "3.8.8"
  }
 },
 "nbformat": 4,
 "nbformat_minor": 5
}
