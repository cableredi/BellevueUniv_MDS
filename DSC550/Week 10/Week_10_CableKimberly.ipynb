{
 "cells": [
  {
   "cell_type": "markdown",
   "id": "548f563b-6ce8-4d06-93b6-8822d7773a79",
   "metadata": {},
   "source": [
    "# DSC 550 \n",
    "\n",
    "### Week 10:  Exercise 10.2\n",
    "\n",
    "Author: Kimberly Cable<br>\n",
    "Date: 8-13-2022"
   ]
  },
  {
   "cell_type": "markdown",
   "id": "b7dc8c0d-7324-4ba6-931e-e983461c5be1",
   "metadata": {},
   "source": [
    "## Exercise 10.2: Building a CNN Image Classifier"
   ]
  },
  {
   "cell_type": "markdown",
   "id": "e4b0ab35-c769-4c45-99f0-23cf5b909199",
   "metadata": {},
   "source": [
    "In this exercise, you will build a convolutional neural network (CNN) to classify handwritten digits from the MNIST dataset. The steps to build a CNN classifier are outlined in section 20.15 of the Machine Learning with Python Cookbook, but keep in mind that your code may need to be modified depending on your version of Keras."
   ]
  },
  {
   "cell_type": "code",
   "execution_count": 31,
   "id": "adaa43f0-6b2e-48e7-bcb6-67cd6d92ea2f",
   "metadata": {},
   "outputs": [],
   "source": [
    "# import libraries\n",
    "import numpy as np\n",
    "import itertools\n",
    "import pandas as pd\n",
    "import seaborn as sns\n",
    "\n",
    "from keras.datasets import mnist\n",
    "from keras.models import Sequential\n",
    "from keras.layers import Dense, Dropout, Flatten\n",
    "from keras.layers.convolutional import Conv2D, MaxPooling2D\n",
    "from keras.layers import Activation\n",
    "from keras.utils import np_utils\n",
    "from keras import backend as K\n",
    "\n",
    "import matplotlib.pyplot as plt\n",
    "\n",
    "from sklearn.metrics import confusion_matrix, classification_report"
   ]
  },
  {
   "cell_type": "markdown",
   "id": "bc91e41c-c6b4-4375-ae83-b6b116ffcbab",
   "metadata": {},
   "source": [
    "**1. Load the MNIST data set.**"
   ]
  },
  {
   "cell_type": "code",
   "execution_count": 2,
   "id": "5d7d106a-1036-4ca0-a08f-734fa2102f6e",
   "metadata": {},
   "outputs": [],
   "source": [
    "(X_train, y_train), (X_test, y_test) = mnist.load_data()"
   ]
  },
  {
   "cell_type": "code",
   "execution_count": 3,
   "id": "bbeb8b09-704e-4675-aaad-995782b153a4",
   "metadata": {},
   "outputs": [
    {
     "name": "stdout",
     "output_type": "stream",
     "text": [
      "Training: 60000\n",
      "Test: 10000\n",
      "Height: 28\n",
      "Width: 28\n"
     ]
    }
   ],
   "source": [
    "# Get shape of the data\n",
    "n_train, height, width = X_train.shape\n",
    "n_test, _, _ = X_test.shape\n",
    "\n",
    "print(f\"Training: {n_train}\")\n",
    "print(f\"Test: {n_test}\")\n",
    "print(f\"Height: {height}\")\n",
    "print(f\"Width: {width}\")"
   ]
  },
  {
   "cell_type": "markdown",
   "id": "c30d7483-abe9-40c3-a337-405abe6e3e91",
   "metadata": {},
   "source": [
    "**2. Display the first five images in the training data set (see section 8.1 in the Machine Learning with Python Cookbook). Compare these to the first five training labels.**"
   ]
  },
  {
   "cell_type": "code",
   "execution_count": 4,
   "id": "6e6c3dd1-cb6b-4beb-a969-de03167334e2",
   "metadata": {},
   "outputs": [
    {
     "data": {
      "image/png": "[encoded data removed]",
      "text/plain": [
       "<Figure size 432x288 with 5 Axes>"
      ]
     },
     "metadata": {
      "needs_background": "light"
     },
     "output_type": "display_data"
    }
   ],
   "source": [
    "# Display first 5 images\n",
    "for i in range(5):  \n",
    "    plt.subplot(330 + 1 + i)\n",
    "    plt.imshow(X_train[i], cmap = plt.get_cmap('gray'))\n",
    "\n",
    "plt.show()"
   ]
  },
  {
   "cell_type": "markdown",
   "id": "e2a6a803-94d7-44b1-beab-6775f2374c30",
   "metadata": {},
   "source": [
    "**3. Build and train a Keras CNN classifier on the MNIST training set.**"
   ]
  },
  {
   "cell_type": "code",
   "execution_count": 5,
   "id": "ff6b77ad-227f-42ac-aaee-3f769e77a6dc",
   "metadata": {},
   "outputs": [],
   "source": [
    "# Reshape data into features\n",
    "X_train = X_train.reshape(n_train, height, width, 1).astype('float32')\n",
    "X_test = X_test.reshape(n_test, height, width, 1).astype('float32')"
   ]
  },
  {
   "cell_type": "code",
   "execution_count": 6,
   "id": "472360c8-39d7-4699-a8aa-9d7c3c778450",
   "metadata": {},
   "outputs": [],
   "source": [
    "# Normalize from [0, 255] to [0, 1]\n",
    "X_train /= 255\n",
    "X_test /= 255"
   ]
  },
  {
   "cell_type": "code",
   "execution_count": 7,
   "id": "cc6413b4-384d-4e7a-9401-b9779d1945b1",
   "metadata": {},
   "outputs": [],
   "source": [
    "# numbers 0-9, so ten classes\n",
    "n_classes = 10"
   ]
  },
  {
   "cell_type": "code",
   "execution_count": 8,
   "id": "bc95d559-9242-44c3-baa2-e40339b0b9b3",
   "metadata": {},
   "outputs": [],
   "source": [
    "# convert integer labels into one-hot vectors\n",
    "y_train = np_utils.to_categorical(y_train, n_classes)\n",
    "y_test = np_utils.to_categorical(y_test, n_classes)"
   ]
  },
  {
   "cell_type": "code",
   "execution_count": 9,
   "id": "f7130649-e90e-42a6-a789-070bbc38f0d4",
   "metadata": {},
   "outputs": [],
   "source": [
    "# Start nural network\n",
    "model = Sequential()"
   ]
  },
  {
   "cell_type": "code",
   "execution_count": 10,
   "id": "e8951b61-f512-4321-a7b4-076ff9efd7c9",
   "metadata": {},
   "outputs": [],
   "source": [
    "# number of convolutional filters\n",
    "n_filters = 64\n",
    "\n",
    "# convolution filter size\n",
    "# i.e. we will use a n_conv x n_conv filter\n",
    "n_conv = 5\n",
    "\n",
    "# pooling window size\n",
    "# i.e. we will use a n_pool x n_pool pooling window\n",
    "n_pool = 2"
   ]
  },
  {
   "cell_type": "code",
   "execution_count": 11,
   "id": "fd8deb78-77ac-4bab-bd74-1038f58cc6c1",
   "metadata": {},
   "outputs": [],
   "source": [
    "# add convolutional layer with 64 filters, a 5x5 window, and ReLU activation function\n",
    "model.add(Conv2D(\n",
    "        n_filters, \n",
    "        kernel_size=(n_conv, n_conv),\n",
    "        # we have a 28x28 single channel (grayscale) image\n",
    "        # so the input shape should be (28, 28, 1)\n",
    "        input_shape=(height, width, 1)\n",
    "))\n",
    "model.add(Activation('relu'))\n",
    "\n",
    "model.add(Conv2D(n_filters, kernel_size=(n_conv, n_conv)))\n",
    "model.add(Activation('relu'))\n",
    "\n",
    "# then we apply pooling to summarize the features\n",
    "# extracted thus far\n",
    "model.add(MaxPooling2D(pool_size=(n_pool, n_pool)))"
   ]
  },
  {
   "cell_type": "code",
   "execution_count": 12,
   "id": "2d37215e-78c2-41e0-b8bc-4d167bf51e4a",
   "metadata": {},
   "outputs": [],
   "source": [
    "model.add(Dropout(0.25))\n",
    "\n",
    "# flatten the data for the 1D layers\n",
    "model.add(Flatten())\n",
    "\n",
    "# Dense(n_outputs)\n",
    "model.add(Dense(128))\n",
    "model.add(Activation('relu'))\n",
    "model.add(Dropout(0.5))\n",
    "\n",
    "# the softmax output layer gives us a probablity for each class\n",
    "model.add(Dense(n_classes))\n",
    "model.add(Activation('softmax'))"
   ]
  },
  {
   "cell_type": "code",
   "execution_count": 13,
   "id": "c20a8e32-9566-487c-9f6b-8e4f06ed39a6",
   "metadata": {},
   "outputs": [],
   "source": [
    "# Compile the neural network\n",
    "model.compile(\n",
    "    loss='categorical_crossentropy',\n",
    "    optimizer='rmsprop',\n",
    "    metrics=['accuracy']\n",
    ")"
   ]
  },
  {
   "cell_type": "code",
   "execution_count": 14,
   "id": "91e8ba2f-86c8-49eb-a9fe-ab368edd73e2",
   "metadata": {},
   "outputs": [
    {
     "name": "stdout",
     "output_type": "stream",
     "text": [
      "Epoch 1/2\n",
      "60/60 [==============================] - 73s 1s/step - loss: 0.4677 - accuracy: 0.8505 - val_loss: 0.0851 - val_accuracy: 0.9724\n",
      "Epoch 2/2\n",
      "60/60 [==============================] - 74s 1s/step - loss: 0.1075 - accuracy: 0.9681 - val_loss: 0.0508 - val_accuracy: 0.9839\n"
     ]
    },
    {
     "data": {
      "text/plain": [
       "<tensorflow.python.keras.callbacks.History at 0x214404afa00>"
      ]
     },
     "execution_count": 14,
     "metadata": {},
     "output_type": "execute_result"
    }
   ],
   "source": [
    "# how many examples to look at during each update step\n",
    "batch_size = 1000\n",
    "\n",
    "# how many times to run through the full set of examples\n",
    "n_epochs = 2\n",
    "\n",
    "# fit the model\n",
    "model.fit(X_train,\n",
    "          y_train,\n",
    "          batch_size = batch_size,\n",
    "          epochs = n_epochs,\n",
    "          validation_data = (X_test, y_test))"
   ]
  },
  {
   "cell_type": "markdown",
   "id": "78bc4b2f-5066-4d84-bd18-99f727a682aa",
   "metadata": {},
   "source": [
    "**4. Report the test accuracy of your model.**"
   ]
  },
  {
   "cell_type": "code",
   "execution_count": 15,
   "id": "6ae9fe7d-6273-4309-b7a2-4554505422b2",
   "metadata": {},
   "outputs": [
    {
     "name": "stdout",
     "output_type": "stream",
     "text": [
      "loss: 0.05077590420842171\n",
      "accuracy: 0.9839000105857849\n"
     ]
    }
   ],
   "source": [
    "loss, accuracy = model.evaluate(X_test, y_test, verbose = 0, batch_size = 200)\n",
    "\n",
    "print('loss:', loss)\n",
    "print('accuracy:', accuracy)"
   ]
  },
  {
   "cell_type": "code",
   "execution_count": 16,
   "id": "d37d7263-755b-4c96-af5b-2f293fb7961b",
   "metadata": {},
   "outputs": [],
   "source": [
    "y_predict = np.argmax(model.predict(X_test), axis = 1)\n",
    "y_test_max = np.argmax(y_test,axis = 1) "
   ]
  },
  {
   "cell_type": "markdown",
   "id": "b95d0a1f-7261-4751-aa5a-d1c85d491aba",
   "metadata": {},
   "source": [
    "**5. Display a confusion matrix on the test set classifications.**"
   ]
  },
  {
   "cell_type": "code",
   "execution_count": 17,
   "id": "f4e0b510-9e56-48bc-a2ee-0440bd7b838d",
   "metadata": {},
   "outputs": [
    {
     "name": "stdout",
     "output_type": "stream",
     "text": [
      "[[ 974    1    0    0    0    1    1    1    1    1]\n",
      " [   0 1133    1    0    0    1    0    0    0    0]\n",
      " [   2    3 1017    0    2    0    0    6    2    0]\n",
      " [   0    0    2  999    0    6    0    3    0    0]\n",
      " [   1    0    0    0  971    0    1    1    0    8]\n",
      " [   1    0    0    2    0  888    1    0    0    0]\n",
      " [   7    3    0    0    2    6  940    0    0    0]\n",
      " [   0    4    6    0    0    1    0 1007    1    9]\n",
      " [   9    1    3    2    4   11    4    3  923   14]\n",
      " [   2    4    0    1    5    7    0    3    0  987]]\n"
     ]
    }
   ],
   "source": [
    "cm = confusion_matrix(y_test_max, y_predict)\n",
    "print(cm)"
   ]
  },
  {
   "cell_type": "code",
   "execution_count": 18,
   "id": "23289abf-9aab-48c2-9b58-c0bd4ccf0d25",
   "metadata": {},
   "outputs": [],
   "source": [
    "# Create a dataframe for a array-formatted Confusion matrix\n",
    "cm_df = pd.DataFrame(cm,\n",
    "                     index = range(10), \n",
    "                     columns = range(10))"
   ]
  },
  {
   "cell_type": "code",
   "execution_count": 29,
   "id": "938b2244-3b25-4294-b59f-50ac9210fdb3",
   "metadata": {},
   "outputs": [
    {
     "data": {
      "image/png": "[encoded data removed]",
      "text/plain": [
       "<Figure size 864x720 with 2 Axes>"
      ]
     },
     "metadata": {
      "needs_background": "light"
     },
     "output_type": "display_data"
    }
   ],
   "source": [
    "# Plot the confusion matrix\n",
    "plt.figure(figsize=(12, 10))\n",
    "sns.heatmap(cm_df, annot = True, cmap = 'Blues', fmt = 'g')\n",
    "plt.title('Confusion Matrix')\n",
    "plt.ylabel('Actual Values')\n",
    "plt.xlabel('Predicted Values')\n",
    "plt.show()"
   ]
  },
  {
   "cell_type": "markdown",
   "id": "a380c47a-1c73-4caf-b080-f6451bb07f14",
   "metadata": {},
   "source": [
    "**6. Summarize your results.**"
   ]
  },
  {
   "cell_type": "code",
   "execution_count": 33,
   "id": "083dc882-f6b4-4fd8-ad62-60d3e05be094",
   "metadata": {},
   "outputs": [
    {
     "name": "stdout",
     "output_type": "stream",
     "text": [
      "              precision    recall  f1-score   support\n",
      "\n",
      "           0       0.98      0.99      0.99       980\n",
      "           1       0.99      1.00      0.99      1135\n",
      "           2       0.99      0.99      0.99      1032\n",
      "           3       1.00      0.99      0.99      1010\n",
      "           4       0.99      0.99      0.99       982\n",
      "           5       0.96      1.00      0.98       892\n",
      "           6       0.99      0.98      0.99       958\n",
      "           7       0.98      0.98      0.98      1028\n",
      "           8       1.00      0.95      0.97       974\n",
      "           9       0.97      0.98      0.97      1009\n",
      "\n",
      "    accuracy                           0.98     10000\n",
      "   macro avg       0.98      0.98      0.98     10000\n",
      "weighted avg       0.98      0.98      0.98     10000\n",
      "\n"
     ]
    }
   ],
   "source": [
    "# Get the classification report\n",
    "class_list = [str(item) for item in range(10)]\n",
    "\n",
    "classification_rpt = classification_report(y_test_max, y_predict, target_names = class_list)\n",
    "print(classification_rpt)"
   ]
  },
  {
   "cell_type": "code",
   "execution_count": null,
   "id": "fbb797a6-2c29-44d9-9717-3e7478033571",
   "metadata": {},
   "outputs": [],
   "source": []
  }
 ],
 "metadata": {
  "kernelspec": {
   "display_name": "Python 3 (ipykernel)",
   "language": "python",
   "name": "python3"
  },
  "language_info": {
   "codemirror_mode": {
    "name": "ipython",
    "version": 3
   },
   "file_extension": ".py",
   "mimetype": "text/x-python",
   "name": "python",
   "nbconvert_exporter": "python",
   "pygments_lexer": "ipython3",
   "version": "3.8.8"
  }
 },
 "nbformat": 4,
 "nbformat_minor": 5
}
